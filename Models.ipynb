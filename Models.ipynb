{
 "cells": [
  {
   "cell_type": "code",
   "execution_count": 1,
   "metadata": {},
   "outputs": [],
   "source": [
    "import pandas as pd\n",
    "import numpy as np\n",
    "import datetime as dt\n",
    "import matplotlib.pyplot as plt\n",
    "import seaborn as sn\n",
    "import time\n",
    "import pickle\n",
    "# set image size to default\n",
    "plt.rcParams['figure.figsize']=(19,5)\n",
    "\n",
    "import patsy\n",
    "%matplotlib inline\n",
    "plt.style.use('seaborn')"
   ]
  },
  {
   "cell_type": "code",
   "execution_count": 8,
   "metadata": {},
   "outputs": [],
   "source": [
    "from sklearn.preprocessing import StandardScaler\n",
    "from sklearn.linear_model import LinearRegression\n",
    "from sklearn.cross_validation import train_test_split\n",
    "from sklearn import metrics\n",
    "from sklearn.model_selection import cross_val_score, KFold\n",
    "from sklearn.pipeline import make_pipeline\n",
    "from sklearn.preprocessing import PolynomialFeatures\n",
    "from sklearn.linear_model import Ridge, Lasso\n",
    "from sklearn.model_selection import GridSearchCV\n",
    "from sklearn.metrics import mean_squared_error\n",
    "from sklearn.dummy import DummyRegressor\n",
    "from sklearn import metrics\n",
    "from sklearn.metrics import precision_score, recall_score, fbeta_score, make_scorer, roc_auc_score, roc_curve, classification_report\n",
    "from sklearn.svm import LinearSVC\n",
    "from sklearn.tree import DecisionTreeClassifier\n",
    "from sklearn.ensemble import RandomForestRegressor"
   ]
  },
  {
   "cell_type": "code",
   "execution_count": 3,
   "metadata": {},
   "outputs": [],
   "source": [
    "with open ('TimeSeries.pkl', 'rb') as file:\n",
    "    df_weather = pickle.load(file)"
   ]
  },
  {
   "cell_type": "code",
   "execution_count": 4,
   "metadata": {},
   "outputs": [],
   "source": [
    "# Scale data\n",
    "ssX = StandardScaler()\n",
    "exclude = ['Trip Total','Trip Seconds', '-L']\n",
    "X = df_weather[[x for x in df_weather.columns if x not in exclude]]\n",
    "y1 = df_weather['-L']\n",
    "X_train, X_test, y1_train, y1_test = train_test_split(X, y1, test_size = 0.2, random_state=42)\n",
    "\n",
    "X_train_scaled = ssX.fit_transform(X_train)\n",
    "X_test_scaled = ssX.transform(X_test)"
   ]
  },
  {
   "cell_type": "code",
   "execution_count": 5,
   "metadata": {},
   "outputs": [],
   "source": [
    "def train_scores(lr):\n",
    "    kfold = KFold(n_splits=5)\n",
    "    results = {\n",
    "        'train': [],\n",
    "        'validation': []\n",
    "    }\n",
    "    for train_indicies, test_indicies in kfold.split(X_train_scaled):\n",
    "        lr.fit(X_train_scaled[train_indicies], y1_train.values[train_indicies])\n",
    "        predictions = lr.predict(X_train_scaled[train_indicies])\n",
    "        train_score = np.mean(-abs(predictions - y1_train.values[train_indicies]))\n",
    "        \n",
    "        predictions = lr.predict(X_train_scaled[test_indicies])\n",
    "        val_score = np.mean(-abs(predictions - y1_train.values[test_indicies]))\n",
    "        \n",
    "        results['train'].append(train_score)\n",
    "        results['validation'].append(val_score)\n",
    "        \n",
    "    return results"
   ]
  },
  {
   "cell_type": "markdown",
   "metadata": {},
   "source": [
    "## Build a Linear model on demand"
   ]
  },
  {
   "cell_type": "code",
   "execution_count": 13,
   "metadata": {},
   "outputs": [
    {
     "name": "stdout",
     "output_type": "stream",
     "text": [
      "RMSE for model is 5.038365674460532\n"
     ]
    }
   ],
   "source": [
    "model1 = LinearRegression()\n",
    "model1.fit(X_train_scaled, y1_train)\n",
    "y1_predict = model1.predict(X_test_scaled)\n",
    "print('RMSE for model is ' + str(np.sqrt(mean_squared_error(y1_test, y1_predict))))"
   ]
  },
  {
   "cell_type": "code",
   "execution_count": 12,
   "metadata": {},
   "outputs": [
    {
     "name": "stdout",
     "output_type": "stream",
     "text": [
      "RMSE for dummy is 14.90287842719264\n"
     ]
    }
   ],
   "source": [
    "dummy = DummyRegressor()\n",
    "dummy.fit(X_train_scaled, y1_train)\n",
    "yd_predict = dummy.predict(X_test_scaled)\n",
    "print('RMSE for dummy is ' + str(np.sqrt(mean_squared_error(y1_test, yd_predict))))"
   ]
  },
  {
   "cell_type": "markdown",
   "metadata": {},
   "source": [
    "## GridSearch on Linear Regression - Lasso"
   ]
  },
  {
   "cell_type": "code",
   "execution_count": 16,
   "metadata": {},
   "outputs": [
    {
     "name": "stdout",
     "output_type": "stream",
     "text": [
      "CPU times: user 55.7 s, sys: 814 ms, total: 56.5 s\n",
      "Wall time: 57 s\n"
     ]
    }
   ],
   "source": [
    "%%time\n",
    "model1 = Lasso(max_iter=5000)\n",
    "parameters = {'alpha': [1e-10, 1e-7, 1e-5,1e-3], 'fit_intercept': [True,False]}\n",
    "grid1 = GridSearchCV(model1,parameters, cv=5, scoring='neg_mean_squared_error', n_jobs=1)\n",
    "grid1.fit(X_train, y1_train)"
   ]
  },
  {
   "cell_type": "code",
   "execution_count": 18,
   "metadata": {},
   "outputs": [
    {
     "name": "stderr",
     "output_type": "stream",
     "text": [
      "/anaconda3/lib/python3.6/site-packages/sklearn/utils/deprecation.py:122: FutureWarning: You are accessing a training score ('mean_train_score'), which will not be available by default any more in 0.21. If you need training scores, please set return_train_score=True\n",
      "  warnings.warn(*warn_args, **warn_kwargs)\n",
      "/anaconda3/lib/python3.6/site-packages/sklearn/utils/deprecation.py:122: FutureWarning: You are accessing a training score ('split0_train_score'), which will not be available by default any more in 0.21. If you need training scores, please set return_train_score=True\n",
      "  warnings.warn(*warn_args, **warn_kwargs)\n",
      "/anaconda3/lib/python3.6/site-packages/sklearn/utils/deprecation.py:122: FutureWarning: You are accessing a training score ('split1_train_score'), which will not be available by default any more in 0.21. If you need training scores, please set return_train_score=True\n",
      "  warnings.warn(*warn_args, **warn_kwargs)\n",
      "/anaconda3/lib/python3.6/site-packages/sklearn/utils/deprecation.py:122: FutureWarning: You are accessing a training score ('split2_train_score'), which will not be available by default any more in 0.21. If you need training scores, please set return_train_score=True\n",
      "  warnings.warn(*warn_args, **warn_kwargs)\n",
      "/anaconda3/lib/python3.6/site-packages/sklearn/utils/deprecation.py:122: FutureWarning: You are accessing a training score ('split3_train_score'), which will not be available by default any more in 0.21. If you need training scores, please set return_train_score=True\n",
      "  warnings.warn(*warn_args, **warn_kwargs)\n",
      "/anaconda3/lib/python3.6/site-packages/sklearn/utils/deprecation.py:122: FutureWarning: You are accessing a training score ('split4_train_score'), which will not be available by default any more in 0.21. If you need training scores, please set return_train_score=True\n",
      "  warnings.warn(*warn_args, **warn_kwargs)\n",
      "/anaconda3/lib/python3.6/site-packages/sklearn/utils/deprecation.py:122: FutureWarning: You are accessing a training score ('std_train_score'), which will not be available by default any more in 0.21. If you need training scores, please set return_train_score=True\n",
      "  warnings.warn(*warn_args, **warn_kwargs)\n"
     ]
    },
    {
     "data": {
      "text/plain": [
       "{'mean_fit_time': array([1.27716079, 3.0306715 , 1.00108314, 2.02410798, 0.74895754,\n",
       "        1.52068262, 0.4826088 , 1.00250583]),\n",
       " 'mean_score_time': array([0.0038403 , 0.00313816, 0.00262861, 0.00245938, 0.00250521,\n",
       "        0.00253339, 0.00268359, 0.0025784 ]),\n",
       " 'mean_test_score': array([-25.1573212 , -25.25567401, -25.15732116, -25.255674  ,\n",
       "        -25.15731684, -25.25567258, -25.15745118, -25.25537721]),\n",
       " 'mean_train_score': array([-25.14242325, -25.24092772, -25.14242325, -25.24092772,\n",
       "        -25.1424233 , -25.24092776, -25.14265608, -25.24109117]),\n",
       " 'param_alpha': masked_array(data=[1e-10, 1e-10, 1e-07, 1e-07, 1e-05, 1e-05, 0.001, 0.001],\n",
       "              mask=[False, False, False, False, False, False, False, False],\n",
       "        fill_value='?',\n",
       "             dtype=object),\n",
       " 'param_fit_intercept': masked_array(data=[True, False, True, False, True, False, True, False],\n",
       "              mask=[False, False, False, False, False, False, False, False],\n",
       "        fill_value='?',\n",
       "             dtype=object),\n",
       " 'params': [{'alpha': 1e-10, 'fit_intercept': True},\n",
       "  {'alpha': 1e-10, 'fit_intercept': False},\n",
       "  {'alpha': 1e-07, 'fit_intercept': True},\n",
       "  {'alpha': 1e-07, 'fit_intercept': False},\n",
       "  {'alpha': 1e-05, 'fit_intercept': True},\n",
       "  {'alpha': 1e-05, 'fit_intercept': False},\n",
       "  {'alpha': 0.001, 'fit_intercept': True},\n",
       "  {'alpha': 0.001, 'fit_intercept': False}],\n",
       " 'rank_test_score': array([3, 8, 2, 7, 1, 6, 4, 5], dtype=int32),\n",
       " 'split0_test_score': array([-25.65456466, -25.73604809, -25.65456457, -25.73604813,\n",
       "        -25.6545564 , -25.73605272, -25.65455326, -25.73610087]),\n",
       " 'split0_train_score': array([-25.01783346, -25.12050499, -25.01783346, -25.12050499,\n",
       "        -25.01783351, -25.12050503, -25.01810863, -25.1206503 ]),\n",
       " 'split1_test_score': array([-25.10421128, -25.19875953, -25.1042112 , -25.19875953,\n",
       "        -25.10420297, -25.19876001, -25.10345872, -25.19892916]),\n",
       " 'split1_train_score': array([-25.15601313, -25.25548386, -25.15601313, -25.25548386,\n",
       "        -25.15601317, -25.25548389, -25.1562317 , -25.25565309]),\n",
       " 'split2_test_score': array([-24.9878729 , -25.11157712, -24.98787293, -25.1115772 ,\n",
       "        -24.98787567, -25.11158472, -24.98816003, -25.11155406]),\n",
       " 'split2_train_score': array([-25.185058  , -25.27714844, -25.185058  , -25.27714844,\n",
       "        -25.18505804, -25.27714847, -25.18527381, -25.2772968 ]),\n",
       " 'split3_test_score': array([-24.93259803, -25.03225006, -24.932598  , -25.03224998,\n",
       "        -24.93259452, -25.03224281, -24.9328589 , -25.03130996]),\n",
       " 'split3_train_score': array([-25.19883869, -25.29710953, -25.19883869, -25.29710953,\n",
       "        -25.19883874, -25.29710958, -25.19907783, -25.29724757]),\n",
       " 'split4_test_score': array([-25.10734749, -25.19972341, -25.10734744, -25.19972328,\n",
       "        -25.10734297, -25.19971078, -25.10821336, -25.19898011]),\n",
       " 'split4_train_score': array([-25.15437297, -25.25439177, -25.15437297, -25.25439177,\n",
       "        -25.15437303, -25.25439181, -25.15458843, -25.25460808]),\n",
       " 'std_fit_time': array([0.03448012, 0.13803884, 0.03113644, 0.01878605, 0.00762009,\n",
       "        0.02214761, 0.00473268, 0.05605268]),\n",
       " 'std_score_time': array([1.06582201e-03, 4.93564779e-04, 1.60092876e-04, 1.43274260e-04,\n",
       "        2.09329536e-04, 5.97883065e-05, 6.16002695e-04, 2.71409184e-04]),\n",
       " 'std_test_score': array([0.2575988 , 0.24811857, 0.25759877, 0.2481186 , 0.25759637,\n",
       "        0.24812134, 0.25750907, 0.24833705]),\n",
       " 'std_train_score': array([0.06457634, 0.06223043, 0.06457634, 0.06223043, 0.06457634,\n",
       "        0.06223043, 0.06455762, 0.06223367])}"
      ]
     },
     "execution_count": 18,
     "metadata": {},
     "output_type": "execute_result"
    }
   ],
   "source": [
    "grid1.cv_results_"
   ]
  },
  {
   "cell_type": "code",
   "execution_count": 19,
   "metadata": {},
   "outputs": [
    {
     "data": {
      "text/plain": [
       "5.038365786271146"
      ]
     },
     "execution_count": 19,
     "metadata": {},
     "output_type": "execute_result"
    }
   ],
   "source": [
    "best_lasso = grid1.best_estimator_\n",
    "lasso_pred = best_lasso.predict(X_test)\n",
    "np.sqrt(mean_squared_error(y1_test, lasso_pred))"
   ]
  },
  {
   "cell_type": "markdown",
   "metadata": {},
   "source": [
    "## GridSearch on Linear Regression - Ridge"
   ]
  },
  {
   "cell_type": "code",
   "execution_count": 20,
   "metadata": {},
   "outputs": [
    {
     "data": {
      "text/plain": [
       "GridSearchCV(cv=5, error_score='raise',\n",
       "       estimator=Ridge(alpha=1.0, copy_X=True, fit_intercept=True, max_iter=5000,\n",
       "   normalize=False, random_state=None, solver='auto', tol=0.001),\n",
       "       fit_params=None, iid=True, n_jobs=1,\n",
       "       param_grid={'alpha': [1, 2, 3, 4, 5], 'fit_intercept': [True, False]},\n",
       "       pre_dispatch='2*n_jobs', refit=True, return_train_score='warn',\n",
       "       scoring='neg_mean_squared_error', verbose=0)"
      ]
     },
     "execution_count": 20,
     "metadata": {},
     "output_type": "execute_result"
    }
   ],
   "source": [
    "model2 = Ridge(max_iter=5000)\n",
    "parameters = {'alpha': [1,2,3,4,5], 'fit_intercept': [True,False]}\n",
    "grid2 = GridSearchCV(model2,parameters, cv=5, scoring='neg_mean_squared_error', n_jobs=1)\n",
    "grid2.fit(X_train, y1_train)"
   ]
  },
  {
   "cell_type": "code",
   "execution_count": 21,
   "metadata": {},
   "outputs": [
    {
     "name": "stderr",
     "output_type": "stream",
     "text": [
      "/anaconda3/lib/python3.6/site-packages/sklearn/utils/deprecation.py:122: FutureWarning: You are accessing a training score ('mean_train_score'), which will not be available by default any more in 0.21. If you need training scores, please set return_train_score=True\n",
      "  warnings.warn(*warn_args, **warn_kwargs)\n",
      "/anaconda3/lib/python3.6/site-packages/sklearn/utils/deprecation.py:122: FutureWarning: You are accessing a training score ('split0_train_score'), which will not be available by default any more in 0.21. If you need training scores, please set return_train_score=True\n",
      "  warnings.warn(*warn_args, **warn_kwargs)\n",
      "/anaconda3/lib/python3.6/site-packages/sklearn/utils/deprecation.py:122: FutureWarning: You are accessing a training score ('split1_train_score'), which will not be available by default any more in 0.21. If you need training scores, please set return_train_score=True\n",
      "  warnings.warn(*warn_args, **warn_kwargs)\n",
      "/anaconda3/lib/python3.6/site-packages/sklearn/utils/deprecation.py:122: FutureWarning: You are accessing a training score ('split2_train_score'), which will not be available by default any more in 0.21. If you need training scores, please set return_train_score=True\n",
      "  warnings.warn(*warn_args, **warn_kwargs)\n",
      "/anaconda3/lib/python3.6/site-packages/sklearn/utils/deprecation.py:122: FutureWarning: You are accessing a training score ('split3_train_score'), which will not be available by default any more in 0.21. If you need training scores, please set return_train_score=True\n",
      "  warnings.warn(*warn_args, **warn_kwargs)\n",
      "/anaconda3/lib/python3.6/site-packages/sklearn/utils/deprecation.py:122: FutureWarning: You are accessing a training score ('split4_train_score'), which will not be available by default any more in 0.21. If you need training scores, please set return_train_score=True\n",
      "  warnings.warn(*warn_args, **warn_kwargs)\n",
      "/anaconda3/lib/python3.6/site-packages/sklearn/utils/deprecation.py:122: FutureWarning: You are accessing a training score ('std_train_score'), which will not be available by default any more in 0.21. If you need training scores, please set return_train_score=True\n",
      "  warnings.warn(*warn_args, **warn_kwargs)\n"
     ]
    },
    {
     "data": {
      "text/plain": [
       "{'mean_fit_time': array([0.03586049, 0.02565622, 0.02569513, 0.02474899, 0.03220153,\n",
       "        0.02436008, 0.02625413, 0.02530699, 0.02841249, 0.02564354]),\n",
       " 'mean_score_time': array([0.00290604, 0.00386195, 0.00252213, 0.00240397, 0.00268173,\n",
       "        0.00246539, 0.00238147, 0.00525599, 0.00289826, 0.00251155]),\n",
       " 'mean_test_score': array([-25.15732039, -25.25567335, -25.15731957, -25.25567269,\n",
       "        -25.15731877, -25.25567204, -25.15731797, -25.25567139,\n",
       "        -25.15731718, -25.25567074]),\n",
       " 'mean_train_score': array([-25.14242325, -25.24092772, -25.14242326, -25.24092772,\n",
       "        -25.14242326, -25.24092772, -25.14242327, -25.24092773,\n",
       "        -25.14242329, -25.24092774]),\n",
       " 'param_alpha': masked_array(data=[1, 1, 2, 2, 3, 3, 4, 4, 5, 5],\n",
       "              mask=[False, False, False, False, False, False, False, False,\n",
       "                    False, False],\n",
       "        fill_value='?',\n",
       "             dtype=object),\n",
       " 'param_fit_intercept': masked_array(data=[True, False, True, False, True, False, True, False,\n",
       "                    True, False],\n",
       "              mask=[False, False, False, False, False, False, False, False,\n",
       "                    False, False],\n",
       "        fill_value='?',\n",
       "             dtype=object),\n",
       " 'params': [{'alpha': 1, 'fit_intercept': True},\n",
       "  {'alpha': 1, 'fit_intercept': False},\n",
       "  {'alpha': 2, 'fit_intercept': True},\n",
       "  {'alpha': 2, 'fit_intercept': False},\n",
       "  {'alpha': 3, 'fit_intercept': True},\n",
       "  {'alpha': 3, 'fit_intercept': False},\n",
       "  {'alpha': 4, 'fit_intercept': True},\n",
       "  {'alpha': 4, 'fit_intercept': False},\n",
       "  {'alpha': 5, 'fit_intercept': True},\n",
       "  {'alpha': 5, 'fit_intercept': False}],\n",
       " 'rank_test_score': array([ 5, 10,  4,  9,  3,  8,  2,  7,  1,  6], dtype=int32),\n",
       " 'split0_test_score': array([-25.65456323, -25.7360484 , -25.65456181, -25.73604871,\n",
       "        -25.65456041, -25.73604902, -25.65455902, -25.73604932,\n",
       "        -25.65455764, -25.73604963]),\n",
       " 'split0_train_score': array([-25.01783347, -25.12050499, -25.01783347, -25.12050499,\n",
       "        -25.01783348, -25.12050499, -25.0178335 , -25.12050499,\n",
       "        -25.01783351, -25.120505  ]),\n",
       " 'split1_test_score': array([-25.10420989, -25.19876082, -25.1042085 , -25.19876212,\n",
       "        -25.10420712, -25.19876342, -25.10420574, -25.19876472,\n",
       "        -25.10420436, -25.19876602]),\n",
       " 'split1_train_score': array([-25.15601313, -25.25548386, -25.15601313, -25.25548386,\n",
       "        -25.15601314, -25.25548387, -25.15601315, -25.25548387,\n",
       "        -25.15601316, -25.25548388]),\n",
       " 'split2_test_score': array([-24.98787281, -25.11157771, -24.98787273, -25.11157831,\n",
       "        -24.98787265, -25.1115789 , -24.98787257, -25.1115795 ,\n",
       "        -24.98787249, -25.1115801 ]),\n",
       " 'split2_train_score': array([-25.185058  , -25.27714844, -25.18505801, -25.27714844,\n",
       "        -25.18505801, -25.27714844, -25.18505802, -25.27714845,\n",
       "        -25.18505804, -25.27714845]),\n",
       " 'split3_test_score': array([-24.93259706, -25.03224901, -24.93259609, -25.03224796,\n",
       "        -24.93259514, -25.03224691, -24.93259418, -25.03224586,\n",
       "        -24.93259323, -25.03224482]),\n",
       " 'split3_train_score': array([-25.19883869, -25.29710953, -25.19883869, -25.29710953,\n",
       "        -25.1988387 , -25.29710954, -25.19883871, -25.29710954,\n",
       "        -25.19883872, -25.29710955]),\n",
       " 'split4_test_score': array([-25.10734728, -25.19971895, -25.10734708, -25.19971451,\n",
       "        -25.10734688, -25.19971009, -25.10734669, -25.19970567,\n",
       "        -25.1073465 , -25.19970128]),\n",
       " 'split4_train_score': array([-25.15437297, -25.25439177, -25.15437298, -25.25439178,\n",
       "        -25.15437298, -25.25439179, -25.15437299, -25.2543918 ,\n",
       "        -25.15437301, -25.25439181]),\n",
       " 'std_fit_time': array([0.00779555, 0.00384408, 0.00103904, 0.00076092, 0.00792644,\n",
       "        0.00039307, 0.00039581, 0.00096073, 0.00564399, 0.00230526]),\n",
       " 'std_score_time': array([9.33213109e-04, 2.06452972e-03, 1.92116537e-04, 6.64957923e-05,\n",
       "        5.32479979e-04, 9.35421068e-05, 6.62605681e-05, 5.02244846e-03,\n",
       "        5.29022480e-04, 1.69761020e-04]),\n",
       " 'std_test_score': array([0.25759849, 0.24811896, 0.25759819, 0.24811934, 0.25759789,\n",
       "        0.24811972, 0.2575976 , 0.24812009, 0.2575973 , 0.24812047]),\n",
       " 'std_train_score': array([0.06457634, 0.06223043, 0.06457634, 0.06223043, 0.06457634,\n",
       "        0.06223043, 0.06457634, 0.06223043, 0.06457634, 0.06223044])}"
      ]
     },
     "execution_count": 21,
     "metadata": {},
     "output_type": "execute_result"
    }
   ],
   "source": [
    "grid2.cv_results_"
   ]
  },
  {
   "cell_type": "code",
   "execution_count": 22,
   "metadata": {},
   "outputs": [
    {
     "name": "stdout",
     "output_type": "stream",
     "text": [
      "5.038365495247363\n"
     ]
    }
   ],
   "source": [
    "best_ridge = grid2.best_estimator_\n",
    "ridge_pred = best_ridge.predict(X_test)\n",
    "print(np.sqrt(mean_squared_error(y1_test, ridge_pred)))"
   ]
  },
  {
   "cell_type": "markdown",
   "metadata": {},
   "source": [
    "## Random Forest Classifer"
   ]
  },
  {
   "cell_type": "code",
   "execution_count": 23,
   "metadata": {},
   "outputs": [
    {
     "data": {
      "text/plain": [
       "GridSearchCV(cv=5, error_score='raise',\n",
       "       estimator=RandomForestRegressor(bootstrap=True, criterion='mse', max_depth=None,\n",
       "           max_features='auto', max_leaf_nodes=None,\n",
       "           min_impurity_decrease=0.0, min_impurity_split=None,\n",
       "           min_samples_leaf=1, min_samples_split=2,\n",
       "           min_weight_fraction_leaf=0.0, n_estimators=10, n_jobs=1,\n",
       "           oob_score=False, random_state=None, verbose=0, warm_start=False),\n",
       "       fit_params=None, iid=True, n_jobs=-1,\n",
       "       param_grid={'max_depth': [9, 10, 11], 'max_features': [9, 10, 11, 12]},\n",
       "       pre_dispatch='2*n_jobs', refit=True, return_train_score='warn',\n",
       "       scoring=None, verbose=0)"
      ]
     },
     "execution_count": 23,
     "metadata": {},
     "output_type": "execute_result"
    }
   ],
   "source": [
    "rf = RandomForestRegressor()\n",
    "parameters = {'max_depth': [9,10,11], 'max_features':[9,10,11,12]}\n",
    "grid3 = GridSearchCV(rf,parameters, cv=5, n_jobs=-1)\n",
    "grid3.fit(X_train, y1_train)"
   ]
  },
  {
   "cell_type": "code",
   "execution_count": 24,
   "metadata": {
    "scrolled": false
   },
   "outputs": [
    {
     "name": "stderr",
     "output_type": "stream",
     "text": [
      "/anaconda3/lib/python3.6/site-packages/sklearn/utils/deprecation.py:122: FutureWarning: You are accessing a training score ('mean_train_score'), which will not be available by default any more in 0.21. If you need training scores, please set return_train_score=True\n",
      "  warnings.warn(*warn_args, **warn_kwargs)\n",
      "/anaconda3/lib/python3.6/site-packages/sklearn/utils/deprecation.py:122: FutureWarning: You are accessing a training score ('split0_train_score'), which will not be available by default any more in 0.21. If you need training scores, please set return_train_score=True\n",
      "  warnings.warn(*warn_args, **warn_kwargs)\n",
      "/anaconda3/lib/python3.6/site-packages/sklearn/utils/deprecation.py:122: FutureWarning: You are accessing a training score ('split1_train_score'), which will not be available by default any more in 0.21. If you need training scores, please set return_train_score=True\n",
      "  warnings.warn(*warn_args, **warn_kwargs)\n",
      "/anaconda3/lib/python3.6/site-packages/sklearn/utils/deprecation.py:122: FutureWarning: You are accessing a training score ('split2_train_score'), which will not be available by default any more in 0.21. If you need training scores, please set return_train_score=True\n",
      "  warnings.warn(*warn_args, **warn_kwargs)\n",
      "/anaconda3/lib/python3.6/site-packages/sklearn/utils/deprecation.py:122: FutureWarning: You are accessing a training score ('split3_train_score'), which will not be available by default any more in 0.21. If you need training scores, please set return_train_score=True\n",
      "  warnings.warn(*warn_args, **warn_kwargs)\n",
      "/anaconda3/lib/python3.6/site-packages/sklearn/utils/deprecation.py:122: FutureWarning: You are accessing a training score ('split4_train_score'), which will not be available by default any more in 0.21. If you need training scores, please set return_train_score=True\n",
      "  warnings.warn(*warn_args, **warn_kwargs)\n",
      "/anaconda3/lib/python3.6/site-packages/sklearn/utils/deprecation.py:122: FutureWarning: You are accessing a training score ('std_train_score'), which will not be available by default any more in 0.21. If you need training scores, please set return_train_score=True\n",
      "  warnings.warn(*warn_args, **warn_kwargs)\n"
     ]
    },
    {
     "data": {
      "text/plain": [
       "{'mean_fit_time': array([1.70818467, 1.79513617, 1.96659918, 2.12555695, 1.80241995,\n",
       "        2.01333227, 2.25068178, 2.49709725, 2.15018506, 2.37582932,\n",
       "        2.46724057, 2.48473792]),\n",
       " 'mean_score_time': array([0.03183494, 0.03056087, 0.02875376, 0.03082466, 0.03322244,\n",
       "        0.03357468, 0.0343492 , 0.03544717, 0.04126959, 0.03844953,\n",
       "        0.0403666 , 0.03204713]),\n",
       " 'mean_test_score': array([0.88396744, 0.88396494, 0.88394518, 0.88380212, 0.88391424,\n",
       "        0.88382827, 0.88381401, 0.88369343, 0.88369897, 0.88324385,\n",
       "        0.88329601, 0.88351271]),\n",
       " 'mean_train_score': array([0.89495125, 0.89538698, 0.89551154, 0.89562207, 0.90117052,\n",
       "        0.90134283, 0.90167812, 0.90161387, 0.90823303, 0.90848168,\n",
       "        0.90882339, 0.9088941 ]),\n",
       " 'param_max_depth': masked_array(data=[9, 9, 9, 9, 10, 10, 10, 10, 11, 11, 11, 11],\n",
       "              mask=[False, False, False, False, False, False, False, False,\n",
       "                    False, False, False, False],\n",
       "        fill_value='?',\n",
       "             dtype=object),\n",
       " 'param_max_features': masked_array(data=[9, 10, 11, 12, 9, 10, 11, 12, 9, 10, 11, 12],\n",
       "              mask=[False, False, False, False, False, False, False, False,\n",
       "                    False, False, False, False],\n",
       "        fill_value='?',\n",
       "             dtype=object),\n",
       " 'params': [{'max_depth': 9, 'max_features': 9},\n",
       "  {'max_depth': 9, 'max_features': 10},\n",
       "  {'max_depth': 9, 'max_features': 11},\n",
       "  {'max_depth': 9, 'max_features': 12},\n",
       "  {'max_depth': 10, 'max_features': 9},\n",
       "  {'max_depth': 10, 'max_features': 10},\n",
       "  {'max_depth': 10, 'max_features': 11},\n",
       "  {'max_depth': 10, 'max_features': 12},\n",
       "  {'max_depth': 11, 'max_features': 9},\n",
       "  {'max_depth': 11, 'max_features': 10},\n",
       "  {'max_depth': 11, 'max_features': 11},\n",
       "  {'max_depth': 11, 'max_features': 12}],\n",
       " 'rank_test_score': array([ 1,  2,  3,  7,  4,  5,  6,  9,  8, 12, 11, 10], dtype=int32),\n",
       " 'split0_test_score': array([0.88333188, 0.88353142, 0.8830374 , 0.882926  , 0.88285725,\n",
       "        0.88360781, 0.88342651, 0.88333776, 0.88289558, 0.88312719,\n",
       "        0.88252256, 0.88279435]),\n",
       " 'split0_train_score': array([0.89510302, 0.89566924, 0.89577023, 0.89563028, 0.90120342,\n",
       "        0.90135163, 0.90193328, 0.90218791, 0.90799554, 0.90867884,\n",
       "        0.90848914, 0.90912942]),\n",
       " 'split1_test_score': array([0.88117999, 0.88124493, 0.88110762, 0.88050771, 0.88155358,\n",
       "        0.88061407, 0.88064871, 0.88139046, 0.88150809, 0.87995608,\n",
       "        0.88079453, 0.88017828]),\n",
       " 'split1_train_score': array([0.8953164 , 0.89619358, 0.89617834, 0.89648416, 0.90200336,\n",
       "        0.90215753, 0.90204279, 0.9021088 , 0.90906951, 0.90887211,\n",
       "        0.90966585, 0.90969781]),\n",
       " 'split2_test_score': array([0.88483223, 0.8846238 , 0.88474899, 0.88520359, 0.88496952,\n",
       "        0.88493006, 0.88477116, 0.88447092, 0.88477531, 0.88402229,\n",
       "        0.88378696, 0.88494155]),\n",
       " 'split2_train_score': array([0.89491102, 0.89513517, 0.89527518, 0.89525547, 0.90059725,\n",
       "        0.90125382, 0.90144239, 0.9013223 , 0.90794361, 0.90836753,\n",
       "        0.90873732, 0.90878592]),\n",
       " 'split3_test_score': array([0.88675798, 0.88673373, 0.88711671, 0.88669444, 0.88707781,\n",
       "        0.88647092, 0.88730147, 0.8862709 , 0.88616728, 0.8863628 ,\n",
       "        0.8860078 , 0.88636292]),\n",
       " 'split3_train_score': array([0.89427812, 0.89465631, 0.89468698, 0.89486461, 0.90066157,\n",
       "        0.90057404, 0.9010638 , 0.9008168 , 0.90789605, 0.90794355,\n",
       "        0.90827116, 0.90797339]),\n",
       " 'split4_test_score': array([0.88373523, 0.88369094, 0.88371528, 0.883679  , 0.88311313,\n",
       "        0.88351859, 0.8829223 , 0.8829972 , 0.88314867, 0.88275101,\n",
       "        0.88336833, 0.88328658]),\n",
       " 'split4_train_score': array([0.89514768, 0.89528058, 0.89564697, 0.89587585, 0.90138697,\n",
       "        0.90137715, 0.90190832, 0.90163353, 0.90826046, 0.90854639,\n",
       "        0.90895345, 0.90888395]),\n",
       " 'std_fit_time': array([0.03650398, 0.02488756, 0.03621246, 0.01678211, 0.01309487,\n",
       "        0.05585694, 0.05333781, 0.06993058, 0.05281802, 0.01765552,\n",
       "        0.05200534, 0.16921632]),\n",
       " 'std_score_time': array([0.00329707, 0.00158644, 0.00064973, 0.00286585, 0.00092675,\n",
       "        0.00124698, 0.00150591, 0.00241555, 0.00375543, 0.0009734 ,\n",
       "        0.00348527, 0.00532163]),\n",
       " 'std_test_score': array([0.00183099, 0.00177548, 0.00198158, 0.00209597, 0.00192111,\n",
       "        0.00193252, 0.00219284, 0.00162251, 0.0016124 , 0.0020688 ,\n",
       "        0.00170033, 0.0020905 ]),\n",
       " 'std_train_score': array([0.00036047, 0.00051747, 0.00050312, 0.0005506 , 0.0005156 ,\n",
       "        0.00050278, 0.00036988, 0.00050896, 0.00043684, 0.00031563,\n",
       "        0.00047974, 0.00055872])}"
      ]
     },
     "execution_count": 24,
     "metadata": {},
     "output_type": "execute_result"
    }
   ],
   "source": [
    "grid3.cv_results_"
   ]
  },
  {
   "cell_type": "code",
   "execution_count": 30,
   "metadata": {},
   "outputs": [
    {
     "name": "stdout",
     "output_type": "stream",
     "text": [
      "RMSE for model is 5.107723010362706\n"
     ]
    }
   ],
   "source": [
    "# find the best estimator in RF Regressor Grid Search\n",
    "rfm = grid3.best_estimator_\n",
    "y1_predict_rfm = rfm.predict(X_test)\n",
    "print('RMSE for model is ' + str(np.sqrt(mean_squared_error(y1_test, y1_predict_rfm))))"
   ]
  },
  {
   "cell_type": "code",
   "execution_count": 34,
   "metadata": {},
   "outputs": [
    {
     "data": {
      "text/plain": [
       "array([16, 17, 15, 14,  0])"
      ]
     },
     "execution_count": 34,
     "metadata": {},
     "output_type": "execute_result"
    }
   ],
   "source": [
    "sorted_importance_indicies = np.argsort(abs(rfm.feature_importances_))\n",
    "rfm.feature_importances_.reshape(-1)[sorted_importance_indicies.reshape(-1)]\n",
    "sorted_importance_indicies.reshape(-1)[-5:]"
   ]
  },
  {
   "cell_type": "code",
   "execution_count": 36,
   "metadata": {},
   "outputs": [
    {
     "data": {
      "image/png": "[encoded data removed]",
      "text/plain": [
       "<matplotlib.figure.Figure at 0x1a14c614e0>"
      ]
     },
     "metadata": {},
     "output_type": "display_data"
    }
   ],
   "source": [
    "plt.figure(figsize=(18,10))\n",
    "plt.title(\"Feature Importance in Random Forest Regressor, Depth = 9\",fontsize=30)\n",
    "coefs_size = abs(rfm.feature_importances_.reshape(-1))\n",
    "labels = X_train.columns[sorted_importance_indicies.reshape(-1)[-10:]]\n",
    "plt.bar(labels, coefs_size[sorted_importance_indicies.reshape(-1)[-10:]])\n",
    "plt.xticks(fontsize=15)\n",
    "plt.yticks(fontsize=20)\n",
    "plt.xticks(rotation=5);"
   ]
  },
  {
   "cell_type": "markdown",
   "metadata": {},
   "source": [
    "## Linear SVM"
   ]
  },
  {
   "cell_type": "code",
   "execution_count": 37,
   "metadata": {},
   "outputs": [],
   "source": [
    "svc = LinearSVC()"
   ]
  },
  {
   "cell_type": "code",
   "execution_count": null,
   "metadata": {},
   "outputs": [
    {
     "name": "stderr",
     "output_type": "stream",
     "text": [
      "/anaconda3/lib/python3.6/site-packages/sklearn/model_selection/_split.py:605: Warning: The least populated class in y has only 1 members, which is too few. The minimum number of members in any class cannot be less than n_splits=5.\n",
      "  % (min_groups, self.n_splits)), Warning)\n"
     ]
    }
   ],
   "source": [
    "params  = [{'C':[1, 3, 5, 7, 9]}]\n",
    "svm1 = GridSearchCV(svc, params, cv=5, scoring = \"neg_mean_squared_error\")\n",
    "svm1.fit(X_train_scaled, y1_train)"
   ]
  },
  {
   "cell_type": "code",
   "execution_count": null,
   "metadata": {},
   "outputs": [],
   "source": []
  }
 ],
 "metadata": {
  "kernelspec": {
   "display_name": "Python 3",
   "language": "python",
   "name": "python3"
  },
  "language_info": {
   "codemirror_mode": {
    "name": "ipython",
    "version": 3
   },
   "file_extension": ".py",
   "mimetype": "text/x-python",
   "name": "python",
   "nbconvert_exporter": "python",
   "pygments_lexer": "ipython3",
   "version": "3.6.5"
  }
 },
 "nbformat": 4,
 "nbformat_minor": 2
}
