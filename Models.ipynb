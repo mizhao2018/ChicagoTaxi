{
 "cells": [
  {
   "cell_type": "code",
   "execution_count": 1,
   "metadata": {},
   "outputs": [],
   "source": [
    "import pandas as pd\n",
    "import numpy as np\n",
    "import datetime as dt\n",
    "import matplotlib.pyplot as plt\n",
    "import seaborn as sn\n",
    "import time\n",
    "import pickle\n",
    "# set image size to default\n",
    "plt.rcParams['figure.figsize']=(19,5)\n",
    "\n",
    "import patsy\n",
    "%matplotlib inline\n",
    "plt.style.use('seaborn')"
   ]
  },
  {
   "cell_type": "code",
   "execution_count": 23,
   "metadata": {},
   "outputs": [],
   "source": [
    "from sklearn.preprocessing import StandardScaler\n",
    "from sklearn.linear_model import LinearRegression\n",
    "from sklearn.cross_validation import train_test_split\n",
    "from sklearn import metrics\n",
    "from sklearn.model_selection import cross_val_score, KFold\n",
    "from sklearn.pipeline import make_pipeline\n",
    "from sklearn.preprocessing import PolynomialFeatures\n",
    "from sklearn.linear_model import Ridge, Lasso\n",
    "from sklearn.model_selection import GridSearchCV\n",
    "from sklearn.metrics import mean_squared_error\n",
    "from sklearn.dummy import DummyRegressor\n",
    "from sklearn import metrics\n",
    "from sklearn.metrics import precision_score, recall_score, fbeta_score, make_scorer, roc_auc_score, roc_curve, classification_report\n",
    "from sklearn.svm import LinearSVC\n",
    "from sklearn.tree import DecisionTreeClassifier\n",
    "from sklearn.ensemble import RandomForestClassifier, BaggingClassifier"
   ]
  },
  {
   "cell_type": "code",
   "execution_count": 2,
   "metadata": {},
   "outputs": [],
   "source": [
    "with open ('TimeSeries.pkl', 'rb') as file:\n",
    "    df_weather = pickle.load(file)"
   ]
  },
  {
   "cell_type": "code",
   "execution_count": 5,
   "metadata": {},
   "outputs": [],
   "source": [
    "# Scale data\n",
    "ssX = StandardScaler()\n",
    "exclude = ['Trip Total','Trip Seconds', '-L']\n",
    "X = df_weather[[x for x in df_weather.columns if x not in exclude]]\n",
    "y1 = df_weather['-L']\n",
    "X_train, X_test, y1_train, y1_test = train_test_split(X, y1, test_size = 0.2, random_state=42)\n",
    "\n",
    "X_train_scaled = ssX.fit_transform(X_train)\n",
    "X_test_scaled = ssX.transform(X_test)"
   ]
  },
  {
   "cell_type": "code",
   "execution_count": 6,
   "metadata": {},
   "outputs": [],
   "source": [
    "def train_scores(lr):\n",
    "    kfold = KFold(n_splits=5)\n",
    "    results = {\n",
    "        'train': [],\n",
    "        'validation': []\n",
    "    }\n",
    "    for train_indicies, test_indicies in kfold.split(X_train_scaled):\n",
    "        lr.fit(X_train_scaled[train_indicies], y1_train.values[train_indicies])\n",
    "        predictions = lr.predict(X_train_scaled[train_indicies])\n",
    "        train_score = np.mean(-abs(predictions - y1_train.values[train_indicies]))\n",
    "        \n",
    "        predictions = lr.predict(X_train_scaled[test_indicies])\n",
    "        val_score = np.mean(-abs(predictions - y1_train.values[test_indicies]))\n",
    "        \n",
    "        results['train'].append(train_score)\n",
    "        results['validation'].append(val_score)\n",
    "        \n",
    "    return results"
   ]
  },
  {
   "cell_type": "markdown",
   "metadata": {},
   "source": [
    "## Build a Linear model on demand"
   ]
  },
  {
   "cell_type": "code",
   "execution_count": 13,
   "metadata": {},
   "outputs": [
    {
     "name": "stdout",
     "output_type": "stream",
     "text": [
      "RMSE for model is 5.038365674460532\n"
     ]
    }
   ],
   "source": [
    "model1 = LinearRegression()\n",
    "model1.fit(X_train_scaled, y1_train)\n",
    "y1_predict = model1.predict(X_test_scaled)\n",
    "print('RMSE for model is ' + str(np.sqrt(mean_squared_error(y1_test, y1_predict))))"
   ]
  },
  {
   "cell_type": "code",
   "execution_count": 12,
   "metadata": {},
   "outputs": [
    {
     "name": "stdout",
     "output_type": "stream",
     "text": [
      "RMSE for dummy is 14.90287842719264\n"
     ]
    }
   ],
   "source": [
    "dummy = DummyRegressor()\n",
    "dummy.fit(X_train_scaled, y1_train)\n",
    "yd_predict = dummy.predict(X_test_scaled)\n",
    "print('RMSE for dummy is ' + str(np.sqrt(mean_squared_error(y1_test, yd_predict))))"
   ]
  },
  {
   "cell_type": "markdown",
   "metadata": {},
   "source": [
    "## GridSearch on Linear Regression - Lasso"
   ]
  },
  {
   "cell_type": "code",
   "execution_count": 16,
   "metadata": {},
   "outputs": [
    {
     "name": "stdout",
     "output_type": "stream",
     "text": [
      "CPU times: user 55.7 s, sys: 814 ms, total: 56.5 s\n",
      "Wall time: 57 s\n"
     ]
    }
   ],
   "source": [
    "%%time\n",
    "model1 = Lasso(max_iter=5000)\n",
    "parameters = {'alpha': [1e-10, 1e-7, 1e-5,1e-3], 'fit_intercept': [True,False]}\n",
    "grid1 = GridSearchCV(model1,parameters, cv=5, scoring='neg_mean_squared_error', n_jobs=1)\n",
    "grid1.fit(X_train, y1_train)"
   ]
  },
  {
   "cell_type": "code",
   "execution_count": 18,
   "metadata": {},
   "outputs": [
    {
     "name": "stderr",
     "output_type": "stream",
     "text": [
      "/anaconda3/lib/python3.6/site-packages/sklearn/utils/deprecation.py:122: FutureWarning: You are accessing a training score ('mean_train_score'), which will not be available by default any more in 0.21. If you need training scores, please set return_train_score=True\n",
      "  warnings.warn(*warn_args, **warn_kwargs)\n",
      "/anaconda3/lib/python3.6/site-packages/sklearn/utils/deprecation.py:122: FutureWarning: You are accessing a training score ('split0_train_score'), which will not be available by default any more in 0.21. If you need training scores, please set return_train_score=True\n",
      "  warnings.warn(*warn_args, **warn_kwargs)\n",
      "/anaconda3/lib/python3.6/site-packages/sklearn/utils/deprecation.py:122: FutureWarning: You are accessing a training score ('split1_train_score'), which will not be available by default any more in 0.21. If you need training scores, please set return_train_score=True\n",
      "  warnings.warn(*warn_args, **warn_kwargs)\n",
      "/anaconda3/lib/python3.6/site-packages/sklearn/utils/deprecation.py:122: FutureWarning: You are accessing a training score ('split2_train_score'), which will not be available by default any more in 0.21. If you need training scores, please set return_train_score=True\n",
      "  warnings.warn(*warn_args, **warn_kwargs)\n",
      "/anaconda3/lib/python3.6/site-packages/sklearn/utils/deprecation.py:122: FutureWarning: You are accessing a training score ('split3_train_score'), which will not be available by default any more in 0.21. If you need training scores, please set return_train_score=True\n",
      "  warnings.warn(*warn_args, **warn_kwargs)\n",
      "/anaconda3/lib/python3.6/site-packages/sklearn/utils/deprecation.py:122: FutureWarning: You are accessing a training score ('split4_train_score'), which will not be available by default any more in 0.21. If you need training scores, please set return_train_score=True\n",
      "  warnings.warn(*warn_args, **warn_kwargs)\n",
      "/anaconda3/lib/python3.6/site-packages/sklearn/utils/deprecation.py:122: FutureWarning: You are accessing a training score ('std_train_score'), which will not be available by default any more in 0.21. If you need training scores, please set return_train_score=True\n",
      "  warnings.warn(*warn_args, **warn_kwargs)\n"
     ]
    },
    {
     "data": {
      "text/plain": [
       "{'mean_fit_time': array([1.27716079, 3.0306715 , 1.00108314, 2.02410798, 0.74895754,\n",
       "        1.52068262, 0.4826088 , 1.00250583]),\n",
       " 'mean_score_time': array([0.0038403 , 0.00313816, 0.00262861, 0.00245938, 0.00250521,\n",
       "        0.00253339, 0.00268359, 0.0025784 ]),\n",
       " 'mean_test_score': array([-25.1573212 , -25.25567401, -25.15732116, -25.255674  ,\n",
       "        -25.15731684, -25.25567258, -25.15745118, -25.25537721]),\n",
       " 'mean_train_score': array([-25.14242325, -25.24092772, -25.14242325, -25.24092772,\n",
       "        -25.1424233 , -25.24092776, -25.14265608, -25.24109117]),\n",
       " 'param_alpha': masked_array(data=[1e-10, 1e-10, 1e-07, 1e-07, 1e-05, 1e-05, 0.001, 0.001],\n",
       "              mask=[False, False, False, False, False, False, False, False],\n",
       "        fill_value='?',\n",
       "             dtype=object),\n",
       " 'param_fit_intercept': masked_array(data=[True, False, True, False, True, False, True, False],\n",
       "              mask=[False, False, False, False, False, False, False, False],\n",
       "        fill_value='?',\n",
       "             dtype=object),\n",
       " 'params': [{'alpha': 1e-10, 'fit_intercept': True},\n",
       "  {'alpha': 1e-10, 'fit_intercept': False},\n",
       "  {'alpha': 1e-07, 'fit_intercept': True},\n",
       "  {'alpha': 1e-07, 'fit_intercept': False},\n",
       "  {'alpha': 1e-05, 'fit_intercept': True},\n",
       "  {'alpha': 1e-05, 'fit_intercept': False},\n",
       "  {'alpha': 0.001, 'fit_intercept': True},\n",
       "  {'alpha': 0.001, 'fit_intercept': False}],\n",
       " 'rank_test_score': array([3, 8, 2, 7, 1, 6, 4, 5], dtype=int32),\n",
       " 'split0_test_score': array([-25.65456466, -25.73604809, -25.65456457, -25.73604813,\n",
       "        -25.6545564 , -25.73605272, -25.65455326, -25.73610087]),\n",
       " 'split0_train_score': array([-25.01783346, -25.12050499, -25.01783346, -25.12050499,\n",
       "        -25.01783351, -25.12050503, -25.01810863, -25.1206503 ]),\n",
       " 'split1_test_score': array([-25.10421128, -25.19875953, -25.1042112 , -25.19875953,\n",
       "        -25.10420297, -25.19876001, -25.10345872, -25.19892916]),\n",
       " 'split1_train_score': array([-25.15601313, -25.25548386, -25.15601313, -25.25548386,\n",
       "        -25.15601317, -25.25548389, -25.1562317 , -25.25565309]),\n",
       " 'split2_test_score': array([-24.9878729 , -25.11157712, -24.98787293, -25.1115772 ,\n",
       "        -24.98787567, -25.11158472, -24.98816003, -25.11155406]),\n",
       " 'split2_train_score': array([-25.185058  , -25.27714844, -25.185058  , -25.27714844,\n",
       "        -25.18505804, -25.27714847, -25.18527381, -25.2772968 ]),\n",
       " 'split3_test_score': array([-24.93259803, -25.03225006, -24.932598  , -25.03224998,\n",
       "        -24.93259452, -25.03224281, -24.9328589 , -25.03130996]),\n",
       " 'split3_train_score': array([-25.19883869, -25.29710953, -25.19883869, -25.29710953,\n",
       "        -25.19883874, -25.29710958, -25.19907783, -25.29724757]),\n",
       " 'split4_test_score': array([-25.10734749, -25.19972341, -25.10734744, -25.19972328,\n",
       "        -25.10734297, -25.19971078, -25.10821336, -25.19898011]),\n",
       " 'split4_train_score': array([-25.15437297, -25.25439177, -25.15437297, -25.25439177,\n",
       "        -25.15437303, -25.25439181, -25.15458843, -25.25460808]),\n",
       " 'std_fit_time': array([0.03448012, 0.13803884, 0.03113644, 0.01878605, 0.00762009,\n",
       "        0.02214761, 0.00473268, 0.05605268]),\n",
       " 'std_score_time': array([1.06582201e-03, 4.93564779e-04, 1.60092876e-04, 1.43274260e-04,\n",
       "        2.09329536e-04, 5.97883065e-05, 6.16002695e-04, 2.71409184e-04]),\n",
       " 'std_test_score': array([0.2575988 , 0.24811857, 0.25759877, 0.2481186 , 0.25759637,\n",
       "        0.24812134, 0.25750907, 0.24833705]),\n",
       " 'std_train_score': array([0.06457634, 0.06223043, 0.06457634, 0.06223043, 0.06457634,\n",
       "        0.06223043, 0.06455762, 0.06223367])}"
      ]
     },
     "execution_count": 18,
     "metadata": {},
     "output_type": "execute_result"
    }
   ],
   "source": [
    "grid1.cv_results_"
   ]
  },
  {
   "cell_type": "code",
   "execution_count": 19,
   "metadata": {},
   "outputs": [
    {
     "data": {
      "text/plain": [
       "5.038365786271146"
      ]
     },
     "execution_count": 19,
     "metadata": {},
     "output_type": "execute_result"
    }
   ],
   "source": [
    "best_lasso = grid1.best_estimator_\n",
    "lasso_pred = best_lasso.predict(X_test)\n",
    "np.sqrt(mean_squared_error(y1_test, lasso_pred))"
   ]
  },
  {
   "cell_type": "markdown",
   "metadata": {},
   "source": [
    "## GridSearch on Linear Regression - Ridge"
   ]
  },
  {
   "cell_type": "code",
   "execution_count": 20,
   "metadata": {},
   "outputs": [
    {
     "data": {
      "text/plain": [
       "GridSearchCV(cv=5, error_score='raise',\n",
       "       estimator=Ridge(alpha=1.0, copy_X=True, fit_intercept=True, max_iter=5000,\n",
       "   normalize=False, random_state=None, solver='auto', tol=0.001),\n",
       "       fit_params=None, iid=True, n_jobs=1,\n",
       "       param_grid={'alpha': [1, 2, 3, 4, 5], 'fit_intercept': [True, False]},\n",
       "       pre_dispatch='2*n_jobs', refit=True, return_train_score='warn',\n",
       "       scoring='neg_mean_squared_error', verbose=0)"
      ]
     },
     "execution_count": 20,
     "metadata": {},
     "output_type": "execute_result"
    }
   ],
   "source": [
    "model2 = Ridge(max_iter=5000)\n",
    "parameters = {'alpha': [1,2,3,4,5], 'fit_intercept': [True,False]}\n",
    "grid2 = GridSearchCV(model2,parameters, cv=5, scoring='neg_mean_squared_error', n_jobs=1)\n",
    "grid2.fit(X_train, y1_train)"
   ]
  },
  {
   "cell_type": "code",
   "execution_count": 21,
   "metadata": {},
   "outputs": [
    {
     "name": "stderr",
     "output_type": "stream",
     "text": [
      "/anaconda3/lib/python3.6/site-packages/sklearn/utils/deprecation.py:122: FutureWarning: You are accessing a training score ('mean_train_score'), which will not be available by default any more in 0.21. If you need training scores, please set return_train_score=True\n",
      "  warnings.warn(*warn_args, **warn_kwargs)\n",
      "/anaconda3/lib/python3.6/site-packages/sklearn/utils/deprecation.py:122: FutureWarning: You are accessing a training score ('split0_train_score'), which will not be available by default any more in 0.21. If you need training scores, please set return_train_score=True\n",
      "  warnings.warn(*warn_args, **warn_kwargs)\n",
      "/anaconda3/lib/python3.6/site-packages/sklearn/utils/deprecation.py:122: FutureWarning: You are accessing a training score ('split1_train_score'), which will not be available by default any more in 0.21. If you need training scores, please set return_train_score=True\n",
      "  warnings.warn(*warn_args, **warn_kwargs)\n",
      "/anaconda3/lib/python3.6/site-packages/sklearn/utils/deprecation.py:122: FutureWarning: You are accessing a training score ('split2_train_score'), which will not be available by default any more in 0.21. If you need training scores, please set return_train_score=True\n",
      "  warnings.warn(*warn_args, **warn_kwargs)\n",
      "/anaconda3/lib/python3.6/site-packages/sklearn/utils/deprecation.py:122: FutureWarning: You are accessing a training score ('split3_train_score'), which will not be available by default any more in 0.21. If you need training scores, please set return_train_score=True\n",
      "  warnings.warn(*warn_args, **warn_kwargs)\n",
      "/anaconda3/lib/python3.6/site-packages/sklearn/utils/deprecation.py:122: FutureWarning: You are accessing a training score ('split4_train_score'), which will not be available by default any more in 0.21. If you need training scores, please set return_train_score=True\n",
      "  warnings.warn(*warn_args, **warn_kwargs)\n",
      "/anaconda3/lib/python3.6/site-packages/sklearn/utils/deprecation.py:122: FutureWarning: You are accessing a training score ('std_train_score'), which will not be available by default any more in 0.21. If you need training scores, please set return_train_score=True\n",
      "  warnings.warn(*warn_args, **warn_kwargs)\n"
     ]
    },
    {
     "data": {
      "text/plain": [
       "{'mean_fit_time': array([0.03586049, 0.02565622, 0.02569513, 0.02474899, 0.03220153,\n",
       "        0.02436008, 0.02625413, 0.02530699, 0.02841249, 0.02564354]),\n",
       " 'mean_score_time': array([0.00290604, 0.00386195, 0.00252213, 0.00240397, 0.00268173,\n",
       "        0.00246539, 0.00238147, 0.00525599, 0.00289826, 0.00251155]),\n",
       " 'mean_test_score': array([-25.15732039, -25.25567335, -25.15731957, -25.25567269,\n",
       "        -25.15731877, -25.25567204, -25.15731797, -25.25567139,\n",
       "        -25.15731718, -25.25567074]),\n",
       " 'mean_train_score': array([-25.14242325, -25.24092772, -25.14242326, -25.24092772,\n",
       "        -25.14242326, -25.24092772, -25.14242327, -25.24092773,\n",
       "        -25.14242329, -25.24092774]),\n",
       " 'param_alpha': masked_array(data=[1, 1, 2, 2, 3, 3, 4, 4, 5, 5],\n",
       "              mask=[False, False, False, False, False, False, False, False,\n",
       "                    False, False],\n",
       "        fill_value='?',\n",
       "             dtype=object),\n",
       " 'param_fit_intercept': masked_array(data=[True, False, True, False, True, False, True, False,\n",
       "                    True, False],\n",
       "              mask=[False, False, False, False, False, False, False, False,\n",
       "                    False, False],\n",
       "        fill_value='?',\n",
       "             dtype=object),\n",
       " 'params': [{'alpha': 1, 'fit_intercept': True},\n",
       "  {'alpha': 1, 'fit_intercept': False},\n",
       "  {'alpha': 2, 'fit_intercept': True},\n",
       "  {'alpha': 2, 'fit_intercept': False},\n",
       "  {'alpha': 3, 'fit_intercept': True},\n",
       "  {'alpha': 3, 'fit_intercept': False},\n",
       "  {'alpha': 4, 'fit_intercept': True},\n",
       "  {'alpha': 4, 'fit_intercept': False},\n",
       "  {'alpha': 5, 'fit_intercept': True},\n",
       "  {'alpha': 5, 'fit_intercept': False}],\n",
       " 'rank_test_score': array([ 5, 10,  4,  9,  3,  8,  2,  7,  1,  6], dtype=int32),\n",
       " 'split0_test_score': array([-25.65456323, -25.7360484 , -25.65456181, -25.73604871,\n",
       "        -25.65456041, -25.73604902, -25.65455902, -25.73604932,\n",
       "        -25.65455764, -25.73604963]),\n",
       " 'split0_train_score': array([-25.01783347, -25.12050499, -25.01783347, -25.12050499,\n",
       "        -25.01783348, -25.12050499, -25.0178335 , -25.12050499,\n",
       "        -25.01783351, -25.120505  ]),\n",
       " 'split1_test_score': array([-25.10420989, -25.19876082, -25.1042085 , -25.19876212,\n",
       "        -25.10420712, -25.19876342, -25.10420574, -25.19876472,\n",
       "        -25.10420436, -25.19876602]),\n",
       " 'split1_train_score': array([-25.15601313, -25.25548386, -25.15601313, -25.25548386,\n",
       "        -25.15601314, -25.25548387, -25.15601315, -25.25548387,\n",
       "        -25.15601316, -25.25548388]),\n",
       " 'split2_test_score': array([-24.98787281, -25.11157771, -24.98787273, -25.11157831,\n",
       "        -24.98787265, -25.1115789 , -24.98787257, -25.1115795 ,\n",
       "        -24.98787249, -25.1115801 ]),\n",
       " 'split2_train_score': array([-25.185058  , -25.27714844, -25.18505801, -25.27714844,\n",
       "        -25.18505801, -25.27714844, -25.18505802, -25.27714845,\n",
       "        -25.18505804, -25.27714845]),\n",
       " 'split3_test_score': array([-24.93259706, -25.03224901, -24.93259609, -25.03224796,\n",
       "        -24.93259514, -25.03224691, -24.93259418, -25.03224586,\n",
       "        -24.93259323, -25.03224482]),\n",
       " 'split3_train_score': array([-25.19883869, -25.29710953, -25.19883869, -25.29710953,\n",
       "        -25.1988387 , -25.29710954, -25.19883871, -25.29710954,\n",
       "        -25.19883872, -25.29710955]),\n",
       " 'split4_test_score': array([-25.10734728, -25.19971895, -25.10734708, -25.19971451,\n",
       "        -25.10734688, -25.19971009, -25.10734669, -25.19970567,\n",
       "        -25.1073465 , -25.19970128]),\n",
       " 'split4_train_score': array([-25.15437297, -25.25439177, -25.15437298, -25.25439178,\n",
       "        -25.15437298, -25.25439179, -25.15437299, -25.2543918 ,\n",
       "        -25.15437301, -25.25439181]),\n",
       " 'std_fit_time': array([0.00779555, 0.00384408, 0.00103904, 0.00076092, 0.00792644,\n",
       "        0.00039307, 0.00039581, 0.00096073, 0.00564399, 0.00230526]),\n",
       " 'std_score_time': array([9.33213109e-04, 2.06452972e-03, 1.92116537e-04, 6.64957923e-05,\n",
       "        5.32479979e-04, 9.35421068e-05, 6.62605681e-05, 5.02244846e-03,\n",
       "        5.29022480e-04, 1.69761020e-04]),\n",
       " 'std_test_score': array([0.25759849, 0.24811896, 0.25759819, 0.24811934, 0.25759789,\n",
       "        0.24811972, 0.2575976 , 0.24812009, 0.2575973 , 0.24812047]),\n",
       " 'std_train_score': array([0.06457634, 0.06223043, 0.06457634, 0.06223043, 0.06457634,\n",
       "        0.06223043, 0.06457634, 0.06223043, 0.06457634, 0.06223044])}"
      ]
     },
     "execution_count": 21,
     "metadata": {},
     "output_type": "execute_result"
    }
   ],
   "source": [
    "grid2.cv_results_"
   ]
  },
  {
   "cell_type": "code",
   "execution_count": 22,
   "metadata": {},
   "outputs": [
    {
     "name": "stdout",
     "output_type": "stream",
     "text": [
      "5.038365495247363\n"
     ]
    }
   ],
   "source": [
    "best_ridge = grid2.best_estimator_\n",
    "ridge_pred = best_ridge.predict(X_test)\n",
    "print(np.sqrt(mean_squared_error(y1_test, ridge_pred)))"
   ]
  },
  {
   "cell_type": "markdown",
   "metadata": {},
   "source": [
    "## Random Forest Classifer"
   ]
  },
  {
   "cell_type": "code",
   "execution_count": null,
   "metadata": {},
   "outputs": [],
   "source": [
    "%%time\n",
    "train_score = []\n",
    "test_score = []\n",
    "\n",
    "for depth in range(10,100):\n",
    "    dt = RandomForestClassifier(n_estimators=50, max_depth=depth, n_jobs=-1)\n",
    "    dt.fit(X_train_scaled, y1_train)\n",
    "    train_score.append(dt.score(X_train_scaled, y1_train))\n",
    "    test_score.append(dt.score(X_test_scaled, y1_test))\n",
    "    \n",
    "plt.figure(dpi=150)\n",
    "plt.plot(range(10,100), train_score, 'g', label=\"Train\")\n",
    "plt.plot(range(10,100), test_score, 'b', label=\"Test\")\n",
    "plt.legend(loc='upper right')\n",
    "plt.xlabel(\"Max Depth in Tree\")\n",
    "plt.ylabel(\"Accuracy\");"
   ]
  },
  {
   "cell_type": "code",
   "execution_count": null,
   "metadata": {},
   "outputs": [],
   "source": [
    "rf= RandomForestClassifier(n_estimators=50, max_depth=15)\n",
    "rf.fit(X_train_scaled, y1_train)\n",
    "rf.score(X_test_scaled, y_test)"
   ]
  },
  {
   "cell_type": "code",
   "execution_count": null,
   "metadata": {},
   "outputs": [],
   "source": [
    "sorted_importance_indicies = np.argsort(abs(rf.feature_importances_))\n",
    "rf.feature_importances_.reshape(-1)[sorted_importance_indicies.reshape(-1)]\n",
    "sorted_importance_indicies.reshape(-1)[-5:]"
   ]
  },
  {
   "cell_type": "code",
   "execution_count": null,
   "metadata": {},
   "outputs": [],
   "source": [
    "plt.figure(figsize==(18,10))\n",
    "plt.title(\"Feature Importance in Random Forest, Depth = XX\",fontsize=30)\n",
    "coefs_size = abs(rf.feature_importances_.reshape(-1))\n",
    "labels = X_train.columns[sorted_importance_indicies.reshape(-1)[-5:]]\n",
    "plt.bar(labels, coefs_size[sorted_importance_indicies.reshape(-1)[-5:]])\n",
    "plt.xticks(fontsize=15)\n",
    "plt.yticks(fontsize=20)\n",
    "plt.xticks(rotation=5);"
   ]
  },
  {
   "cell_type": "markdown",
   "metadata": {},
   "source": [
    "## Linear SVM"
   ]
  },
  {
   "cell_type": "code",
   "execution_count": null,
   "metadata": {},
   "outputs": [],
   "source": [
    "svc = LinearSVC()"
   ]
  },
  {
   "cell_type": "code",
   "execution_count": null,
   "metadata": {},
   "outputs": [],
   "source": [
    "params  = [{'C':[70, 75, 80, 90], 'penalty':['l1','l2']}]\n",
    "svm1 = GridSearchCV(svc(), params, cv=5, scoring = \"neg_mean_squared_error\")\n",
    "svm1.fit(X_train_scaled, y1_train)"
   ]
  }
 ],
 "metadata": {
  "kernelspec": {
   "display_name": "Python 3",
   "language": "python",
   "name": "python3"
  },
  "language_info": {
   "codemirror_mode": {
    "name": "ipython",
    "version": 3
   },
   "file_extension": ".py",
   "mimetype": "text/x-python",
   "name": "python",
   "nbconvert_exporter": "python",
   "pygments_lexer": "ipython3",
   "version": "3.6.5"
  }
 },
 "nbformat": 4,
 "nbformat_minor": 2
}
