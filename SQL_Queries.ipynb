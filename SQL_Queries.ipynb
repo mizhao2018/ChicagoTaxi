{
 "cells": [
  {
   "cell_type": "code",
   "execution_count": null,
   "metadata": {},
   "outputs": [],
   "source": [
    "CREATE TABLE rides(\n",
    "    Trip_ID TEXT,\n",
    "    Taxi_ID TEXT,\n",
    "    Trip_Start TIMESTAMP,\n",
    "    Trip_End TIMESTAMP,\n",
    "    Trip_Duration INT,\n",
    "    Trip_Length DOUBLE PRECISION,\n",
    "    Pickup_Community INT,\n",
    "    Dropoff_Community INT,\n",
    "    Fare DOUBLE PRECISION,\n",
    "    Tips DOUBLE PRECISION,\n",
    "    Tolls DOUBLE PRECISION,\n",
    "    Extras DOUBLE PRECISION,\n",
    "    Trip_Total DOUBLE PRECISION,\n",
    "    Payment_Type TEXT,\n",
    "    Pickup_Lat DOUBLE PRECISION,\n",
    "    Pickup_Lon DOUBLE PRECISION,\n",
    "    Dropoff_Lat DOUBLE PRECISION,\n",
    "    Dropoff_Lon DOUBLE PRECISION)"
   ]
  },
  {
   "cell_type": "code",
   "execution_count": null,
   "metadata": {},
   "outputs": [],
   "source": [
    "scp -i ~/.ssh/aws_key.pem xaa ubuntu@18.218.230.97"
   ]
  },
  {
   "cell_type": "code",
   "execution_count": null,
   "metadata": {},
   "outputs": [],
   "source": [
    "copy xaa FROM '/home/ubuntu/xaa' DELIMITER ',', CSV HEADER;"
   ]
  }
 ],
 "metadata": {
  "kernelspec": {
   "display_name": "Python 3",
   "language": "python",
   "name": "python3"
  },
  "language_info": {
   "codemirror_mode": {
    "name": "ipython",
    "version": 3
   },
   "file_extension": ".py",
   "mimetype": "text/x-python",
   "name": "python",
   "nbconvert_exporter": "python",
   "pygments_lexer": "ipython3",
   "version": "3.6.5"
  }
 },
 "nbformat": 4,
 "nbformat_minor": 2
}
