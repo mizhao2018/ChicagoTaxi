{
 "cells": [
  {
   "cell_type": "code",
   "execution_count": 6,
   "metadata": {},
   "outputs": [
    {
     "data": {
      "text/plain": [
       "-87.632746    235\n",
       "-87.626215    109\n",
       "-87.620993    104\n",
       "-87.631864     91\n",
       "-87.633308     88\n",
       "-87.903040     75\n",
       "-87.655998     66\n",
       "-87.642649     59\n",
       "-87.626211     58\n",
       "-87.628874     51\n",
       "-87.637844     49\n",
       "-87.625192     48\n",
       "-87.618868     47\n",
       "-87.676356     46\n",
       "-87.649489     45\n",
       "-87.663518     39\n",
       "-87.620763     38\n",
       "-87.642808     36\n",
       "-87.621972     34\n",
       "-87.619711     33\n",
       "-87.617358     32\n",
       "-87.913625     29\n",
       "-87.750934     25\n",
       "-87.655879     25\n",
       "-87.612945     23\n",
       "-87.622173     22\n",
       "-87.657233     22\n",
       "-87.699155     18\n",
       "-87.663416     18\n",
       "-87.631717     18\n",
       "             ... \n",
       "-87.616134      1\n",
       "-87.675063      1\n",
       "-87.657341      1\n",
       "-87.646730      1\n",
       "-87.671110      1\n",
       "-87.701885      1\n",
       "-87.617860      1\n",
       "-87.643471      1\n",
       "-87.659167      1\n",
       "-87.667569      1\n",
       "-87.659864      1\n",
       "-87.655912      1\n",
       "-87.666596      1\n",
       "-87.641071      1\n",
       "-87.643023      1\n",
       "-87.678846      1\n",
       "-87.676578      1\n",
       "-87.804532      1\n",
       "-87.664954      1\n",
       "-87.681356      1\n",
       "-87.664047      1\n",
       "-87.656412      1\n",
       "-87.670945      1\n",
       "-87.671446      1\n",
       "-87.671108      1\n",
       "-87.650290      1\n",
       "-87.639854      1\n",
       "-87.585303      1\n",
       "-87.717504      1\n",
       "-87.665338      1\n",
       "Name: Pickup Centroid Longitude, Length: 136, dtype: int64"
      ]
     },
     "execution_count": 6,
     "metadata": {},
     "output_type": "execute_result"
    }
   ],
   "source": [
    "import pandas as pd\n",
    "\n",
    "df = pd.read_csv(\"~/Downloads/Taxi_Trips_Updated.csv\", nrows=2000)\n",
    "\n",
    "df['Pickup Centroid Longitude'].value_counts()"
   ]
  },
  {
   "cell_type": "code",
   "execution_count": null,
   "metadata": {},
   "outputs": [],
   "source": []
  }
 ],
 "metadata": {
  "kernelspec": {
   "display_name": "Python 3",
   "language": "python",
   "name": "python3"
  },
  "language_info": {
   "codemirror_mode": {
    "name": "ipython",
    "version": 3
   },
   "file_extension": ".py",
   "mimetype": "text/x-python",
   "name": "python",
   "nbconvert_exporter": "python",
   "pygments_lexer": "ipython3",
   "version": "3.6.5"
  }
 },
 "nbformat": 4,
 "nbformat_minor": 2
}
