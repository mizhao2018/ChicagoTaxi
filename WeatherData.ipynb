{
 "cells": [
  {
   "cell_type": "code",
   "execution_count": 1,
   "metadata": {},
   "outputs": [],
   "source": [
    "import pandas as pd\n",
    "import numpy as np\n",
    "import pickle\n",
    "import datetime"
   ]
  },
  {
   "cell_type": "code",
   "execution_count": 4,
   "metadata": {},
   "outputs": [],
   "source": [
    "weather = pd.read_csv('Weather.csv')"
   ]
  },
  {
   "cell_type": "code",
   "execution_count": 112,
   "metadata": {},
   "outputs": [
    {
     "data": {
      "text/html": [
       "<div>\n",
       "<style scoped>\n",
       "    .dataframe tbody tr th:only-of-type {\n",
       "        vertical-align: middle;\n",
       "    }\n",
       "\n",
       "    .dataframe tbody tr th {\n",
       "        vertical-align: top;\n",
       "    }\n",
       "\n",
       "    .dataframe thead th {\n",
       "        text-align: right;\n",
       "    }\n",
       "</style>\n",
       "<table border=\"1\" class=\"dataframe\">\n",
       "  <thead>\n",
       "    <tr style=\"text-align: right;\">\n",
       "      <th></th>\n",
       "      <th>HOURLYVISIBILITY</th>\n",
       "      <th>HOURLYWETBULBTEMPF</th>\n",
       "      <th>HOURLYRelativeHumidity</th>\n",
       "      <th>HOURLYPrecip</th>\n",
       "    </tr>\n",
       "    <tr>\n",
       "      <th>DateTime</th>\n",
       "      <th></th>\n",
       "      <th></th>\n",
       "      <th></th>\n",
       "      <th></th>\n",
       "    </tr>\n",
       "  </thead>\n",
       "  <tbody>\n",
       "    <tr>\n",
       "      <th>2013-01-01 00:51:00</th>\n",
       "      <td>10</td>\n",
       "      <td>17.0</td>\n",
       "      <td>62.0</td>\n",
       "      <td>0</td>\n",
       "    </tr>\n",
       "    <tr>\n",
       "      <th>2013-01-01 01:51:00</th>\n",
       "      <td>10</td>\n",
       "      <td>16.0</td>\n",
       "      <td>62.0</td>\n",
       "      <td>0</td>\n",
       "    </tr>\n",
       "    <tr>\n",
       "      <th>2013-01-01 02:51:00</th>\n",
       "      <td>10</td>\n",
       "      <td>15.0</td>\n",
       "      <td>65.0</td>\n",
       "      <td>0</td>\n",
       "    </tr>\n",
       "    <tr>\n",
       "      <th>2013-01-01 03:51:00</th>\n",
       "      <td>10</td>\n",
       "      <td>14.0</td>\n",
       "      <td>67.0</td>\n",
       "      <td>0</td>\n",
       "    </tr>\n",
       "    <tr>\n",
       "      <th>2013-01-01 04:51:00</th>\n",
       "      <td>10</td>\n",
       "      <td>13.0</td>\n",
       "      <td>67.0</td>\n",
       "      <td>0</td>\n",
       "    </tr>\n",
       "  </tbody>\n",
       "</table>\n",
       "</div>"
      ],
      "text/plain": [
       "                    HOURLYVISIBILITY  HOURLYWETBULBTEMPF  \\\n",
       "DateTime                                                   \n",
       "2013-01-01 00:51:00               10                17.0   \n",
       "2013-01-01 01:51:00               10                16.0   \n",
       "2013-01-01 02:51:00               10                15.0   \n",
       "2013-01-01 03:51:00               10                14.0   \n",
       "2013-01-01 04:51:00               10                13.0   \n",
       "\n",
       "                     HOURLYRelativeHumidity HOURLYPrecip  \n",
       "DateTime                                                  \n",
       "2013-01-01 00:51:00                    62.0            0  \n",
       "2013-01-01 01:51:00                    62.0            0  \n",
       "2013-01-01 02:51:00                    65.0            0  \n",
       "2013-01-01 03:51:00                    67.0            0  \n",
       "2013-01-01 04:51:00                    67.0            0  "
      ]
     },
     "execution_count": 112,
     "metadata": {},
     "output_type": "execute_result"
    }
   ],
   "source": [
    "weather.head(5)"
   ]
  },
  {
   "cell_type": "code",
   "execution_count": 121,
   "metadata": {},
   "outputs": [],
   "source": [
    "weather['HOURLYVISIBILITY']=weather.HOURLYVISIBILITY.astype(float)"
   ]
  },
  {
   "cell_type": "code",
   "execution_count": 182,
   "metadata": {
    "scrolled": false
   },
   "outputs": [],
   "source": [
    "W15 = weather.resample('15T').mean().interpolate(method='linear')"
   ]
  },
  {
   "cell_type": "code",
   "execution_count": 10,
   "metadata": {},
   "outputs": [],
   "source": [
    "weather.to_pickle('Weather_Updated.pkl')"
   ]
  },
  {
   "cell_type": "code",
   "execution_count": 177,
   "metadata": {},
   "outputs": [],
   "source": [
    "# Change datetime format for DATE and remove original DATE\n",
    "weather['DateTime'] = pd.to_datetime(weather['DATE'])\n",
    "weather.drop('DATE',axis=1, inplace=True)\n",
    "weather.set_index('DateTime',inplace=True)"
   ]
  },
  {
   "cell_type": "code",
   "execution_count": 178,
   "metadata": {
    "scrolled": true
   },
   "outputs": [
    {
     "name": "stdout",
     "output_type": "stream",
     "text": [
      "<class 'pandas.core.frame.DataFrame'>\n",
      "DatetimeIndex: 64964 entries, 2013-01-01 00:51:00 to 2017-12-31 23:59:00\n",
      "Data columns (total 4 columns):\n",
      "HOURLYVISIBILITY          64964 non-null float64\n",
      "HOURLYWETBULBTEMPF        64964 non-null float64\n",
      "HOURLYRelativeHumidity    64964 non-null float64\n",
      "HOURLYPrecip              64964 non-null float64\n",
      "dtypes: float64(4)\n",
      "memory usage: 2.5 MB\n"
     ]
    }
   ],
   "source": [
    "weather.info()"
   ]
  },
  {
   "cell_type": "code",
   "execution_count": 160,
   "metadata": {},
   "outputs": [],
   "source": [
    "with open('weather.csv','r') as file:\n",
    "    weather=pd.read_csv(file)"
   ]
  },
  {
   "cell_type": "code",
   "execution_count": 180,
   "metadata": {},
   "outputs": [
    {
     "data": {
      "text/html": [
       "<div>\n",
       "<style scoped>\n",
       "    .dataframe tbody tr th:only-of-type {\n",
       "        vertical-align: middle;\n",
       "    }\n",
       "\n",
       "    .dataframe tbody tr th {\n",
       "        vertical-align: top;\n",
       "    }\n",
       "\n",
       "    .dataframe thead th {\n",
       "        text-align: right;\n",
       "    }\n",
       "</style>\n",
       "<table border=\"1\" class=\"dataframe\">\n",
       "  <thead>\n",
       "    <tr style=\"text-align: right;\">\n",
       "      <th></th>\n",
       "      <th>HOURLYVISIBILITY</th>\n",
       "      <th>HOURLYWETBULBTEMPF</th>\n",
       "      <th>HOURLYRelativeHumidity</th>\n",
       "      <th>HOURLYPrecip</th>\n",
       "    </tr>\n",
       "    <tr>\n",
       "      <th>DateTime</th>\n",
       "      <th></th>\n",
       "      <th></th>\n",
       "      <th></th>\n",
       "      <th></th>\n",
       "    </tr>\n",
       "  </thead>\n",
       "  <tbody>\n",
       "    <tr>\n",
       "      <th>2013-01-01 00:51:00</th>\n",
       "      <td>10.0</td>\n",
       "      <td>17.0</td>\n",
       "      <td>62.0</td>\n",
       "      <td>0.0</td>\n",
       "    </tr>\n",
       "    <tr>\n",
       "      <th>2013-01-01 01:51:00</th>\n",
       "      <td>10.0</td>\n",
       "      <td>16.0</td>\n",
       "      <td>62.0</td>\n",
       "      <td>0.0</td>\n",
       "    </tr>\n",
       "    <tr>\n",
       "      <th>2013-01-01 02:51:00</th>\n",
       "      <td>10.0</td>\n",
       "      <td>15.0</td>\n",
       "      <td>65.0</td>\n",
       "      <td>0.0</td>\n",
       "    </tr>\n",
       "    <tr>\n",
       "      <th>2013-01-01 03:51:00</th>\n",
       "      <td>10.0</td>\n",
       "      <td>14.0</td>\n",
       "      <td>67.0</td>\n",
       "      <td>0.0</td>\n",
       "    </tr>\n",
       "    <tr>\n",
       "      <th>2013-01-01 04:51:00</th>\n",
       "      <td>10.0</td>\n",
       "      <td>13.0</td>\n",
       "      <td>67.0</td>\n",
       "      <td>0.0</td>\n",
       "    </tr>\n",
       "  </tbody>\n",
       "</table>\n",
       "</div>"
      ],
      "text/plain": [
       "                     HOURLYVISIBILITY  HOURLYWETBULBTEMPF  \\\n",
       "DateTime                                                    \n",
       "2013-01-01 00:51:00              10.0                17.0   \n",
       "2013-01-01 01:51:00              10.0                16.0   \n",
       "2013-01-01 02:51:00              10.0                15.0   \n",
       "2013-01-01 03:51:00              10.0                14.0   \n",
       "2013-01-01 04:51:00              10.0                13.0   \n",
       "\n",
       "                     HOURLYRelativeHumidity  HOURLYPrecip  \n",
       "DateTime                                                   \n",
       "2013-01-01 00:51:00                    62.0           0.0  \n",
       "2013-01-01 01:51:00                    62.0           0.0  \n",
       "2013-01-01 02:51:00                    65.0           0.0  \n",
       "2013-01-01 03:51:00                    67.0           0.0  \n",
       "2013-01-01 04:51:00                    67.0           0.0  "
      ]
     },
     "execution_count": 180,
     "metadata": {},
     "output_type": "execute_result"
    }
   ],
   "source": [
    "weather.head(5)"
   ]
  },
  {
   "cell_type": "code",
   "execution_count": 45,
   "metadata": {
    "scrolled": true
   },
   "outputs": [],
   "source": [
    "# find the NaN in this dataframe\n",
    "nans = lambda weather: weather[weather.isnull().any(axis=1)]\n",
    "nans(weather)"
   ]
  },
  {
   "cell_type": "code",
   "execution_count": 170,
   "metadata": {},
   "outputs": [],
   "source": [
    "# fill the NaNs with before or after information\n",
    "weather.fillna(method='ffill',inplace=True)\n",
    "weather.fillna(method='backfill',inplace=True)"
   ]
  },
  {
   "cell_type": "code",
   "execution_count": 63,
   "metadata": {},
   "outputs": [],
   "source": [
    "# update the Hourly precipitation trace to 0.005\n",
    "# weather.loc[weather.HOURLYPrecip == 'T', 'HOURLYPrecip'] = 0.005"
   ]
  },
  {
   "cell_type": "code",
   "execution_count": 137,
   "metadata": {},
   "outputs": [
    {
     "data": {
      "text/plain": [
       "'abcdefghijklmnopqrstuvwxyzABCDEFGHIJKLMNOPQRSTUVWXYZ'"
      ]
     },
     "execution_count": 137,
     "metadata": {},
     "output_type": "execute_result"
    }
   ],
   "source": [
    "import re\n",
    "import string\n",
    "string.ascii_letters"
   ]
  },
  {
   "cell_type": "code",
   "execution_count": 167,
   "metadata": {},
   "outputs": [
    {
     "data": {
      "text/html": [
       "<div>\n",
       "<style scoped>\n",
       "    .dataframe tbody tr th:only-of-type {\n",
       "        vertical-align: middle;\n",
       "    }\n",
       "\n",
       "    .dataframe tbody tr th {\n",
       "        vertical-align: top;\n",
       "    }\n",
       "\n",
       "    .dataframe thead th {\n",
       "        text-align: right;\n",
       "    }\n",
       "</style>\n",
       "<table border=\"1\" class=\"dataframe\">\n",
       "  <thead>\n",
       "    <tr style=\"text-align: right;\">\n",
       "      <th></th>\n",
       "      <th>DATE</th>\n",
       "      <th>HOURLYVISIBILITY</th>\n",
       "      <th>HOURLYWETBULBTEMPF</th>\n",
       "      <th>HOURLYRelativeHumidity</th>\n",
       "      <th>HOURLYPrecip</th>\n",
       "    </tr>\n",
       "  </thead>\n",
       "  <tbody>\n",
       "    <tr>\n",
       "      <th>0</th>\n",
       "      <td>2013-01-01 00:51</td>\n",
       "      <td>10</td>\n",
       "      <td>17.0</td>\n",
       "      <td>62.0</td>\n",
       "      <td>NaN</td>\n",
       "    </tr>\n",
       "    <tr>\n",
       "      <th>1</th>\n",
       "      <td>2013-01-01 01:51</td>\n",
       "      <td>10</td>\n",
       "      <td>16.0</td>\n",
       "      <td>62.0</td>\n",
       "      <td>0.0</td>\n",
       "    </tr>\n",
       "    <tr>\n",
       "      <th>2</th>\n",
       "      <td>2013-01-01 02:51</td>\n",
       "      <td>10</td>\n",
       "      <td>15.0</td>\n",
       "      <td>65.0</td>\n",
       "      <td>0.0</td>\n",
       "    </tr>\n",
       "    <tr>\n",
       "      <th>3</th>\n",
       "      <td>2013-01-01 03:51</td>\n",
       "      <td>10</td>\n",
       "      <td>14.0</td>\n",
       "      <td>67.0</td>\n",
       "      <td>0.0</td>\n",
       "    </tr>\n",
       "    <tr>\n",
       "      <th>4</th>\n",
       "      <td>2013-01-01 04:51</td>\n",
       "      <td>10</td>\n",
       "      <td>13.0</td>\n",
       "      <td>67.0</td>\n",
       "      <td>0.0</td>\n",
       "    </tr>\n",
       "  </tbody>\n",
       "</table>\n",
       "</div>"
      ],
      "text/plain": [
       "               DATE HOURLYVISIBILITY  HOURLYWETBULBTEMPF  \\\n",
       "0  2013-01-01 00:51               10                17.0   \n",
       "1  2013-01-01 01:51               10                16.0   \n",
       "2  2013-01-01 02:51               10                15.0   \n",
       "3  2013-01-01 03:51               10                14.0   \n",
       "4  2013-01-01 04:51               10                13.0   \n",
       "\n",
       "   HOURLYRelativeHumidity  HOURLYPrecip  \n",
       "0                    62.0           NaN  \n",
       "1                    62.0           0.0  \n",
       "2                    65.0           0.0  \n",
       "3                    67.0           0.0  \n",
       "4                    67.0           0.0  "
      ]
     },
     "execution_count": 167,
     "metadata": {},
     "output_type": "execute_result"
    }
   ],
   "source": [
    "weather.head(5)"
   ]
  },
  {
   "cell_type": "code",
   "execution_count": 147,
   "metadata": {},
   "outputs": [],
   "source": [
    "# remove letter after numerical\n",
    "def remove_letter(s):\n",
    "    if type(s)==str:\n",
    "        return \"\".join([char for char in s if char not in string.ascii_letters])\n",
    "    else:\n",
    "        return s\n",
    "    \n",
    "def convert(s):\n",
    "    try: \n",
    "        number=float(remove_letter(s))\n",
    "        return number\n",
    "    except:\n",
    "        return np.nan"
   ]
  },
  {
   "cell_type": "code",
   "execution_count": 165,
   "metadata": {},
   "outputs": [],
   "source": [
    "weather.HOURLYPrecip=weather.HOURLYPrecip.apply(lambda x: convert(x))\n",
    "weather.HOURLYPrecip=weather.HOURLYPrecip.astype(float)"
   ]
  },
  {
   "cell_type": "code",
   "execution_count": 174,
   "metadata": {},
   "outputs": [],
   "source": [
    "weather.HOURLYVISIBILITY=weather.HOURLYVISIBILITY.apply(lambda x: convert(x))\n",
    "weather.HOURLYVISIBILITY=weather.HOURLYVISIBILITY.astype(float)"
   ]
  },
  {
   "cell_type": "code",
   "execution_count": 175,
   "metadata": {},
   "outputs": [
    {
     "name": "stdout",
     "output_type": "stream",
     "text": [
      "<class 'pandas.core.frame.DataFrame'>\n",
      "RangeIndex: 64964 entries, 0 to 64963\n",
      "Data columns (total 5 columns):\n",
      "DATE                      64964 non-null object\n",
      "HOURLYVISIBILITY          64964 non-null float64\n",
      "HOURLYWETBULBTEMPF        64964 non-null float64\n",
      "HOURLYRelativeHumidity    64964 non-null float64\n",
      "HOURLYPrecip              64964 non-null float64\n",
      "dtypes: float64(4), object(1)\n",
      "memory usage: 2.5+ MB\n"
     ]
    }
   ],
   "source": [
    "weather.info()"
   ]
  },
  {
   "cell_type": "code",
   "execution_count": 176,
   "metadata": {},
   "outputs": [
    {
     "data": {
      "text/html": [
       "<div>\n",
       "<style scoped>\n",
       "    .dataframe tbody tr th:only-of-type {\n",
       "        vertical-align: middle;\n",
       "    }\n",
       "\n",
       "    .dataframe tbody tr th {\n",
       "        vertical-align: top;\n",
       "    }\n",
       "\n",
       "    .dataframe thead th {\n",
       "        text-align: right;\n",
       "    }\n",
       "</style>\n",
       "<table border=\"1\" class=\"dataframe\">\n",
       "  <thead>\n",
       "    <tr style=\"text-align: right;\">\n",
       "      <th></th>\n",
       "      <th>DATE</th>\n",
       "      <th>HOURLYVISIBILITY</th>\n",
       "      <th>HOURLYWETBULBTEMPF</th>\n",
       "      <th>HOURLYRelativeHumidity</th>\n",
       "      <th>HOURLYPrecip</th>\n",
       "    </tr>\n",
       "  </thead>\n",
       "  <tbody>\n",
       "  </tbody>\n",
       "</table>\n",
       "</div>"
      ],
      "text/plain": [
       "Empty DataFrame\n",
       "Columns: [DATE, HOURLYVISIBILITY, HOURLYWETBULBTEMPF, HOURLYRelativeHumidity, HOURLYPrecip]\n",
       "Index: []"
      ]
     },
     "execution_count": 176,
     "metadata": {},
     "output_type": "execute_result"
    }
   ],
   "source": [
    "nans(weather)"
   ]
  },
  {
   "cell_type": "code",
   "execution_count": 179,
   "metadata": {},
   "outputs": [],
   "source": [
    "# pickle the dataframe\n",
    "weather.to_pickle('weather.pkl')"
   ]
  },
  {
   "cell_type": "code",
   "execution_count": 2,
   "metadata": {},
   "outputs": [],
   "source": [
    "# open the pickle file\n",
    "with open ('Weather_updated.pkl', 'rb') as file:\n",
    "    weather = pickle.load(file)"
   ]
  },
  {
   "cell_type": "code",
   "execution_count": 9,
   "metadata": {},
   "outputs": [
    {
     "data": {
      "text/html": [
       "<div>\n",
       "<style scoped>\n",
       "    .dataframe tbody tr th:only-of-type {\n",
       "        vertical-align: middle;\n",
       "    }\n",
       "\n",
       "    .dataframe tbody tr th {\n",
       "        vertical-align: top;\n",
       "    }\n",
       "\n",
       "    .dataframe thead th {\n",
       "        text-align: right;\n",
       "    }\n",
       "</style>\n",
       "<table border=\"1\" class=\"dataframe\">\n",
       "  <thead>\n",
       "    <tr style=\"text-align: right;\">\n",
       "      <th></th>\n",
       "      <th>Vis</th>\n",
       "      <th>Temp</th>\n",
       "      <th>Humidity</th>\n",
       "      <th>Precip</th>\n",
       "    </tr>\n",
       "    <tr>\n",
       "      <th>DateTime</th>\n",
       "      <th></th>\n",
       "      <th></th>\n",
       "      <th></th>\n",
       "      <th></th>\n",
       "    </tr>\n",
       "  </thead>\n",
       "  <tbody>\n",
       "    <tr>\n",
       "      <th>2013-01-01 00:45:00</th>\n",
       "      <td>10.0</td>\n",
       "      <td>17.00</td>\n",
       "      <td>62.0</td>\n",
       "      <td>0.0</td>\n",
       "    </tr>\n",
       "    <tr>\n",
       "      <th>2013-01-01 01:00:00</th>\n",
       "      <td>10.0</td>\n",
       "      <td>16.75</td>\n",
       "      <td>62.0</td>\n",
       "      <td>0.0</td>\n",
       "    </tr>\n",
       "    <tr>\n",
       "      <th>2013-01-01 01:15:00</th>\n",
       "      <td>10.0</td>\n",
       "      <td>16.50</td>\n",
       "      <td>62.0</td>\n",
       "      <td>0.0</td>\n",
       "    </tr>\n",
       "    <tr>\n",
       "      <th>2013-01-01 01:30:00</th>\n",
       "      <td>10.0</td>\n",
       "      <td>16.25</td>\n",
       "      <td>62.0</td>\n",
       "      <td>0.0</td>\n",
       "    </tr>\n",
       "    <tr>\n",
       "      <th>2013-01-01 01:45:00</th>\n",
       "      <td>10.0</td>\n",
       "      <td>16.00</td>\n",
       "      <td>62.0</td>\n",
       "      <td>0.0</td>\n",
       "    </tr>\n",
       "  </tbody>\n",
       "</table>\n",
       "</div>"
      ],
      "text/plain": [
       "                      Vis   Temp  Humidity  Precip\n",
       "DateTime                                          \n",
       "2013-01-01 00:45:00  10.0  17.00      62.0     0.0\n",
       "2013-01-01 01:00:00  10.0  16.75      62.0     0.0\n",
       "2013-01-01 01:15:00  10.0  16.50      62.0     0.0\n",
       "2013-01-01 01:30:00  10.0  16.25      62.0     0.0\n",
       "2013-01-01 01:45:00  10.0  16.00      62.0     0.0"
      ]
     },
     "execution_count": 9,
     "metadata": {},
     "output_type": "execute_result"
    }
   ],
   "source": [
    "weather.head(5)"
   ]
  },
  {
   "cell_type": "code",
   "execution_count": 8,
   "metadata": {},
   "outputs": [],
   "source": [
    "weather.rename(columns={'HOURLYVISIBILITY':'Vis', 'HOURLYWETBULBTEMPF':'Temp', 'HOURLYRelativeHumidity':'Humidity',\n",
    "                'HOURLYPrecip':'Precip'},inplace=True)"
   ]
  },
  {
   "cell_type": "code",
   "execution_count": null,
   "metadata": {},
   "outputs": [],
   "source": []
  }
 ],
 "metadata": {
  "kernelspec": {
   "display_name": "Python 3",
   "language": "python",
   "name": "python3"
  },
  "language_info": {
   "codemirror_mode": {
    "name": "ipython",
    "version": 3
   },
   "file_extension": ".py",
   "mimetype": "text/x-python",
   "name": "python",
   "nbconvert_exporter": "python",
   "pygments_lexer": "ipython3",
   "version": "3.6.5"
  }
 },
 "nbformat": 4,
 "nbformat_minor": 2
}
