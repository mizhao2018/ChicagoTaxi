{
 "cells": [
  {
   "cell_type": "code",
   "execution_count": 1,
   "metadata": {},
   "outputs": [],
   "source": [
    "import pandas as pd\n",
    "import numpy as np\n",
    "import datetime as dt\n",
    "import matplotlib.pyplot as plt\n",
    "import seaborn as sn\n",
    "import time\n",
    "import pickle\n",
    "%matplotlib inline\n",
    "plt.style.use('seaborn')"
   ]
  },
  {
   "cell_type": "code",
   "execution_count": 13,
   "metadata": {},
   "outputs": [
    {
     "name": "stdout",
     "output_type": "stream",
     "text": [
      "CPU times: user 4 µs, sys: 7 µs, total: 11 µs\n",
      "Wall time: 35 µs\n"
     ]
    }
   ],
   "source": [
    "%time\n",
    "df = pd.read_csv('Taxi_Trips_NearSouth_Updated.csv')"
   ]
  },
  {
   "cell_type": "code",
   "execution_count": 14,
   "metadata": {},
   "outputs": [
    {
     "data": {
      "text/plain": [
       "(2204222, 18)"
      ]
     },
     "execution_count": 14,
     "metadata": {},
     "output_type": "execute_result"
    }
   ],
   "source": [
    "df.shape"
   ]
  },
  {
   "cell_type": "code",
   "execution_count": 17,
   "metadata": {},
   "outputs": [
    {
     "data": {
      "text/html": [
       "<div>\n",
       "<style scoped>\n",
       "    .dataframe tbody tr th:only-of-type {\n",
       "        vertical-align: middle;\n",
       "    }\n",
       "\n",
       "    .dataframe tbody tr th {\n",
       "        vertical-align: top;\n",
       "    }\n",
       "\n",
       "    .dataframe thead th {\n",
       "        text-align: right;\n",
       "    }\n",
       "</style>\n",
       "<table border=\"1\" class=\"dataframe\">\n",
       "  <thead>\n",
       "    <tr style=\"text-align: right;\">\n",
       "      <th></th>\n",
       "      <th>Trip Start Timestamp</th>\n",
       "      <th>Trip Seconds</th>\n",
       "      <th>Trip Miles</th>\n",
       "      <th>Pickup Community Area</th>\n",
       "      <th>Fare</th>\n",
       "      <th>Tips</th>\n",
       "      <th>Tolls</th>\n",
       "      <th>Extras</th>\n",
       "      <th>Trip Total</th>\n",
       "      <th>Pickup Centroid Latitude</th>\n",
       "      <th>Pickup Centroid Longitude</th>\n",
       "      <th>Dropoff Centroid Latitude</th>\n",
       "      <th>Dropoff Centroid Longitude</th>\n",
       "    </tr>\n",
       "  </thead>\n",
       "  <tbody>\n",
       "    <tr>\n",
       "      <th>0</th>\n",
       "      <td>01/01/2013 12:00:00 AM</td>\n",
       "      <td>360.0</td>\n",
       "      <td>2.3</td>\n",
       "      <td>33</td>\n",
       "      <td>7.85</td>\n",
       "      <td>0.0</td>\n",
       "      <td>0.0</td>\n",
       "      <td>2.0</td>\n",
       "      <td>9.85</td>\n",
       "      <td>41.859350</td>\n",
       "      <td>-87.617358</td>\n",
       "      <td>41.884987</td>\n",
       "      <td>-87.620993</td>\n",
       "    </tr>\n",
       "    <tr>\n",
       "      <th>1</th>\n",
       "      <td>01/01/2013 12:00:00 AM</td>\n",
       "      <td>480.0</td>\n",
       "      <td>0.0</td>\n",
       "      <td>33</td>\n",
       "      <td>7.65</td>\n",
       "      <td>1.0</td>\n",
       "      <td>0.0</td>\n",
       "      <td>1.0</td>\n",
       "      <td>9.65</td>\n",
       "      <td>41.859350</td>\n",
       "      <td>-87.617358</td>\n",
       "      <td>41.880994</td>\n",
       "      <td>-87.632746</td>\n",
       "    </tr>\n",
       "    <tr>\n",
       "      <th>2</th>\n",
       "      <td>01/01/2013 12:00:00 AM</td>\n",
       "      <td>1200.0</td>\n",
       "      <td>3.7</td>\n",
       "      <td>33</td>\n",
       "      <td>13.45</td>\n",
       "      <td>0.0</td>\n",
       "      <td>0.0</td>\n",
       "      <td>1.5</td>\n",
       "      <td>14.95</td>\n",
       "      <td>41.859350</td>\n",
       "      <td>-87.617358</td>\n",
       "      <td>41.898332</td>\n",
       "      <td>-87.620763</td>\n",
       "    </tr>\n",
       "    <tr>\n",
       "      <th>3</th>\n",
       "      <td>01/01/2013 12:00:00 AM</td>\n",
       "      <td>60.0</td>\n",
       "      <td>0.3</td>\n",
       "      <td>33</td>\n",
       "      <td>3.65</td>\n",
       "      <td>0.0</td>\n",
       "      <td>0.0</td>\n",
       "      <td>1.0</td>\n",
       "      <td>4.65</td>\n",
       "      <td>41.859350</td>\n",
       "      <td>-87.617358</td>\n",
       "      <td>41.859350</td>\n",
       "      <td>-87.617358</td>\n",
       "    </tr>\n",
       "    <tr>\n",
       "      <th>4</th>\n",
       "      <td>01/01/2013 12:00:00 AM</td>\n",
       "      <td>900.0</td>\n",
       "      <td>0.0</td>\n",
       "      <td>33</td>\n",
       "      <td>10.65</td>\n",
       "      <td>0.0</td>\n",
       "      <td>0.0</td>\n",
       "      <td>2.0</td>\n",
       "      <td>12.65</td>\n",
       "      <td>41.857184</td>\n",
       "      <td>-87.620335</td>\n",
       "      <td>41.899602</td>\n",
       "      <td>-87.633308</td>\n",
       "    </tr>\n",
       "  </tbody>\n",
       "</table>\n",
       "</div>"
      ],
      "text/plain": [
       "     Trip Start Timestamp  Trip Seconds  Trip Miles  Pickup Community Area  \\\n",
       "0  01/01/2013 12:00:00 AM         360.0         2.3                     33   \n",
       "1  01/01/2013 12:00:00 AM         480.0         0.0                     33   \n",
       "2  01/01/2013 12:00:00 AM        1200.0         3.7                     33   \n",
       "3  01/01/2013 12:00:00 AM          60.0         0.3                     33   \n",
       "4  01/01/2013 12:00:00 AM         900.0         0.0                     33   \n",
       "\n",
       "    Fare  Tips  Tolls  Extras  Trip Total  Pickup Centroid Latitude  \\\n",
       "0   7.85   0.0    0.0     2.0        9.85                 41.859350   \n",
       "1   7.65   1.0    0.0     1.0        9.65                 41.859350   \n",
       "2  13.45   0.0    0.0     1.5       14.95                 41.859350   \n",
       "3   3.65   0.0    0.0     1.0        4.65                 41.859350   \n",
       "4  10.65   0.0    0.0     2.0       12.65                 41.857184   \n",
       "\n",
       "   Pickup Centroid Longitude  Dropoff Centroid Latitude  \\\n",
       "0                 -87.617358                  41.884987   \n",
       "1                 -87.617358                  41.880994   \n",
       "2                 -87.617358                  41.898332   \n",
       "3                 -87.617358                  41.859350   \n",
       "4                 -87.620335                  41.899602   \n",
       "\n",
       "   Dropoff Centroid Longitude  \n",
       "0                  -87.620993  \n",
       "1                  -87.632746  \n",
       "2                  -87.620763  \n",
       "3                  -87.617358  \n",
       "4                  -87.633308  "
      ]
     },
     "execution_count": 17,
     "metadata": {},
     "output_type": "execute_result"
    }
   ],
   "source": [
    "df.head(5)"
   ]
  },
  {
   "cell_type": "code",
   "execution_count": 16,
   "metadata": {},
   "outputs": [],
   "source": [
    "df = df.drop(['Trip ID','Taxi ID','Trip End Timestamp','Dropoff Community Area','Payment Type'],axis=1)"
   ]
  },
  {
   "cell_type": "code",
   "execution_count": 18,
   "metadata": {},
   "outputs": [
    {
     "name": "stdout",
     "output_type": "stream",
     "text": [
      "CPU times: user 2 µs, sys: 0 ns, total: 2 µs\n",
      "Wall time: 6.91 µs\n"
     ]
    }
   ],
   "source": [
    "%time\n",
    "# Change datetime format for trip start and remove original timestamp \n",
    "df['Trip_Start'] = pd.to_datetime(df['Trip Start Timestamp'])\n",
    "df.drop('Trip Start Timestamp',axis=1, inplace=True)"
   ]
  },
  {
   "cell_type": "code",
   "execution_count": 19,
   "metadata": {},
   "outputs": [],
   "source": [
    "dfn = df.copy()"
   ]
  },
  {
   "cell_type": "code",
   "execution_count": 20,
   "metadata": {},
   "outputs": [],
   "source": [
    "dfn['month'] = dfn.Trip_Start.dt.month\n",
    "dfn['time'] = dfn.Trip_Start.dt.time\n",
    "dfn['day']=dfn.Trip_Start.dt.dayofweek\n",
    "dfn = dfn.drop('Trip_Start', axis=1)"
   ]
  },
  {
   "cell_type": "code",
   "execution_count": 28,
   "metadata": {},
   "outputs": [],
   "source": [
    "dfn = dfn.drop(['Pickup Centroid Latitude','Pickup Centroid Longitude','Dropoff Centroid Latitude','Dropoff Centroid Longitude'],axis=1)"
   ]
  },
  {
   "cell_type": "code",
   "execution_count": 36,
   "metadata": {},
   "outputs": [],
   "source": [
    "dfn.drop('Pickup Community Area', axis=1, inplace=True)"
   ]
  },
  {
   "cell_type": "code",
   "execution_count": 37,
   "metadata": {
    "scrolled": true
   },
   "outputs": [
    {
     "data": {
      "text/html": [
       "<div>\n",
       "<style scoped>\n",
       "    .dataframe tbody tr th:only-of-type {\n",
       "        vertical-align: middle;\n",
       "    }\n",
       "\n",
       "    .dataframe tbody tr th {\n",
       "        vertical-align: top;\n",
       "    }\n",
       "\n",
       "    .dataframe thead th {\n",
       "        text-align: right;\n",
       "    }\n",
       "</style>\n",
       "<table border=\"1\" class=\"dataframe\">\n",
       "  <thead>\n",
       "    <tr style=\"text-align: right;\">\n",
       "      <th></th>\n",
       "      <th>Trip Seconds</th>\n",
       "      <th>Trip Miles</th>\n",
       "      <th>Fare</th>\n",
       "      <th>Tips</th>\n",
       "      <th>Tolls</th>\n",
       "      <th>Extras</th>\n",
       "      <th>Trip Total</th>\n",
       "      <th>month</th>\n",
       "      <th>time</th>\n",
       "      <th>day</th>\n",
       "      <th>season</th>\n",
       "      <th>rate</th>\n",
       "    </tr>\n",
       "  </thead>\n",
       "  <tbody>\n",
       "    <tr>\n",
       "      <th>0</th>\n",
       "      <td>360.0</td>\n",
       "      <td>2.3</td>\n",
       "      <td>7.85</td>\n",
       "      <td>0.0</td>\n",
       "      <td>0.0</td>\n",
       "      <td>2.0</td>\n",
       "      <td>9.85</td>\n",
       "      <td>1</td>\n",
       "      <td>00:00:00</td>\n",
       "      <td>1</td>\n",
       "      <td>Winter</td>\n",
       "      <td>0.027361</td>\n",
       "    </tr>\n",
       "    <tr>\n",
       "      <th>1</th>\n",
       "      <td>480.0</td>\n",
       "      <td>0.0</td>\n",
       "      <td>7.65</td>\n",
       "      <td>1.0</td>\n",
       "      <td>0.0</td>\n",
       "      <td>1.0</td>\n",
       "      <td>9.65</td>\n",
       "      <td>1</td>\n",
       "      <td>00:00:00</td>\n",
       "      <td>1</td>\n",
       "      <td>Winter</td>\n",
       "      <td>0.020104</td>\n",
       "    </tr>\n",
       "    <tr>\n",
       "      <th>2</th>\n",
       "      <td>1200.0</td>\n",
       "      <td>3.7</td>\n",
       "      <td>13.45</td>\n",
       "      <td>0.0</td>\n",
       "      <td>0.0</td>\n",
       "      <td>1.5</td>\n",
       "      <td>14.95</td>\n",
       "      <td>1</td>\n",
       "      <td>00:00:00</td>\n",
       "      <td>1</td>\n",
       "      <td>Winter</td>\n",
       "      <td>0.012458</td>\n",
       "    </tr>\n",
       "    <tr>\n",
       "      <th>3</th>\n",
       "      <td>60.0</td>\n",
       "      <td>0.3</td>\n",
       "      <td>3.65</td>\n",
       "      <td>0.0</td>\n",
       "      <td>0.0</td>\n",
       "      <td>1.0</td>\n",
       "      <td>4.65</td>\n",
       "      <td>1</td>\n",
       "      <td>00:00:00</td>\n",
       "      <td>1</td>\n",
       "      <td>Winter</td>\n",
       "      <td>0.077500</td>\n",
       "    </tr>\n",
       "    <tr>\n",
       "      <th>4</th>\n",
       "      <td>900.0</td>\n",
       "      <td>0.0</td>\n",
       "      <td>10.65</td>\n",
       "      <td>0.0</td>\n",
       "      <td>0.0</td>\n",
       "      <td>2.0</td>\n",
       "      <td>12.65</td>\n",
       "      <td>1</td>\n",
       "      <td>00:00:00</td>\n",
       "      <td>1</td>\n",
       "      <td>Winter</td>\n",
       "      <td>0.014056</td>\n",
       "    </tr>\n",
       "  </tbody>\n",
       "</table>\n",
       "</div>"
      ],
      "text/plain": [
       "   Trip Seconds  Trip Miles   Fare  Tips  Tolls  Extras  Trip Total  month  \\\n",
       "0         360.0         2.3   7.85   0.0    0.0     2.0        9.85      1   \n",
       "1         480.0         0.0   7.65   1.0    0.0     1.0        9.65      1   \n",
       "2        1200.0         3.7  13.45   0.0    0.0     1.5       14.95      1   \n",
       "3          60.0         0.3   3.65   0.0    0.0     1.0        4.65      1   \n",
       "4         900.0         0.0  10.65   0.0    0.0     2.0       12.65      1   \n",
       "\n",
       "       time  day  season      rate  \n",
       "0  00:00:00    1  Winter  0.027361  \n",
       "1  00:00:00    1  Winter  0.020104  \n",
       "2  00:00:00    1  Winter  0.012458  \n",
       "3  00:00:00    1  Winter  0.077500  \n",
       "4  00:00:00    1  Winter  0.014056  "
      ]
     },
     "execution_count": 37,
     "metadata": {},
     "output_type": "execute_result"
    }
   ],
   "source": [
    "dfn.head(5)"
   ]
  },
  {
   "cell_type": "code",
   "execution_count": 24,
   "metadata": {},
   "outputs": [],
   "source": [
    "# create a season column\n",
    "def f(row):\n",
    "    if row['month'] in (12, 1, 2):\n",
    "        val = 'Winter'\n",
    "    elif row['month'] in [3,4,5]:\n",
    "        val = 'Spring'\n",
    "    elif row['month'] in [6,7,8]:\n",
    "        val = 'Summer'\n",
    "    else:\n",
    "        val = 'Fall'\n",
    "    return val\n",
    "\n",
    "dfn['season'] = dfn.apply(f, axis=1)"
   ]
  },
  {
   "cell_type": "code",
   "execution_count": 31,
   "metadata": {},
   "outputs": [],
   "source": [
    "dfn['rate']=dfn['Trip Total']/dfn['Trip Seconds']"
   ]
  },
  {
   "cell_type": "code",
   "execution_count": 39,
   "metadata": {},
   "outputs": [],
   "source": [
    "gcol = ['day','month','time','season']\n",
    "df_analysis = dfn.groupby(gcol).aggregate({\n",
    "    'Trip Miles':'count',\n",
    "    'Trip Total':'mean',\n",
    "    'Trip Seconds': 'mean',\n",
    "    'rate': 'mean'\n",
    "}).reset_index()"
   ]
  },
  {
   "cell_type": "code",
   "execution_count": 45,
   "metadata": {},
   "outputs": [
    {
     "data": {
      "text/html": [
       "<div>\n",
       "<style scoped>\n",
       "    .dataframe tbody tr th:only-of-type {\n",
       "        vertical-align: middle;\n",
       "    }\n",
       "\n",
       "    .dataframe tbody tr th {\n",
       "        vertical-align: top;\n",
       "    }\n",
       "\n",
       "    .dataframe thead th {\n",
       "        text-align: right;\n",
       "    }\n",
       "</style>\n",
       "<table border=\"1\" class=\"dataframe\">\n",
       "  <thead>\n",
       "    <tr style=\"text-align: right;\">\n",
       "      <th></th>\n",
       "      <th>day</th>\n",
       "      <th>month</th>\n",
       "      <th>time</th>\n",
       "      <th>season</th>\n",
       "      <th>Count_Trips</th>\n",
       "      <th>Trip Total</th>\n",
       "      <th>Trip Seconds</th>\n",
       "      <th>rate</th>\n",
       "      <th>num_minutes</th>\n",
       "    </tr>\n",
       "  </thead>\n",
       "  <tbody>\n",
       "    <tr>\n",
       "      <th>8059</th>\n",
       "      <td>6</td>\n",
       "      <td>12</td>\n",
       "      <td>22:45:00</td>\n",
       "      <td>Winter</td>\n",
       "      <td>65</td>\n",
       "      <td>10.610769</td>\n",
       "      <td>560.307692</td>\n",
       "      <td>inf</td>\n",
       "      <td>1365</td>\n",
       "    </tr>\n",
       "    <tr>\n",
       "      <th>8060</th>\n",
       "      <td>6</td>\n",
       "      <td>12</td>\n",
       "      <td>23:00:00</td>\n",
       "      <td>Winter</td>\n",
       "      <td>59</td>\n",
       "      <td>11.468644</td>\n",
       "      <td>587.586207</td>\n",
       "      <td>inf</td>\n",
       "      <td>1380</td>\n",
       "    </tr>\n",
       "    <tr>\n",
       "      <th>8061</th>\n",
       "      <td>6</td>\n",
       "      <td>12</td>\n",
       "      <td>23:15:00</td>\n",
       "      <td>Winter</td>\n",
       "      <td>74</td>\n",
       "      <td>11.552838</td>\n",
       "      <td>638.918919</td>\n",
       "      <td>inf</td>\n",
       "      <td>1395</td>\n",
       "    </tr>\n",
       "    <tr>\n",
       "      <th>8062</th>\n",
       "      <td>6</td>\n",
       "      <td>12</td>\n",
       "      <td>23:30:00</td>\n",
       "      <td>Winter</td>\n",
       "      <td>71</td>\n",
       "      <td>12.510845</td>\n",
       "      <td>638.571429</td>\n",
       "      <td>inf</td>\n",
       "      <td>1410</td>\n",
       "    </tr>\n",
       "    <tr>\n",
       "      <th>8063</th>\n",
       "      <td>6</td>\n",
       "      <td>12</td>\n",
       "      <td>23:45:00</td>\n",
       "      <td>Winter</td>\n",
       "      <td>61</td>\n",
       "      <td>11.543115</td>\n",
       "      <td>626.918033</td>\n",
       "      <td>0.022561</td>\n",
       "      <td>1425</td>\n",
       "    </tr>\n",
       "  </tbody>\n",
       "</table>\n",
       "</div>"
      ],
      "text/plain": [
       "      day  month      time  season  Count_Trips  Trip Total  Trip Seconds  \\\n",
       "8059    6     12  22:45:00  Winter           65   10.610769    560.307692   \n",
       "8060    6     12  23:00:00  Winter           59   11.468644    587.586207   \n",
       "8061    6     12  23:15:00  Winter           74   11.552838    638.918919   \n",
       "8062    6     12  23:30:00  Winter           71   12.510845    638.571429   \n",
       "8063    6     12  23:45:00  Winter           61   11.543115    626.918033   \n",
       "\n",
       "          rate  num_minutes  \n",
       "8059       inf         1365  \n",
       "8060       inf         1380  \n",
       "8061       inf         1395  \n",
       "8062       inf         1410  \n",
       "8063  0.022561         1425  "
      ]
     },
     "execution_count": 45,
     "metadata": {},
     "output_type": "execute_result"
    }
   ],
   "source": [
    "df_analysis.tail(5)"
   ]
  },
  {
   "cell_type": "code",
   "execution_count": 42,
   "metadata": {},
   "outputs": [],
   "source": [
    "df_analysis.rename(columns={'Trip Miles':'Count_Trips'},inplace=True)"
   ]
  },
  {
   "cell_type": "code",
   "execution_count": 44,
   "metadata": {},
   "outputs": [],
   "source": [
    "df_analysis['num_minutes'] = df_analysis['time'].transform(lambda dt: dt.hour*60 + dt.minute)"
   ]
  },
  {
   "cell_type": "code",
   "execution_count": null,
   "metadata": {},
   "outputs": [],
   "source": []
  }
 ],
 "metadata": {
  "kernelspec": {
   "display_name": "Python 3",
   "language": "python",
   "name": "python3"
  },
  "language_info": {
   "codemirror_mode": {
    "name": "ipython",
    "version": 3
   },
   "file_extension": ".py",
   "mimetype": "text/x-python",
   "name": "python",
   "nbconvert_exporter": "python",
   "pygments_lexer": "ipython3",
   "version": "3.6.5"
  }
 },
 "nbformat": 4,
 "nbformat_minor": 2
}
