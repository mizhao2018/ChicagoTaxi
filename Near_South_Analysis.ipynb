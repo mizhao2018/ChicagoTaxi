{
 "cells": [
  {
   "cell_type": "code",
   "execution_count": 13,
   "metadata": {},
   "outputs": [],
   "source": [
    "import pandas as pd\n",
    "import numpy as np\n",
    "import datetime as dt\n",
    "import matplotlib.pyplot as plt\n",
    "import seaborn as sn\n",
    "import time\n",
    "import pickle\n",
    "# set image size to default\n",
    "plt.rcParams['figure.figsize']=(19,5)\n",
    "\n",
    "import patsy\n",
    "%matplotlib inline\n",
    "plt.style.use('seaborn')"
   ]
  },
  {
   "cell_type": "code",
   "execution_count": 14,
   "metadata": {},
   "outputs": [
    {
     "name": "stdout",
     "output_type": "stream",
     "text": [
      "CPU times: user 3 µs, sys: 1 µs, total: 4 µs\n",
      "Wall time: 7.87 µs\n"
     ]
    }
   ],
   "source": [
    "%time\n",
    "df = pd.read_csv('Taxi_Trips_NearSouth_Updated.csv')"
   ]
  },
  {
   "cell_type": "code",
   "execution_count": 15,
   "metadata": {},
   "outputs": [
    {
     "data": {
      "text/plain": [
       "(2204222, 18)"
      ]
     },
     "execution_count": 15,
     "metadata": {},
     "output_type": "execute_result"
    }
   ],
   "source": [
    "df.shape"
   ]
  },
  {
   "cell_type": "code",
   "execution_count": 18,
   "metadata": {},
   "outputs": [
    {
     "data": {
      "text/html": [
       "<div>\n",
       "<style scoped>\n",
       "    .dataframe tbody tr th:only-of-type {\n",
       "        vertical-align: middle;\n",
       "    }\n",
       "\n",
       "    .dataframe tbody tr th {\n",
       "        vertical-align: top;\n",
       "    }\n",
       "\n",
       "    .dataframe thead th {\n",
       "        text-align: right;\n",
       "    }\n",
       "</style>\n",
       "<table border=\"1\" class=\"dataframe\">\n",
       "  <thead>\n",
       "    <tr style=\"text-align: right;\">\n",
       "      <th></th>\n",
       "      <th>Trip Start Timestamp</th>\n",
       "      <th>Trip Seconds</th>\n",
       "      <th>Trip Miles</th>\n",
       "      <th>Pickup Community Area</th>\n",
       "      <th>Fare</th>\n",
       "      <th>Tips</th>\n",
       "      <th>Tolls</th>\n",
       "      <th>Extras</th>\n",
       "      <th>Trip Total</th>\n",
       "      <th>Pickup Centroid Latitude</th>\n",
       "      <th>Pickup Centroid Longitude</th>\n",
       "      <th>Dropoff Centroid Latitude</th>\n",
       "      <th>Dropoff Centroid Longitude</th>\n",
       "    </tr>\n",
       "  </thead>\n",
       "  <tbody>\n",
       "    <tr>\n",
       "      <th>0</th>\n",
       "      <td>01/01/2013 12:00:00 AM</td>\n",
       "      <td>360.0</td>\n",
       "      <td>2.3</td>\n",
       "      <td>33</td>\n",
       "      <td>7.85</td>\n",
       "      <td>0.0</td>\n",
       "      <td>0.0</td>\n",
       "      <td>2.0</td>\n",
       "      <td>9.85</td>\n",
       "      <td>41.859350</td>\n",
       "      <td>-87.617358</td>\n",
       "      <td>41.884987</td>\n",
       "      <td>-87.620993</td>\n",
       "    </tr>\n",
       "    <tr>\n",
       "      <th>1</th>\n",
       "      <td>01/01/2013 12:00:00 AM</td>\n",
       "      <td>480.0</td>\n",
       "      <td>0.0</td>\n",
       "      <td>33</td>\n",
       "      <td>7.65</td>\n",
       "      <td>1.0</td>\n",
       "      <td>0.0</td>\n",
       "      <td>1.0</td>\n",
       "      <td>9.65</td>\n",
       "      <td>41.859350</td>\n",
       "      <td>-87.617358</td>\n",
       "      <td>41.880994</td>\n",
       "      <td>-87.632746</td>\n",
       "    </tr>\n",
       "    <tr>\n",
       "      <th>2</th>\n",
       "      <td>01/01/2013 12:00:00 AM</td>\n",
       "      <td>1200.0</td>\n",
       "      <td>3.7</td>\n",
       "      <td>33</td>\n",
       "      <td>13.45</td>\n",
       "      <td>0.0</td>\n",
       "      <td>0.0</td>\n",
       "      <td>1.5</td>\n",
       "      <td>14.95</td>\n",
       "      <td>41.859350</td>\n",
       "      <td>-87.617358</td>\n",
       "      <td>41.898332</td>\n",
       "      <td>-87.620763</td>\n",
       "    </tr>\n",
       "    <tr>\n",
       "      <th>3</th>\n",
       "      <td>01/01/2013 12:00:00 AM</td>\n",
       "      <td>60.0</td>\n",
       "      <td>0.3</td>\n",
       "      <td>33</td>\n",
       "      <td>3.65</td>\n",
       "      <td>0.0</td>\n",
       "      <td>0.0</td>\n",
       "      <td>1.0</td>\n",
       "      <td>4.65</td>\n",
       "      <td>41.859350</td>\n",
       "      <td>-87.617358</td>\n",
       "      <td>41.859350</td>\n",
       "      <td>-87.617358</td>\n",
       "    </tr>\n",
       "    <tr>\n",
       "      <th>4</th>\n",
       "      <td>01/01/2013 12:00:00 AM</td>\n",
       "      <td>900.0</td>\n",
       "      <td>0.0</td>\n",
       "      <td>33</td>\n",
       "      <td>10.65</td>\n",
       "      <td>0.0</td>\n",
       "      <td>0.0</td>\n",
       "      <td>2.0</td>\n",
       "      <td>12.65</td>\n",
       "      <td>41.857184</td>\n",
       "      <td>-87.620335</td>\n",
       "      <td>41.899602</td>\n",
       "      <td>-87.633308</td>\n",
       "    </tr>\n",
       "  </tbody>\n",
       "</table>\n",
       "</div>"
      ],
      "text/plain": [
       "     Trip Start Timestamp  Trip Seconds  Trip Miles  Pickup Community Area  \\\n",
       "0  01/01/2013 12:00:00 AM         360.0         2.3                     33   \n",
       "1  01/01/2013 12:00:00 AM         480.0         0.0                     33   \n",
       "2  01/01/2013 12:00:00 AM        1200.0         3.7                     33   \n",
       "3  01/01/2013 12:00:00 AM          60.0         0.3                     33   \n",
       "4  01/01/2013 12:00:00 AM         900.0         0.0                     33   \n",
       "\n",
       "    Fare  Tips  Tolls  Extras  Trip Total  Pickup Centroid Latitude  \\\n",
       "0   7.85   0.0    0.0     2.0        9.85                 41.859350   \n",
       "1   7.65   1.0    0.0     1.0        9.65                 41.859350   \n",
       "2  13.45   0.0    0.0     1.5       14.95                 41.859350   \n",
       "3   3.65   0.0    0.0     1.0        4.65                 41.859350   \n",
       "4  10.65   0.0    0.0     2.0       12.65                 41.857184   \n",
       "\n",
       "   Pickup Centroid Longitude  Dropoff Centroid Latitude  \\\n",
       "0                 -87.617358                  41.884987   \n",
       "1                 -87.617358                  41.880994   \n",
       "2                 -87.617358                  41.898332   \n",
       "3                 -87.617358                  41.859350   \n",
       "4                 -87.620335                  41.899602   \n",
       "\n",
       "   Dropoff Centroid Longitude  \n",
       "0                  -87.620993  \n",
       "1                  -87.632746  \n",
       "2                  -87.620763  \n",
       "3                  -87.617358  \n",
       "4                  -87.633308  "
      ]
     },
     "execution_count": 18,
     "metadata": {},
     "output_type": "execute_result"
    }
   ],
   "source": [
    "df.head(5)"
   ]
  },
  {
   "cell_type": "code",
   "execution_count": 17,
   "metadata": {},
   "outputs": [],
   "source": [
    "df = df.drop(['Trip ID','Taxi ID','Trip End Timestamp','Dropoff Community Area','Payment Type'],axis=1)"
   ]
  },
  {
   "cell_type": "code",
   "execution_count": 19,
   "metadata": {},
   "outputs": [
    {
     "name": "stdout",
     "output_type": "stream",
     "text": [
      "CPU times: user 3 µs, sys: 1e+03 ns, total: 4 µs\n",
      "Wall time: 6.91 µs\n"
     ]
    }
   ],
   "source": [
    "%time\n",
    "# Change datetime format for trip start and remove original timestamp \n",
    "df['Trip_Start'] = pd.to_datetime(df['Trip Start Timestamp'])\n",
    "df.drop('Trip Start Timestamp',axis=1, inplace=True)"
   ]
  },
  {
   "cell_type": "code",
   "execution_count": 20,
   "metadata": {},
   "outputs": [],
   "source": [
    "dfn = df.copy()"
   ]
  },
  {
   "cell_type": "code",
   "execution_count": 21,
   "metadata": {},
   "outputs": [],
   "source": [
    "# pickle the dataframe to review for later\n",
    "dfn.to_pickle('NearSouth_DataFrame.pkl')"
   ]
  },
  {
   "cell_type": "code",
   "execution_count": 22,
   "metadata": {},
   "outputs": [],
   "source": [
    "dfn['month'] = dfn.Trip_Start.dt.month\n",
    "dfn['time'] = dfn.Trip_Start.dt.time\n",
    "dfn['day']=dfn.Trip_Start.dt.dayofweek\n",
    "dfn['date']=dfn.Trip_Start.dt.date"
   ]
  },
  {
   "cell_type": "code",
   "execution_count": 23,
   "metadata": {},
   "outputs": [],
   "source": [
    "dfn = dfn.drop(['Pickup Centroid Latitude','Pickup Centroid Longitude','Dropoff Centroid Latitude',\n",
    "                'Dropoff Centroid Longitude', 'Pickup Community Area'],axis=1)"
   ]
  },
  {
   "cell_type": "code",
   "execution_count": 31,
   "metadata": {
    "scrolled": true
   },
   "outputs": [
    {
     "data": {
      "text/html": [
       "<div>\n",
       "<style scoped>\n",
       "    .dataframe tbody tr th:only-of-type {\n",
       "        vertical-align: middle;\n",
       "    }\n",
       "\n",
       "    .dataframe tbody tr th {\n",
       "        vertical-align: top;\n",
       "    }\n",
       "\n",
       "    .dataframe thead th {\n",
       "        text-align: right;\n",
       "    }\n",
       "</style>\n",
       "<table border=\"1\" class=\"dataframe\">\n",
       "  <thead>\n",
       "    <tr style=\"text-align: right;\">\n",
       "      <th></th>\n",
       "      <th>Trip Seconds</th>\n",
       "      <th>Trip Miles</th>\n",
       "      <th>Fare</th>\n",
       "      <th>Tips</th>\n",
       "      <th>Tolls</th>\n",
       "      <th>Extras</th>\n",
       "      <th>Trip Total</th>\n",
       "      <th>Trip_Start</th>\n",
       "      <th>time</th>\n",
       "      <th>date</th>\n",
       "      <th>Day</th>\n",
       "      <th>season</th>\n",
       "    </tr>\n",
       "  </thead>\n",
       "  <tbody>\n",
       "    <tr>\n",
       "      <th>0</th>\n",
       "      <td>360.0</td>\n",
       "      <td>2.3</td>\n",
       "      <td>7.85</td>\n",
       "      <td>0.0</td>\n",
       "      <td>0.0</td>\n",
       "      <td>2.0</td>\n",
       "      <td>9.85</td>\n",
       "      <td>2013-01-01</td>\n",
       "      <td>00:00:00</td>\n",
       "      <td>2013-01-01</td>\n",
       "      <td>Tuesday</td>\n",
       "      <td>Winter</td>\n",
       "    </tr>\n",
       "    <tr>\n",
       "      <th>1</th>\n",
       "      <td>480.0</td>\n",
       "      <td>0.0</td>\n",
       "      <td>7.65</td>\n",
       "      <td>1.0</td>\n",
       "      <td>0.0</td>\n",
       "      <td>1.0</td>\n",
       "      <td>9.65</td>\n",
       "      <td>2013-01-01</td>\n",
       "      <td>00:00:00</td>\n",
       "      <td>2013-01-01</td>\n",
       "      <td>Tuesday</td>\n",
       "      <td>Winter</td>\n",
       "    </tr>\n",
       "    <tr>\n",
       "      <th>2</th>\n",
       "      <td>1200.0</td>\n",
       "      <td>3.7</td>\n",
       "      <td>13.45</td>\n",
       "      <td>0.0</td>\n",
       "      <td>0.0</td>\n",
       "      <td>1.5</td>\n",
       "      <td>14.95</td>\n",
       "      <td>2013-01-01</td>\n",
       "      <td>00:00:00</td>\n",
       "      <td>2013-01-01</td>\n",
       "      <td>Tuesday</td>\n",
       "      <td>Winter</td>\n",
       "    </tr>\n",
       "    <tr>\n",
       "      <th>3</th>\n",
       "      <td>60.0</td>\n",
       "      <td>0.3</td>\n",
       "      <td>3.65</td>\n",
       "      <td>0.0</td>\n",
       "      <td>0.0</td>\n",
       "      <td>1.0</td>\n",
       "      <td>4.65</td>\n",
       "      <td>2013-01-01</td>\n",
       "      <td>00:00:00</td>\n",
       "      <td>2013-01-01</td>\n",
       "      <td>Tuesday</td>\n",
       "      <td>Winter</td>\n",
       "    </tr>\n",
       "    <tr>\n",
       "      <th>4</th>\n",
       "      <td>900.0</td>\n",
       "      <td>0.0</td>\n",
       "      <td>10.65</td>\n",
       "      <td>0.0</td>\n",
       "      <td>0.0</td>\n",
       "      <td>2.0</td>\n",
       "      <td>12.65</td>\n",
       "      <td>2013-01-01</td>\n",
       "      <td>00:00:00</td>\n",
       "      <td>2013-01-01</td>\n",
       "      <td>Tuesday</td>\n",
       "      <td>Winter</td>\n",
       "    </tr>\n",
       "  </tbody>\n",
       "</table>\n",
       "</div>"
      ],
      "text/plain": [
       "   Trip Seconds  Trip Miles   Fare  Tips  Tolls  Extras  Trip Total  \\\n",
       "0         360.0         2.3   7.85   0.0    0.0     2.0        9.85   \n",
       "1         480.0         0.0   7.65   1.0    0.0     1.0        9.65   \n",
       "2        1200.0         3.7  13.45   0.0    0.0     1.5       14.95   \n",
       "3          60.0         0.3   3.65   0.0    0.0     1.0        4.65   \n",
       "4         900.0         0.0  10.65   0.0    0.0     2.0       12.65   \n",
       "\n",
       "  Trip_Start      time        date      Day  season  \n",
       "0 2013-01-01  00:00:00  2013-01-01  Tuesday  Winter  \n",
       "1 2013-01-01  00:00:00  2013-01-01  Tuesday  Winter  \n",
       "2 2013-01-01  00:00:00  2013-01-01  Tuesday  Winter  \n",
       "3 2013-01-01  00:00:00  2013-01-01  Tuesday  Winter  \n",
       "4 2013-01-01  00:00:00  2013-01-01  Tuesday  Winter  "
      ]
     },
     "execution_count": 31,
     "metadata": {},
     "output_type": "execute_result"
    }
   ],
   "source": [
    "dfn.head(5)"
   ]
  },
  {
   "cell_type": "code",
   "execution_count": 32,
   "metadata": {},
   "outputs": [
    {
     "data": {
      "text/plain": [
       "(2204222, 12)"
      ]
     },
     "execution_count": 32,
     "metadata": {},
     "output_type": "execute_result"
    }
   ],
   "source": [
    "dfn.shape"
   ]
  },
  {
   "cell_type": "code",
   "execution_count": 25,
   "metadata": {},
   "outputs": [],
   "source": [
    "# Create a Day column\n",
    "def day_convert(row):\n",
    "    if row['day'] == 0:\n",
    "        val = 'Monday'\n",
    "    elif row['day'] == 1:\n",
    "        val = 'Tuesday'\n",
    "    elif row['day'] == 2:\n",
    "        val = 'Wednesday'\n",
    "    elif row['day'] == 3:\n",
    "        val = 'Thursday'\n",
    "    elif row['day'] == 4:\n",
    "        val = 'Friday'\n",
    "    elif row['day'] == 5:\n",
    "        val = 'Saturday'\n",
    "    else:\n",
    "        val = 'Sunday'\n",
    "    return val\n",
    "dfn['Day'] = dfn.apply(day_convert, axis=1)\n",
    "\n",
    "dfn.drop('day', axis=1, inplace=True)"
   ]
  },
  {
   "cell_type": "code",
   "execution_count": 26,
   "metadata": {},
   "outputs": [],
   "source": [
    "# create a season column\n",
    "def f(row):\n",
    "    if row['month'] in (12, 1, 2):\n",
    "        val = 'Winter'\n",
    "    elif row['month'] in [3,4,5]:\n",
    "        val = 'Spring'\n",
    "    elif row['month'] in [6,7,8]:\n",
    "        val = 'Summer'\n",
    "    else:\n",
    "        val = 'Fall'\n",
    "    return val\n",
    "\n",
    "dfn['season'] = dfn.apply(f, axis=1)\n",
    "\n",
    "dfn.drop('month', axis=1, inplace=True)"
   ]
  },
  {
   "cell_type": "code",
   "execution_count": 44,
   "metadata": {},
   "outputs": [],
   "source": [
    "gcol = ['Trip_Start']\n",
    "df_analysis = dfn.groupby(gcol).aggregate({\n",
    "    'Trip Miles':'count',\n",
    "    'Trip Total':'mean',\n",
    "    'Trip Seconds': 'mean'\n",
    "}).reset_index()"
   ]
  },
  {
   "cell_type": "code",
   "execution_count": 48,
   "metadata": {},
   "outputs": [
    {
     "data": {
      "text/html": [
       "<div>\n",
       "<style scoped>\n",
       "    .dataframe tbody tr th:only-of-type {\n",
       "        vertical-align: middle;\n",
       "    }\n",
       "\n",
       "    .dataframe tbody tr th {\n",
       "        vertical-align: top;\n",
       "    }\n",
       "\n",
       "    .dataframe thead th {\n",
       "        text-align: right;\n",
       "    }\n",
       "</style>\n",
       "<table border=\"1\" class=\"dataframe\">\n",
       "  <thead>\n",
       "    <tr style=\"text-align: right;\">\n",
       "      <th></th>\n",
       "      <th>Trip_Start</th>\n",
       "      <th>Trip Miles</th>\n",
       "      <th>Trip Total</th>\n",
       "      <th>Trip Seconds</th>\n",
       "      <th>month</th>\n",
       "      <th>day</th>\n",
       "    </tr>\n",
       "  </thead>\n",
       "  <tbody>\n",
       "    <tr>\n",
       "      <th>0</th>\n",
       "      <td>2013-01-01 00:00:00</td>\n",
       "      <td>10</td>\n",
       "      <td>10.665000</td>\n",
       "      <td>396.000000</td>\n",
       "      <td>1</td>\n",
       "      <td>1</td>\n",
       "    </tr>\n",
       "    <tr>\n",
       "      <th>1</th>\n",
       "      <td>2013-01-01 00:15:00</td>\n",
       "      <td>20</td>\n",
       "      <td>11.174500</td>\n",
       "      <td>630.000000</td>\n",
       "      <td>1</td>\n",
       "      <td>1</td>\n",
       "    </tr>\n",
       "    <tr>\n",
       "      <th>2</th>\n",
       "      <td>2013-01-01 00:30:00</td>\n",
       "      <td>11</td>\n",
       "      <td>11.704545</td>\n",
       "      <td>654.545455</td>\n",
       "      <td>1</td>\n",
       "      <td>1</td>\n",
       "    </tr>\n",
       "    <tr>\n",
       "      <th>3</th>\n",
       "      <td>2013-01-01 00:45:00</td>\n",
       "      <td>15</td>\n",
       "      <td>548.032667</td>\n",
       "      <td>648.000000</td>\n",
       "      <td>1</td>\n",
       "      <td>1</td>\n",
       "    </tr>\n",
       "    <tr>\n",
       "      <th>4</th>\n",
       "      <td>2013-01-01 01:00:00</td>\n",
       "      <td>18</td>\n",
       "      <td>11.732778</td>\n",
       "      <td>690.000000</td>\n",
       "      <td>1</td>\n",
       "      <td>1</td>\n",
       "    </tr>\n",
       "  </tbody>\n",
       "</table>\n",
       "</div>"
      ],
      "text/plain": [
       "           Trip_Start  Trip Miles  Trip Total  Trip Seconds  month  day\n",
       "0 2013-01-01 00:00:00          10   10.665000    396.000000      1    1\n",
       "1 2013-01-01 00:15:00          20   11.174500    630.000000      1    1\n",
       "2 2013-01-01 00:30:00          11   11.704545    654.545455      1    1\n",
       "3 2013-01-01 00:45:00          15  548.032667    648.000000      1    1\n",
       "4 2013-01-01 01:00:00          18   11.732778    690.000000      1    1"
      ]
     },
     "execution_count": 48,
     "metadata": {},
     "output_type": "execute_result"
    }
   ],
   "source": [
    "df_analysis.head(5)"
   ]
  },
  {
   "cell_type": "code",
   "execution_count": 38,
   "metadata": {},
   "outputs": [],
   "source": [
    "#df_analysis.set_index('Trip_Start',inplace=True)"
   ]
  },
  {
   "cell_type": "code",
   "execution_count": 46,
   "metadata": {},
   "outputs": [],
   "source": [
    "import datetime as dt"
   ]
  },
  {
   "cell_type": "code",
   "execution_count": 47,
   "metadata": {},
   "outputs": [],
   "source": [
    "df_analysis['month'] = df_analysis.Trip_Start.dt.month\n",
    "df_analysis['day']=df_analysis.Trip_Start.dt.dayofweek"
   ]
  },
  {
   "cell_type": "code",
   "execution_count": 68,
   "metadata": {},
   "outputs": [],
   "source": [
    "df_analysis.rename(columns={'Trip Miles':'Count_Trips'},inplace=True)"
   ]
  },
  {
   "cell_type": "code",
   "execution_count": 49,
   "metadata": {},
   "outputs": [],
   "source": [
    "# Create a Day column\n",
    "def day_convert(row):\n",
    "    if row['day'] == 0:\n",
    "        val = 'Monday'\n",
    "    elif row['day'] == 1:\n",
    "        val = 'Tuesday'\n",
    "    elif row['day'] == 2:\n",
    "        val = 'Wednesday'\n",
    "    elif row['day'] == 3:\n",
    "        val = 'Thursday'\n",
    "    elif row['day'] == 4:\n",
    "        val = 'Friday'\n",
    "    elif row['day'] == 5:\n",
    "        val = 'Saturday'\n",
    "    else:\n",
    "        val = 'Sunday'\n",
    "    return val\n",
    "df_analysis['Day'] = df_analysis.apply(day_convert, axis=1)\n",
    "\n",
    "df_analysis.drop('day', axis=1, inplace=True)\n",
    "\n",
    "# create a season column\n",
    "def f(row):\n",
    "    if row['month'] in (12, 1, 2):\n",
    "        val = 'Winter'\n",
    "    elif row['month'] in [3,4,5]:\n",
    "        val = 'Spring'\n",
    "    elif row['month'] in [6,7,8]:\n",
    "        val = 'Summer'\n",
    "    else:\n",
    "        val = 'Fall'\n",
    "    return val\n",
    "\n",
    "df_analysis['season'] = df_analysis.apply(f, axis=1)\n",
    "\n",
    "df_analysis.drop('month', axis=1, inplace=True)"
   ]
  },
  {
   "cell_type": "code",
   "execution_count": 51,
   "metadata": {
    "scrolled": true
   },
   "outputs": [
    {
     "data": {
      "text/plain": [
       "(147414, 6)"
      ]
     },
     "execution_count": 51,
     "metadata": {},
     "output_type": "execute_result"
    }
   ],
   "source": [
    "df_analysis.shape"
   ]
  },
  {
   "cell_type": "code",
   "execution_count": 60,
   "metadata": {
    "scrolled": true
   },
   "outputs": [
    {
     "data": {
      "text/html": [
       "<div>\n",
       "<style scoped>\n",
       "    .dataframe tbody tr th:only-of-type {\n",
       "        vertical-align: middle;\n",
       "    }\n",
       "\n",
       "    .dataframe tbody tr th {\n",
       "        vertical-align: top;\n",
       "    }\n",
       "\n",
       "    .dataframe thead th {\n",
       "        text-align: right;\n",
       "    }\n",
       "</style>\n",
       "<table border=\"1\" class=\"dataframe\">\n",
       "  <thead>\n",
       "    <tr style=\"text-align: right;\">\n",
       "      <th></th>\n",
       "      <th>Trip_Start</th>\n",
       "      <th>Trip Miles</th>\n",
       "      <th>Trip Total</th>\n",
       "      <th>Trip Seconds</th>\n",
       "      <th>Day</th>\n",
       "      <th>season</th>\n",
       "      <th>season[T.Spring]</th>\n",
       "      <th>season[T.Summer]</th>\n",
       "      <th>season[T.Winter]</th>\n",
       "    </tr>\n",
       "  </thead>\n",
       "  <tbody>\n",
       "    <tr>\n",
       "      <th>0</th>\n",
       "      <td>2013-01-01 00:00:00</td>\n",
       "      <td>10</td>\n",
       "      <td>10.665000</td>\n",
       "      <td>396.000000</td>\n",
       "      <td>Tuesday</td>\n",
       "      <td>Winter</td>\n",
       "      <td>0.0</td>\n",
       "      <td>0.0</td>\n",
       "      <td>1.0</td>\n",
       "    </tr>\n",
       "    <tr>\n",
       "      <th>1</th>\n",
       "      <td>2013-01-01 00:15:00</td>\n",
       "      <td>20</td>\n",
       "      <td>11.174500</td>\n",
       "      <td>630.000000</td>\n",
       "      <td>Tuesday</td>\n",
       "      <td>Winter</td>\n",
       "      <td>0.0</td>\n",
       "      <td>0.0</td>\n",
       "      <td>1.0</td>\n",
       "    </tr>\n",
       "    <tr>\n",
       "      <th>2</th>\n",
       "      <td>2013-01-01 00:30:00</td>\n",
       "      <td>11</td>\n",
       "      <td>11.704545</td>\n",
       "      <td>654.545455</td>\n",
       "      <td>Tuesday</td>\n",
       "      <td>Winter</td>\n",
       "      <td>0.0</td>\n",
       "      <td>0.0</td>\n",
       "      <td>1.0</td>\n",
       "    </tr>\n",
       "    <tr>\n",
       "      <th>3</th>\n",
       "      <td>2013-01-01 00:45:00</td>\n",
       "      <td>15</td>\n",
       "      <td>548.032667</td>\n",
       "      <td>648.000000</td>\n",
       "      <td>Tuesday</td>\n",
       "      <td>Winter</td>\n",
       "      <td>0.0</td>\n",
       "      <td>0.0</td>\n",
       "      <td>1.0</td>\n",
       "    </tr>\n",
       "    <tr>\n",
       "      <th>4</th>\n",
       "      <td>2013-01-01 01:00:00</td>\n",
       "      <td>18</td>\n",
       "      <td>11.732778</td>\n",
       "      <td>690.000000</td>\n",
       "      <td>Tuesday</td>\n",
       "      <td>Winter</td>\n",
       "      <td>0.0</td>\n",
       "      <td>0.0</td>\n",
       "      <td>1.0</td>\n",
       "    </tr>\n",
       "  </tbody>\n",
       "</table>\n",
       "</div>"
      ],
      "text/plain": [
       "           Trip_Start  Trip Miles  Trip Total  Trip Seconds      Day  season  \\\n",
       "0 2013-01-01 00:00:00          10   10.665000    396.000000  Tuesday  Winter   \n",
       "1 2013-01-01 00:15:00          20   11.174500    630.000000  Tuesday  Winter   \n",
       "2 2013-01-01 00:30:00          11   11.704545    654.545455  Tuesday  Winter   \n",
       "3 2013-01-01 00:45:00          15  548.032667    648.000000  Tuesday  Winter   \n",
       "4 2013-01-01 01:00:00          18   11.732778    690.000000  Tuesday  Winter   \n",
       "\n",
       "   season[T.Spring]  season[T.Summer]  season[T.Winter]  \n",
       "0               0.0               0.0               1.0  \n",
       "1               0.0               0.0               1.0  \n",
       "2               0.0               0.0               1.0  \n",
       "3               0.0               0.0               1.0  \n",
       "4               0.0               0.0               1.0  "
      ]
     },
     "execution_count": 60,
     "metadata": {},
     "output_type": "execute_result"
    }
   ],
   "source": [
    "df_analysis1.head(5)"
   ]
  },
  {
   "cell_type": "code",
   "execution_count": 119,
   "metadata": {},
   "outputs": [],
   "source": [
    "#df_analysis.drop('time',axis=1,inplace=True)"
   ]
  },
  {
   "cell_type": "code",
   "execution_count": 117,
   "metadata": {},
   "outputs": [],
   "source": [
    "#df_analysis['num_minutes'] = df_analysis['time'].transform(lambda dt: dt.hour*60 + dt.minute)"
   ]
  },
  {
   "cell_type": "code",
   "execution_count": 53,
   "metadata": {},
   "outputs": [],
   "source": [
    "# make day, and season categorical variables \n",
    "season_c=patsy.dmatrix('season',data=df_analysis,return_type='dataframe')\n",
    "day_c=patsy.dmatrix('Day',data=df_analysis,return_type='dataframe')"
   ]
  },
  {
   "cell_type": "code",
   "execution_count": 55,
   "metadata": {},
   "outputs": [],
   "source": [
    "df_analysis1=df_analysis.join(season_c)"
   ]
  },
  {
   "cell_type": "code",
   "execution_count": 61,
   "metadata": {},
   "outputs": [],
   "source": [
    "df_analysis=df_analysis1.join(day_c)"
   ]
  },
  {
   "cell_type": "code",
   "execution_count": 64,
   "metadata": {},
   "outputs": [
    {
     "data": {
      "text/html": [
       "<div>\n",
       "<style scoped>\n",
       "    .dataframe tbody tr th:only-of-type {\n",
       "        vertical-align: middle;\n",
       "    }\n",
       "\n",
       "    .dataframe tbody tr th {\n",
       "        vertical-align: top;\n",
       "    }\n",
       "\n",
       "    .dataframe thead th {\n",
       "        text-align: right;\n",
       "    }\n",
       "</style>\n",
       "<table border=\"1\" class=\"dataframe\">\n",
       "  <thead>\n",
       "    <tr style=\"text-align: right;\">\n",
       "      <th></th>\n",
       "      <th>Trip_Start</th>\n",
       "      <th>Trip Miles</th>\n",
       "      <th>Trip Total</th>\n",
       "      <th>Trip Seconds</th>\n",
       "      <th>season[T.Spring]</th>\n",
       "      <th>season[T.Summer]</th>\n",
       "      <th>season[T.Winter]</th>\n",
       "      <th>Intercept</th>\n",
       "      <th>Day[T.Monday]</th>\n",
       "      <th>Day[T.Saturday]</th>\n",
       "      <th>Day[T.Sunday]</th>\n",
       "      <th>Day[T.Thursday]</th>\n",
       "      <th>Day[T.Tuesday]</th>\n",
       "      <th>Day[T.Wednesday]</th>\n",
       "    </tr>\n",
       "  </thead>\n",
       "  <tbody>\n",
       "    <tr>\n",
       "      <th>0</th>\n",
       "      <td>2013-01-01 00:00:00</td>\n",
       "      <td>10</td>\n",
       "      <td>10.665000</td>\n",
       "      <td>396.000000</td>\n",
       "      <td>0.0</td>\n",
       "      <td>0.0</td>\n",
       "      <td>1.0</td>\n",
       "      <td>1.0</td>\n",
       "      <td>0.0</td>\n",
       "      <td>0.0</td>\n",
       "      <td>0.0</td>\n",
       "      <td>0.0</td>\n",
       "      <td>1.0</td>\n",
       "      <td>0.0</td>\n",
       "    </tr>\n",
       "    <tr>\n",
       "      <th>1</th>\n",
       "      <td>2013-01-01 00:15:00</td>\n",
       "      <td>20</td>\n",
       "      <td>11.174500</td>\n",
       "      <td>630.000000</td>\n",
       "      <td>0.0</td>\n",
       "      <td>0.0</td>\n",
       "      <td>1.0</td>\n",
       "      <td>1.0</td>\n",
       "      <td>0.0</td>\n",
       "      <td>0.0</td>\n",
       "      <td>0.0</td>\n",
       "      <td>0.0</td>\n",
       "      <td>1.0</td>\n",
       "      <td>0.0</td>\n",
       "    </tr>\n",
       "    <tr>\n",
       "      <th>2</th>\n",
       "      <td>2013-01-01 00:30:00</td>\n",
       "      <td>11</td>\n",
       "      <td>11.704545</td>\n",
       "      <td>654.545455</td>\n",
       "      <td>0.0</td>\n",
       "      <td>0.0</td>\n",
       "      <td>1.0</td>\n",
       "      <td>1.0</td>\n",
       "      <td>0.0</td>\n",
       "      <td>0.0</td>\n",
       "      <td>0.0</td>\n",
       "      <td>0.0</td>\n",
       "      <td>1.0</td>\n",
       "      <td>0.0</td>\n",
       "    </tr>\n",
       "    <tr>\n",
       "      <th>3</th>\n",
       "      <td>2013-01-01 00:45:00</td>\n",
       "      <td>15</td>\n",
       "      <td>548.032667</td>\n",
       "      <td>648.000000</td>\n",
       "      <td>0.0</td>\n",
       "      <td>0.0</td>\n",
       "      <td>1.0</td>\n",
       "      <td>1.0</td>\n",
       "      <td>0.0</td>\n",
       "      <td>0.0</td>\n",
       "      <td>0.0</td>\n",
       "      <td>0.0</td>\n",
       "      <td>1.0</td>\n",
       "      <td>0.0</td>\n",
       "    </tr>\n",
       "    <tr>\n",
       "      <th>4</th>\n",
       "      <td>2013-01-01 01:00:00</td>\n",
       "      <td>18</td>\n",
       "      <td>11.732778</td>\n",
       "      <td>690.000000</td>\n",
       "      <td>0.0</td>\n",
       "      <td>0.0</td>\n",
       "      <td>1.0</td>\n",
       "      <td>1.0</td>\n",
       "      <td>0.0</td>\n",
       "      <td>0.0</td>\n",
       "      <td>0.0</td>\n",
       "      <td>0.0</td>\n",
       "      <td>1.0</td>\n",
       "      <td>0.0</td>\n",
       "    </tr>\n",
       "  </tbody>\n",
       "</table>\n",
       "</div>"
      ],
      "text/plain": [
       "           Trip_Start  Trip Miles  Trip Total  Trip Seconds  season[T.Spring]  \\\n",
       "0 2013-01-01 00:00:00          10   10.665000    396.000000               0.0   \n",
       "1 2013-01-01 00:15:00          20   11.174500    630.000000               0.0   \n",
       "2 2013-01-01 00:30:00          11   11.704545    654.545455               0.0   \n",
       "3 2013-01-01 00:45:00          15  548.032667    648.000000               0.0   \n",
       "4 2013-01-01 01:00:00          18   11.732778    690.000000               0.0   \n",
       "\n",
       "   season[T.Summer]  season[T.Winter]  Intercept  Day[T.Monday]  \\\n",
       "0               0.0               1.0        1.0            0.0   \n",
       "1               0.0               1.0        1.0            0.0   \n",
       "2               0.0               1.0        1.0            0.0   \n",
       "3               0.0               1.0        1.0            0.0   \n",
       "4               0.0               1.0        1.0            0.0   \n",
       "\n",
       "   Day[T.Saturday]  Day[T.Sunday]  Day[T.Thursday]  Day[T.Tuesday]  \\\n",
       "0              0.0            0.0              0.0             1.0   \n",
       "1              0.0            0.0              0.0             1.0   \n",
       "2              0.0            0.0              0.0             1.0   \n",
       "3              0.0            0.0              0.0             1.0   \n",
       "4              0.0            0.0              0.0             1.0   \n",
       "\n",
       "   Day[T.Wednesday]  \n",
       "0               0.0  \n",
       "1               0.0  \n",
       "2               0.0  \n",
       "3               0.0  \n",
       "4               0.0  "
      ]
     },
     "execution_count": 64,
     "metadata": {},
     "output_type": "execute_result"
    }
   ],
   "source": [
    "df_analysis.head(5)"
   ]
  },
  {
   "cell_type": "code",
   "execution_count": 63,
   "metadata": {},
   "outputs": [],
   "source": [
    "df_analysis.drop(['Day','season'],axis=1, inplace=True)"
   ]
  },
  {
   "cell_type": "code",
   "execution_count": 8,
   "metadata": {},
   "outputs": [],
   "source": [
    "# open the pickle file\n",
    "with open ('df_analysis_South.pkl', 'rb') as file:\n",
    "    df_analysis = pickle.load(file)"
   ]
  },
  {
   "cell_type": "code",
   "execution_count": 91,
   "metadata": {},
   "outputs": [],
   "source": [
    "# pickle the complete dataframe file\n",
    "df_weather.to_pickle('TripwithWeather.pkl')"
   ]
  },
  {
   "cell_type": "code",
   "execution_count": 84,
   "metadata": {},
   "outputs": [],
   "source": [
    "df_weather = df_analysis.merge(weather, how='left',left_on = df_analysis.Trip_Start, right_on = weather.DateTime)"
   ]
  },
  {
   "cell_type": "code",
   "execution_count": 90,
   "metadata": {},
   "outputs": [],
   "source": [
    "df_weather.rename(columns={'Trip Miles':'Count_Trips'},inplace=True)"
   ]
  },
  {
   "cell_type": "code",
   "execution_count": 85,
   "metadata": {},
   "outputs": [
    {
     "data": {
      "text/html": [
       "<div>\n",
       "<style scoped>\n",
       "    .dataframe tbody tr th:only-of-type {\n",
       "        vertical-align: middle;\n",
       "    }\n",
       "\n",
       "    .dataframe tbody tr th {\n",
       "        vertical-align: top;\n",
       "    }\n",
       "\n",
       "    .dataframe thead th {\n",
       "        text-align: right;\n",
       "    }\n",
       "</style>\n",
       "<table border=\"1\" class=\"dataframe\">\n",
       "  <thead>\n",
       "    <tr style=\"text-align: right;\">\n",
       "      <th></th>\n",
       "      <th>Trip_Start</th>\n",
       "      <th>Trip Miles</th>\n",
       "      <th>Trip Total</th>\n",
       "      <th>Trip Seconds</th>\n",
       "      <th>season[T.Spring]</th>\n",
       "      <th>season[T.Summer]</th>\n",
       "      <th>season[T.Winter]</th>\n",
       "      <th>Intercept</th>\n",
       "      <th>Day[T.Monday]</th>\n",
       "      <th>Day[T.Saturday]</th>\n",
       "      <th>Day[T.Sunday]</th>\n",
       "      <th>Day[T.Thursday]</th>\n",
       "      <th>Day[T.Tuesday]</th>\n",
       "      <th>Day[T.Wednesday]</th>\n",
       "      <th>DateTime</th>\n",
       "      <th>Vis</th>\n",
       "      <th>Temp</th>\n",
       "      <th>Humidity</th>\n",
       "      <th>Precip</th>\n",
       "    </tr>\n",
       "  </thead>\n",
       "  <tbody>\n",
       "    <tr>\n",
       "      <th>0</th>\n",
       "      <td>2013-01-01 00:00:00</td>\n",
       "      <td>10</td>\n",
       "      <td>10.665000</td>\n",
       "      <td>396.000000</td>\n",
       "      <td>0.0</td>\n",
       "      <td>0.0</td>\n",
       "      <td>1.0</td>\n",
       "      <td>1.0</td>\n",
       "      <td>0.0</td>\n",
       "      <td>0.0</td>\n",
       "      <td>0.0</td>\n",
       "      <td>0.0</td>\n",
       "      <td>1.0</td>\n",
       "      <td>0.0</td>\n",
       "      <td>NaT</td>\n",
       "      <td>NaN</td>\n",
       "      <td>NaN</td>\n",
       "      <td>NaN</td>\n",
       "      <td>NaN</td>\n",
       "    </tr>\n",
       "    <tr>\n",
       "      <th>1</th>\n",
       "      <td>2013-01-01 00:15:00</td>\n",
       "      <td>20</td>\n",
       "      <td>11.174500</td>\n",
       "      <td>630.000000</td>\n",
       "      <td>0.0</td>\n",
       "      <td>0.0</td>\n",
       "      <td>1.0</td>\n",
       "      <td>1.0</td>\n",
       "      <td>0.0</td>\n",
       "      <td>0.0</td>\n",
       "      <td>0.0</td>\n",
       "      <td>0.0</td>\n",
       "      <td>1.0</td>\n",
       "      <td>0.0</td>\n",
       "      <td>NaT</td>\n",
       "      <td>NaN</td>\n",
       "      <td>NaN</td>\n",
       "      <td>NaN</td>\n",
       "      <td>NaN</td>\n",
       "    </tr>\n",
       "    <tr>\n",
       "      <th>2</th>\n",
       "      <td>2013-01-01 00:30:00</td>\n",
       "      <td>11</td>\n",
       "      <td>11.704545</td>\n",
       "      <td>654.545455</td>\n",
       "      <td>0.0</td>\n",
       "      <td>0.0</td>\n",
       "      <td>1.0</td>\n",
       "      <td>1.0</td>\n",
       "      <td>0.0</td>\n",
       "      <td>0.0</td>\n",
       "      <td>0.0</td>\n",
       "      <td>0.0</td>\n",
       "      <td>1.0</td>\n",
       "      <td>0.0</td>\n",
       "      <td>NaT</td>\n",
       "      <td>NaN</td>\n",
       "      <td>NaN</td>\n",
       "      <td>NaN</td>\n",
       "      <td>NaN</td>\n",
       "    </tr>\n",
       "    <tr>\n",
       "      <th>4443</th>\n",
       "      <td>2013-02-22 05:00:00</td>\n",
       "      <td>1</td>\n",
       "      <td>3.250000</td>\n",
       "      <td>NaN</td>\n",
       "      <td>0.0</td>\n",
       "      <td>0.0</td>\n",
       "      <td>1.0</td>\n",
       "      <td>1.0</td>\n",
       "      <td>0.0</td>\n",
       "      <td>0.0</td>\n",
       "      <td>0.0</td>\n",
       "      <td>0.0</td>\n",
       "      <td>0.0</td>\n",
       "      <td>0.0</td>\n",
       "      <td>2013-02-22 05:00:00</td>\n",
       "      <td>3.166667</td>\n",
       "      <td>24.000000</td>\n",
       "      <td>86.333333</td>\n",
       "      <td>0.01</td>\n",
       "    </tr>\n",
       "    <tr>\n",
       "      <th>19429</th>\n",
       "      <td>2013-08-07 03:00:00</td>\n",
       "      <td>1</td>\n",
       "      <td>NaN</td>\n",
       "      <td>660.000000</td>\n",
       "      <td>0.0</td>\n",
       "      <td>1.0</td>\n",
       "      <td>0.0</td>\n",
       "      <td>1.0</td>\n",
       "      <td>0.0</td>\n",
       "      <td>0.0</td>\n",
       "      <td>0.0</td>\n",
       "      <td>0.0</td>\n",
       "      <td>0.0</td>\n",
       "      <td>1.0</td>\n",
       "      <td>2013-08-07 03:00:00</td>\n",
       "      <td>8.000000</td>\n",
       "      <td>71.250000</td>\n",
       "      <td>91.000000</td>\n",
       "      <td>0.00</td>\n",
       "    </tr>\n",
       "    <tr>\n",
       "      <th>33934</th>\n",
       "      <td>2014-01-13 00:30:00</td>\n",
       "      <td>1</td>\n",
       "      <td>3.250000</td>\n",
       "      <td>NaN</td>\n",
       "      <td>0.0</td>\n",
       "      <td>0.0</td>\n",
       "      <td>1.0</td>\n",
       "      <td>1.0</td>\n",
       "      <td>1.0</td>\n",
       "      <td>0.0</td>\n",
       "      <td>0.0</td>\n",
       "      <td>0.0</td>\n",
       "      <td>0.0</td>\n",
       "      <td>0.0</td>\n",
       "      <td>2014-01-13 00:30:00</td>\n",
       "      <td>10.000000</td>\n",
       "      <td>37.000000</td>\n",
       "      <td>62.000000</td>\n",
       "      <td>0.00</td>\n",
       "    </tr>\n",
       "    <tr>\n",
       "      <th>90443</th>\n",
       "      <td>2015-09-22 00:15:00</td>\n",
       "      <td>1</td>\n",
       "      <td>0.000000</td>\n",
       "      <td>NaN</td>\n",
       "      <td>0.0</td>\n",
       "      <td>0.0</td>\n",
       "      <td>0.0</td>\n",
       "      <td>1.0</td>\n",
       "      <td>0.0</td>\n",
       "      <td>0.0</td>\n",
       "      <td>0.0</td>\n",
       "      <td>0.0</td>\n",
       "      <td>1.0</td>\n",
       "      <td>0.0</td>\n",
       "      <td>2015-09-22 00:15:00</td>\n",
       "      <td>9.666667</td>\n",
       "      <td>55.666667</td>\n",
       "      <td>93.000000</td>\n",
       "      <td>0.00</td>\n",
       "    </tr>\n",
       "    <tr>\n",
       "      <th>94138</th>\n",
       "      <td>2015-11-02 02:45:00</td>\n",
       "      <td>1</td>\n",
       "      <td>3.250000</td>\n",
       "      <td>NaN</td>\n",
       "      <td>0.0</td>\n",
       "      <td>0.0</td>\n",
       "      <td>0.0</td>\n",
       "      <td>1.0</td>\n",
       "      <td>1.0</td>\n",
       "      <td>0.0</td>\n",
       "      <td>0.0</td>\n",
       "      <td>0.0</td>\n",
       "      <td>0.0</td>\n",
       "      <td>0.0</td>\n",
       "      <td>2015-11-02 02:45:00</td>\n",
       "      <td>10.000000</td>\n",
       "      <td>48.000000</td>\n",
       "      <td>77.000000</td>\n",
       "      <td>0.00</td>\n",
       "    </tr>\n",
       "    <tr>\n",
       "      <th>94486</th>\n",
       "      <td>2015-11-06 02:45:00</td>\n",
       "      <td>1</td>\n",
       "      <td>3.250000</td>\n",
       "      <td>NaN</td>\n",
       "      <td>0.0</td>\n",
       "      <td>0.0</td>\n",
       "      <td>0.0</td>\n",
       "      <td>1.0</td>\n",
       "      <td>0.0</td>\n",
       "      <td>0.0</td>\n",
       "      <td>0.0</td>\n",
       "      <td>0.0</td>\n",
       "      <td>0.0</td>\n",
       "      <td>0.0</td>\n",
       "      <td>2015-11-06 02:45:00</td>\n",
       "      <td>10.000000</td>\n",
       "      <td>55.500000</td>\n",
       "      <td>88.500000</td>\n",
       "      <td>0.14</td>\n",
       "    </tr>\n",
       "  </tbody>\n",
       "</table>\n",
       "</div>"
      ],
      "text/plain": [
       "               Trip_Start  Trip Miles  Trip Total  Trip Seconds  \\\n",
       "0     2013-01-01 00:00:00          10   10.665000    396.000000   \n",
       "1     2013-01-01 00:15:00          20   11.174500    630.000000   \n",
       "2     2013-01-01 00:30:00          11   11.704545    654.545455   \n",
       "4443  2013-02-22 05:00:00           1    3.250000           NaN   \n",
       "19429 2013-08-07 03:00:00           1         NaN    660.000000   \n",
       "33934 2014-01-13 00:30:00           1    3.250000           NaN   \n",
       "90443 2015-09-22 00:15:00           1    0.000000           NaN   \n",
       "94138 2015-11-02 02:45:00           1    3.250000           NaN   \n",
       "94486 2015-11-06 02:45:00           1    3.250000           NaN   \n",
       "\n",
       "       season[T.Spring]  season[T.Summer]  season[T.Winter]  Intercept  \\\n",
       "0                   0.0               0.0               1.0        1.0   \n",
       "1                   0.0               0.0               1.0        1.0   \n",
       "2                   0.0               0.0               1.0        1.0   \n",
       "4443                0.0               0.0               1.0        1.0   \n",
       "19429               0.0               1.0               0.0        1.0   \n",
       "33934               0.0               0.0               1.0        1.0   \n",
       "90443               0.0               0.0               0.0        1.0   \n",
       "94138               0.0               0.0               0.0        1.0   \n",
       "94486               0.0               0.0               0.0        1.0   \n",
       "\n",
       "       Day[T.Monday]  Day[T.Saturday]  Day[T.Sunday]  Day[T.Thursday]  \\\n",
       "0                0.0              0.0            0.0              0.0   \n",
       "1                0.0              0.0            0.0              0.0   \n",
       "2                0.0              0.0            0.0              0.0   \n",
       "4443             0.0              0.0            0.0              0.0   \n",
       "19429            0.0              0.0            0.0              0.0   \n",
       "33934            1.0              0.0            0.0              0.0   \n",
       "90443            0.0              0.0            0.0              0.0   \n",
       "94138            1.0              0.0            0.0              0.0   \n",
       "94486            0.0              0.0            0.0              0.0   \n",
       "\n",
       "       Day[T.Tuesday]  Day[T.Wednesday]            DateTime        Vis  \\\n",
       "0                 1.0               0.0                 NaT        NaN   \n",
       "1                 1.0               0.0                 NaT        NaN   \n",
       "2                 1.0               0.0                 NaT        NaN   \n",
       "4443              0.0               0.0 2013-02-22 05:00:00   3.166667   \n",
       "19429             0.0               1.0 2013-08-07 03:00:00   8.000000   \n",
       "33934             0.0               0.0 2014-01-13 00:30:00  10.000000   \n",
       "90443             1.0               0.0 2015-09-22 00:15:00   9.666667   \n",
       "94138             0.0               0.0 2015-11-02 02:45:00  10.000000   \n",
       "94486             0.0               0.0 2015-11-06 02:45:00  10.000000   \n",
       "\n",
       "            Temp   Humidity  Precip  \n",
       "0            NaN        NaN     NaN  \n",
       "1            NaN        NaN     NaN  \n",
       "2            NaN        NaN     NaN  \n",
       "4443   24.000000  86.333333    0.01  \n",
       "19429  71.250000  91.000000    0.00  \n",
       "33934  37.000000  62.000000    0.00  \n",
       "90443  55.666667  93.000000    0.00  \n",
       "94138  48.000000  77.000000    0.00  \n",
       "94486  55.500000  88.500000    0.14  "
      ]
     },
     "execution_count": 85,
     "metadata": {},
     "output_type": "execute_result"
    }
   ],
   "source": [
    "nans = lambda df: df[df.isnull().any(axis=1)]\n",
    "nans(df_weather)"
   ]
  },
  {
   "cell_type": "markdown",
   "metadata": {},
   "source": [
    "## Time Series Analysis"
   ]
  },
  {
   "cell_type": "code",
   "execution_count": 87,
   "metadata": {},
   "outputs": [],
   "source": [
    "import requests\n",
    "from io import BytesIO\n",
    "from pandas.tools.plotting import autocorrelation_plot\n",
    "from statsmodels.graphics.tsaplots import plot_acf, plot_pacf"
   ]
  },
  {
   "cell_type": "code",
   "execution_count": 92,
   "metadata": {},
   "outputs": [
    {
     "data": {
      "text/plain": [
       "<matplotlib.axes._subplots.AxesSubplot at 0x1c18ff34e0>"
      ]
     },
     "execution_count": 92,
     "metadata": {},
     "output_type": "execute_result"
    },
    {
     "data": {
      "image/png": "[encoded data removed]",
      "text/plain": [
       "<matplotlib.figure.Figure at 0x1c19005c50>"
      ]
     },
     "metadata": {},
     "output_type": "display_data"
    }
   ],
   "source": [
    "plt.figure(dpi=200)\n",
    "df_weather.Count_Trips.plot()"
   ]
  },
  {
   "cell_type": "code",
   "execution_count": 93,
   "metadata": {},
   "outputs": [
    {
     "name": "stdout",
     "output_type": "stream",
     "text": [
      "14.91918256440444\n",
      "5.687013518029959\n",
      "9.558397959278853\n",
      "17.3919855501549\n"
     ]
    }
   ],
   "source": [
    "print(df_weather.Count_Trips.std())\n",
    "print(df_weather.Count_Trips.diff().std()) \n",
    "print(df_weather.Count_Trips.diff().diff().std())\n",
    "print(df_weather.Count_Trips.diff().diff().diff().std())"
   ]
  },
  {
   "cell_type": "code",
   "execution_count": 94,
   "metadata": {},
   "outputs": [
    {
     "name": "stdout",
     "output_type": "stream",
     "text": [
      "Figure(1600x1100)\n",
      "Figure(1600x1100)\n"
     ]
    },
    {
     "data": {
      "image/png": "[encoded data removed]",
      "text/plain": [
       "<matplotlib.figure.Figure at 0x10a34a9e8>"
      ]
     },
     "metadata": {},
     "output_type": "display_data"
    },
    {
     "data": {
      "image/png": "[encoded data removed]",
      "text/plain": [
       "<matplotlib.figure.Figure at 0x111ace160>"
      ]
     },
     "metadata": {},
     "output_type": "display_data"
    }
   ],
   "source": [
    "fig = plt.figure(dpi=200)\n",
    "ax = plt.gca()\n",
    "print(plot_acf(df_weather.Count_Trips, lags=4*24, ax=ax)) \n",
    "fig = plt.figure(dpi=200)\n",
    "ax = plt.gca()\n",
    "print(plot_pacf(df_weather.Count_Trips, lags=4*24, ax=ax))"
   ]
  },
  {
   "cell_type": "code",
   "execution_count": 95,
   "metadata": {},
   "outputs": [],
   "source": [
    "# Add columns of 5 previous periods, future period, and a day prior\n",
    "df_weather['L'] = df_weather.shift(1).Count_Trips\n",
    "df_weather['2L'] = df_weather.shift(2).Count_Trips\n",
    "df_weather['3L'] = df_weather.shift(3).Count_Trips\n",
    "df_weather['4L'] = df_weather.shift(4).Count_Trips\n",
    "df_weather['5L'] = df_weather.shift(5).Count_Trips\n",
    "df_weather['-L'] = df_weather.shift(-1).Count_Trips\n",
    "df_weather['D'] = df_weather.shift(96).Count_Trips"
   ]
  },
  {
   "cell_type": "code",
   "execution_count": 98,
   "metadata": {},
   "outputs": [],
   "source": [
    "# Drop the NaN's \n",
    "df_weather.dropna(inplace=True)"
   ]
  },
  {
   "cell_type": "code",
   "execution_count": 99,
   "metadata": {
    "scrolled": false
   },
   "outputs": [
    {
     "data": {
      "text/html": [
       "<div>\n",
       "<style scoped>\n",
       "    .dataframe tbody tr th:only-of-type {\n",
       "        vertical-align: middle;\n",
       "    }\n",
       "\n",
       "    .dataframe tbody tr th {\n",
       "        vertical-align: top;\n",
       "    }\n",
       "\n",
       "    .dataframe thead th {\n",
       "        text-align: right;\n",
       "    }\n",
       "</style>\n",
       "<table border=\"1\" class=\"dataframe\">\n",
       "  <thead>\n",
       "    <tr style=\"text-align: right;\">\n",
       "      <th></th>\n",
       "      <th>Trip_Start</th>\n",
       "      <th>Count_Trips</th>\n",
       "      <th>Trip Total</th>\n",
       "      <th>Trip Seconds</th>\n",
       "      <th>season[T.Spring]</th>\n",
       "      <th>season[T.Summer]</th>\n",
       "      <th>season[T.Winter]</th>\n",
       "      <th>Intercept</th>\n",
       "      <th>Day[T.Monday]</th>\n",
       "      <th>Day[T.Saturday]</th>\n",
       "      <th>...</th>\n",
       "      <th>Temp</th>\n",
       "      <th>Humidity</th>\n",
       "      <th>Precip</th>\n",
       "      <th>L</th>\n",
       "      <th>2L</th>\n",
       "      <th>3L</th>\n",
       "      <th>4L</th>\n",
       "      <th>5L</th>\n",
       "      <th>-L</th>\n",
       "      <th>D</th>\n",
       "    </tr>\n",
       "  </thead>\n",
       "  <tbody>\n",
       "    <tr>\n",
       "      <th>96</th>\n",
       "      <td>2013-01-02 01:15:00</td>\n",
       "      <td>2</td>\n",
       "      <td>10.750000</td>\n",
       "      <td>510.000000</td>\n",
       "      <td>0.0</td>\n",
       "      <td>0.0</td>\n",
       "      <td>1.0</td>\n",
       "      <td>1.0</td>\n",
       "      <td>0.0</td>\n",
       "      <td>0.0</td>\n",
       "      <td>...</td>\n",
       "      <td>9.0</td>\n",
       "      <td>70.000000</td>\n",
       "      <td>0.0</td>\n",
       "      <td>3.0</td>\n",
       "      <td>3.0</td>\n",
       "      <td>2.0</td>\n",
       "      <td>1.0</td>\n",
       "      <td>5.0</td>\n",
       "      <td>1.0</td>\n",
       "      <td>10.0</td>\n",
       "    </tr>\n",
       "    <tr>\n",
       "      <th>97</th>\n",
       "      <td>2013-01-02 01:30:00</td>\n",
       "      <td>1</td>\n",
       "      <td>14.450000</td>\n",
       "      <td>840.000000</td>\n",
       "      <td>0.0</td>\n",
       "      <td>0.0</td>\n",
       "      <td>1.0</td>\n",
       "      <td>1.0</td>\n",
       "      <td>0.0</td>\n",
       "      <td>0.0</td>\n",
       "      <td>...</td>\n",
       "      <td>9.0</td>\n",
       "      <td>71.500000</td>\n",
       "      <td>0.0</td>\n",
       "      <td>2.0</td>\n",
       "      <td>3.0</td>\n",
       "      <td>3.0</td>\n",
       "      <td>2.0</td>\n",
       "      <td>1.0</td>\n",
       "      <td>1.0</td>\n",
       "      <td>20.0</td>\n",
       "    </tr>\n",
       "    <tr>\n",
       "      <th>98</th>\n",
       "      <td>2013-01-02 01:45:00</td>\n",
       "      <td>1</td>\n",
       "      <td>10.650000</td>\n",
       "      <td>600.000000</td>\n",
       "      <td>0.0</td>\n",
       "      <td>0.0</td>\n",
       "      <td>1.0</td>\n",
       "      <td>1.0</td>\n",
       "      <td>0.0</td>\n",
       "      <td>0.0</td>\n",
       "      <td>...</td>\n",
       "      <td>9.0</td>\n",
       "      <td>73.000000</td>\n",
       "      <td>0.0</td>\n",
       "      <td>1.0</td>\n",
       "      <td>2.0</td>\n",
       "      <td>3.0</td>\n",
       "      <td>3.0</td>\n",
       "      <td>2.0</td>\n",
       "      <td>7.0</td>\n",
       "      <td>11.0</td>\n",
       "    </tr>\n",
       "    <tr>\n",
       "      <th>99</th>\n",
       "      <td>2013-01-02 02:00:00</td>\n",
       "      <td>7</td>\n",
       "      <td>7.507143</td>\n",
       "      <td>377.142857</td>\n",
       "      <td>0.0</td>\n",
       "      <td>0.0</td>\n",
       "      <td>1.0</td>\n",
       "      <td>1.0</td>\n",
       "      <td>0.0</td>\n",
       "      <td>0.0</td>\n",
       "      <td>...</td>\n",
       "      <td>9.0</td>\n",
       "      <td>72.666667</td>\n",
       "      <td>0.0</td>\n",
       "      <td>1.0</td>\n",
       "      <td>1.0</td>\n",
       "      <td>2.0</td>\n",
       "      <td>3.0</td>\n",
       "      <td>3.0</td>\n",
       "      <td>1.0</td>\n",
       "      <td>15.0</td>\n",
       "    </tr>\n",
       "    <tr>\n",
       "      <th>100</th>\n",
       "      <td>2013-01-02 02:15:00</td>\n",
       "      <td>1</td>\n",
       "      <td>11.650000</td>\n",
       "      <td>600.000000</td>\n",
       "      <td>0.0</td>\n",
       "      <td>0.0</td>\n",
       "      <td>1.0</td>\n",
       "      <td>1.0</td>\n",
       "      <td>0.0</td>\n",
       "      <td>0.0</td>\n",
       "      <td>...</td>\n",
       "      <td>9.0</td>\n",
       "      <td>72.333333</td>\n",
       "      <td>0.0</td>\n",
       "      <td>7.0</td>\n",
       "      <td>1.0</td>\n",
       "      <td>1.0</td>\n",
       "      <td>2.0</td>\n",
       "      <td>3.0</td>\n",
       "      <td>3.0</td>\n",
       "      <td>18.0</td>\n",
       "    </tr>\n",
       "  </tbody>\n",
       "</table>\n",
       "<p>5 rows × 26 columns</p>\n",
       "</div>"
      ],
      "text/plain": [
       "             Trip_Start  Count_Trips  Trip Total  Trip Seconds  \\\n",
       "96  2013-01-02 01:15:00            2   10.750000    510.000000   \n",
       "97  2013-01-02 01:30:00            1   14.450000    840.000000   \n",
       "98  2013-01-02 01:45:00            1   10.650000    600.000000   \n",
       "99  2013-01-02 02:00:00            7    7.507143    377.142857   \n",
       "100 2013-01-02 02:15:00            1   11.650000    600.000000   \n",
       "\n",
       "     season[T.Spring]  season[T.Summer]  season[T.Winter]  Intercept  \\\n",
       "96                0.0               0.0               1.0        1.0   \n",
       "97                0.0               0.0               1.0        1.0   \n",
       "98                0.0               0.0               1.0        1.0   \n",
       "99                0.0               0.0               1.0        1.0   \n",
       "100               0.0               0.0               1.0        1.0   \n",
       "\n",
       "     Day[T.Monday]  Day[T.Saturday]  ...   Temp   Humidity  Precip    L   2L  \\\n",
       "96             0.0              0.0  ...    9.0  70.000000     0.0  3.0  3.0   \n",
       "97             0.0              0.0  ...    9.0  71.500000     0.0  2.0  3.0   \n",
       "98             0.0              0.0  ...    9.0  73.000000     0.0  1.0  2.0   \n",
       "99             0.0              0.0  ...    9.0  72.666667     0.0  1.0  1.0   \n",
       "100            0.0              0.0  ...    9.0  72.333333     0.0  7.0  1.0   \n",
       "\n",
       "      3L   4L   5L   -L     D  \n",
       "96   2.0  1.0  5.0  1.0  10.0  \n",
       "97   3.0  2.0  1.0  1.0  20.0  \n",
       "98   3.0  3.0  2.0  7.0  11.0  \n",
       "99   2.0  3.0  3.0  1.0  15.0  \n",
       "100  1.0  2.0  3.0  3.0  18.0  \n",
       "\n",
       "[5 rows x 26 columns]"
      ]
     },
     "execution_count": 99,
     "metadata": {},
     "output_type": "execute_result"
    }
   ],
   "source": [
    "df_weather.head(5)"
   ]
  },
  {
   "cell_type": "code",
   "execution_count": 157,
   "metadata": {},
   "outputs": [],
   "source": [
    "df_weather.to_pickle('TimeSeries.pkl')"
   ]
  },
  {
   "cell_type": "code",
   "execution_count": 102,
   "metadata": {},
   "outputs": [
    {
     "name": "stderr",
     "output_type": "stream",
     "text": [
      "/anaconda3/lib/python3.6/site-packages/sklearn/cross_validation.py:41: DeprecationWarning: This module was deprecated in version 0.18 in favor of the model_selection module into which all the refactored classes and functions are moved. Also note that the interface of the new CV iterators are different from that of this module. This module will be removed in 0.20.\n",
      "  \"This module will be removed in 0.20.\", DeprecationWarning)\n"
     ]
    }
   ],
   "source": [
    "from sklearn.preprocessing import StandardScaler\n",
    "from sklearn.linear_model import LinearRegression\n",
    "from sklearn.cross_validation import train_test_split\n",
    "from sklearn import metrics\n",
    "from sklearn.model_selection import cross_val_score, KFold\n",
    "from sklearn.pipeline import make_pipeline\n",
    "from sklearn.preprocessing import PolynomialFeatures\n",
    "from sklearn.linear_model import Ridge, Lasso\n",
    "from sklearn.model_selection import GridSearchCV\n",
    "from sklearn.metrics import mean_squared_error"
   ]
  },
  {
   "cell_type": "code",
   "execution_count": 105,
   "metadata": {},
   "outputs": [],
   "source": [
    "df_weather.set_index('Trip_Start',inplace=True)"
   ]
  },
  {
   "cell_type": "code",
   "execution_count": 127,
   "metadata": {},
   "outputs": [],
   "source": [
    "df_weather.drop(columns = {'Intercept','DateTime'},inplace=True)"
   ]
  },
  {
   "cell_type": "code",
   "execution_count": 128,
   "metadata": {},
   "outputs": [
    {
     "data": {
      "text/plain": [
       "Index(['Count_Trips', 'Trip Total', 'Trip Seconds', 'season[T.Spring]',\n",
       "       'season[T.Summer]', 'season[T.Winter]', 'Day[T.Monday]',\n",
       "       'Day[T.Saturday]', 'Day[T.Sunday]', 'Day[T.Thursday]', 'Day[T.Tuesday]',\n",
       "       'Day[T.Wednesday]', 'Vis', 'Temp', 'Humidity', 'Precip', 'L', '2L',\n",
       "       '3L', '4L', '5L', '-L', 'D'],\n",
       "      dtype='object')"
      ]
     },
     "execution_count": 128,
     "metadata": {},
     "output_type": "execute_result"
    }
   ],
   "source": [
    "df_weather.columns"
   ]
  },
  {
   "cell_type": "markdown",
   "metadata": {},
   "source": [
    "## Build a model on total dollar"
   ]
  },
  {
   "cell_type": "code",
   "execution_count": 57,
   "metadata": {},
   "outputs": [],
   "source": [
    "y2 = df_analysis['Trip Total']\n",
    "X_train, X_test, y2_train, y2_test = train_test_split(X, y2, test_size = 0.2, random_state=42)"
   ]
  },
  {
   "cell_type": "code",
   "execution_count": 58,
   "metadata": {},
   "outputs": [
    {
     "data": {
      "text/plain": [
       "LinearRegression(copy_X=True, fit_intercept=True, n_jobs=1, normalize=False)"
      ]
     },
     "execution_count": 58,
     "metadata": {},
     "output_type": "execute_result"
    }
   ],
   "source": [
    "model2 = LinearRegression()\n",
    "model2.fit(X_train_scaled, y2_train)"
   ]
  },
  {
   "cell_type": "code",
   "execution_count": 59,
   "metadata": {},
   "outputs": [],
   "source": [
    "ym_predict = model2.predict(X_test_scaled)"
   ]
  },
  {
   "cell_type": "code",
   "execution_count": 60,
   "metadata": {},
   "outputs": [
    {
     "name": "stdout",
     "output_type": "stream",
     "text": [
      "RSquared Score is:  0.0530177054654255\n"
     ]
    }
   ],
   "source": [
    "print(\"RSquared Score is: \", str(model2.score(X_train_scaled,y2_train)))"
   ]
  },
  {
   "cell_type": "code",
   "execution_count": 61,
   "metadata": {},
   "outputs": [
    {
     "data": {
      "text/plain": [
       "0.09380834764315171"
      ]
     },
     "execution_count": 61,
     "metadata": {},
     "output_type": "execute_result"
    }
   ],
   "source": [
    "model2.score(X_test_scaled, y2_test)"
   ]
  },
  {
   "cell_type": "code",
   "execution_count": 62,
   "metadata": {
    "scrolled": true
   },
   "outputs": [
    {
     "name": "stdout",
     "output_type": "stream",
     "text": [
      "The training score is: -16.17642556869336\n"
     ]
    }
   ],
   "source": [
    "print(\"The training score is: \" + str(sum(train_scores(model2)[\"train\"])/len(train_scores(model2)[\"train\"])))"
   ]
  },
  {
   "cell_type": "code",
   "execution_count": 63,
   "metadata": {},
   "outputs": [
    {
     "data": {
      "text/plain": [
       "3.8346274281791253"
      ]
     },
     "execution_count": 63,
     "metadata": {},
     "output_type": "execute_result"
    }
   ],
   "source": [
    "np.sqrt(mean_squared_error(y2_test, ym_predict))"
   ]
  },
  {
   "cell_type": "code",
   "execution_count": 5,
   "metadata": {},
   "outputs": [],
   "source": [
    "# open the pickle file\n",
    "with open ('Weather_updated.pkl', 'rb') as file:\n",
    "    weather = pickle.load(file)"
   ]
  },
  {
   "cell_type": "code",
   "execution_count": 73,
   "metadata": {
    "scrolled": true
   },
   "outputs": [],
   "source": [
    "weather.rename(columns = {'DateTime':'Time'},inplace=True)"
   ]
  },
  {
   "cell_type": "code",
   "execution_count": 77,
   "metadata": {},
   "outputs": [
    {
     "data": {
      "text/html": [
       "<div>\n",
       "<style scoped>\n",
       "    .dataframe tbody tr th:only-of-type {\n",
       "        vertical-align: middle;\n",
       "    }\n",
       "\n",
       "    .dataframe tbody tr th {\n",
       "        vertical-align: top;\n",
       "    }\n",
       "\n",
       "    .dataframe thead th {\n",
       "        text-align: right;\n",
       "    }\n",
       "</style>\n",
       "<table border=\"1\" class=\"dataframe\">\n",
       "  <thead>\n",
       "    <tr style=\"text-align: right;\">\n",
       "      <th></th>\n",
       "      <th>DateTime</th>\n",
       "      <th>Vis</th>\n",
       "      <th>Temp</th>\n",
       "      <th>Humidity</th>\n",
       "      <th>Precip</th>\n",
       "    </tr>\n",
       "  </thead>\n",
       "  <tbody>\n",
       "    <tr>\n",
       "      <th>0</th>\n",
       "      <td>2013-01-01 00:45:00</td>\n",
       "      <td>10.0</td>\n",
       "      <td>17.00</td>\n",
       "      <td>62.0</td>\n",
       "      <td>0.0</td>\n",
       "    </tr>\n",
       "    <tr>\n",
       "      <th>1</th>\n",
       "      <td>2013-01-01 01:00:00</td>\n",
       "      <td>10.0</td>\n",
       "      <td>16.75</td>\n",
       "      <td>62.0</td>\n",
       "      <td>0.0</td>\n",
       "    </tr>\n",
       "    <tr>\n",
       "      <th>2</th>\n",
       "      <td>2013-01-01 01:15:00</td>\n",
       "      <td>10.0</td>\n",
       "      <td>16.50</td>\n",
       "      <td>62.0</td>\n",
       "      <td>0.0</td>\n",
       "    </tr>\n",
       "    <tr>\n",
       "      <th>3</th>\n",
       "      <td>2013-01-01 01:30:00</td>\n",
       "      <td>10.0</td>\n",
       "      <td>16.25</td>\n",
       "      <td>62.0</td>\n",
       "      <td>0.0</td>\n",
       "    </tr>\n",
       "    <tr>\n",
       "      <th>4</th>\n",
       "      <td>2013-01-01 01:45:00</td>\n",
       "      <td>10.0</td>\n",
       "      <td>16.00</td>\n",
       "      <td>62.0</td>\n",
       "      <td>0.0</td>\n",
       "    </tr>\n",
       "  </tbody>\n",
       "</table>\n",
       "</div>"
      ],
      "text/plain": [
       "             DateTime   Vis   Temp  Humidity  Precip\n",
       "0 2013-01-01 00:45:00  10.0  17.00      62.0     0.0\n",
       "1 2013-01-01 01:00:00  10.0  16.75      62.0     0.0\n",
       "2 2013-01-01 01:15:00  10.0  16.50      62.0     0.0\n",
       "3 2013-01-01 01:30:00  10.0  16.25      62.0     0.0\n",
       "4 2013-01-01 01:45:00  10.0  16.00      62.0     0.0"
      ]
     },
     "execution_count": 77,
     "metadata": {},
     "output_type": "execute_result"
    }
   ],
   "source": [
    "weather.head(5)"
   ]
  },
  {
   "cell_type": "code",
   "execution_count": 76,
   "metadata": {},
   "outputs": [],
   "source": [
    "weather = weather.reset_index()"
   ]
  },
  {
   "cell_type": "code",
   "execution_count": null,
   "metadata": {},
   "outputs": [],
   "source": []
  }
 ],
 "metadata": {
  "kernelspec": {
   "display_name": "Python 3",
   "language": "python",
   "name": "python3"
  },
  "language_info": {
   "codemirror_mode": {
    "name": "ipython",
    "version": 3
   },
   "file_extension": ".py",
   "mimetype": "text/x-python",
   "name": "python",
   "nbconvert_exporter": "python",
   "pygments_lexer": "ipython3",
   "version": "3.6.5"
  }
 },
 "nbformat": 4,
 "nbformat_minor": 2
}
