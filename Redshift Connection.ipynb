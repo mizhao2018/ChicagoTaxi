{
 "cells": [
  {
   "cell_type": "code",
   "execution_count": 76,
   "metadata": {},
   "outputs": [],
   "source": [
    "import psycopg2"
   ]
  },
  {
   "cell_type": "code",
   "execution_count": 77,
   "metadata": {},
   "outputs": [],
   "source": [
    "con = psycopg2.connect(dbname = 'mydb', host = 'chitaxi.cnvpeu6za5fz.us-east-2.redshift.amazonaws.com', \n",
    "                       port = 5439, user = 'rzhao' , password = 'Metis_2018' )"
   ]
  },
  {
   "cell_type": "code",
   "execution_count": 78,
   "metadata": {},
   "outputs": [],
   "source": [
    "cur = con.cursor()"
   ]
  },
  {
   "cell_type": "code",
   "execution_count": 70,
   "metadata": {
    "scrolled": true
   },
   "outputs": [],
   "source": [
    "sql_command = \"\"\"CREATE TABLE taxi_ride1(\n",
    "    Trip_ID VARCHAR(50),\n",
    "    Taxi_ID VARCHAR(180),\n",
    "    Trip_Start TIMESTAMP,\n",
    "    Trip_End TIMESTAMP,\n",
    "    Trip_Duration INT,\n",
    "    Trip_Length DECIMAL(8,2),\n",
    "    Pickup_Tract BIGINT,\n",
    "    Dropoff_Tract BIGINT,\n",
    "    Pickup_Community INT,\n",
    "    Dropoff_Community INT,\n",
    "    Fare VARCHAR,\n",
    "    Tips VARCHAR,\n",
    "    Tolls VARCHAR,\n",
    "    Extras VARCHAR,\n",
    "    Trip_Total VARCHAR,\n",
    "    Payment_Type VARCHAR,\n",
    "    Pickup_Lat VARCHAR,\n",
    "    Pickup_Lon VARCHAR,\n",
    "    Dropoff_Lat VARCHAR,\n",
    "    Dropoff_Lon VARCHAR,\n",
    "    Dropoff_Loc VARCHAR,\n",
    "    Community_Areas INT);\"\"\"\n"
   ]
  },
  {
   "cell_type": "code",
   "execution_count": 71,
   "metadata": {},
   "outputs": [],
   "source": [
    "\n",
    "cur.execute(sql_command)"
   ]
  },
  {
   "cell_type": "code",
   "execution_count": 72,
   "metadata": {},
   "outputs": [],
   "source": [
    "cur.execute(\"commit;\")"
   ]
  },
  {
   "cell_type": "code",
   "execution_count": 73,
   "metadata": {},
   "outputs": [],
   "source": [
    "query = \"\"\"COPY taxi_ride1 from 's3://chicagotaxi/Taxi_Trips_Updated.csv'\n",
    "credentials 'aws_iam_role=arn:aws:iam::020116439671:role/myRedshiftRole' \n",
    "IGNOREHEADER 1\n",
    "MAXERROR 1000\n",
    "delimiter ',' region 'us-east-2'\n",
    "TIMEFORMAT AS 'MM/DD/YYYY HH12:MI:SS PM'\"\"\""
   ]
  },
  {
   "cell_type": "code",
   "execution_count": 74,
   "metadata": {
    "scrolled": true
   },
   "outputs": [
    {
     "ename": "OperationalError",
     "evalue": "server closed the connection unexpectedly\n\tThis probably means the server terminated abnormally\n\tbefore or while processing the request.\n",
     "output_type": "error",
     "traceback": [
      "\u001b[0;31m---------------------------------------------------------------------------\u001b[0m",
      "\u001b[0;31mOperationalError\u001b[0m                          Traceback (most recent call last)",
      "\u001b[0;32m<ipython-input-74-62e23c8ecbae>\u001b[0m in \u001b[0;36m<module>\u001b[0;34m()\u001b[0m\n\u001b[0;32m----> 1\u001b[0;31m \u001b[0mcur\u001b[0m\u001b[0;34m.\u001b[0m\u001b[0mexecute\u001b[0m\u001b[0;34m(\u001b[0m\u001b[0mquery\u001b[0m\u001b[0;34m)\u001b[0m\u001b[0;34m\u001b[0m\u001b[0m\n\u001b[0m",
      "\u001b[0;31mOperationalError\u001b[0m: server closed the connection unexpectedly\n\tThis probably means the server terminated abnormally\n\tbefore or while processing the request.\n"
     ]
    }
   ],
   "source": [
    "cur.execute(query)"
   ]
  },
  {
   "cell_type": "markdown",
   "metadata": {},
   "source": [
    "## To Check for Error"
   ]
  },
  {
   "cell_type": "code",
   "execution_count": 62,
   "metadata": {},
   "outputs": [],
   "source": [
    "errorquery1 = \"\"\"select starttime, filename, err_reason, line_number,\n",
    "  colname, type, col_length, position, raw_field_value,\n",
    "  raw_line, err_code\n",
    "from stl_load_errors\n",
    "order by starttime desc limit 5000;\"\"\""
   ]
  },
  {
   "cell_type": "code",
   "execution_count": 63,
   "metadata": {},
   "outputs": [],
   "source": [
    "cur.execute(errorquery1)"
   ]
  },
  {
   "cell_type": "code",
   "execution_count": 64,
   "metadata": {},
   "outputs": [],
   "source": [
    "error = cur.fetchall()"
   ]
  },
  {
   "cell_type": "code",
   "execution_count": 65,
   "metadata": {
    "scrolled": true
   },
   "outputs": [],
   "source": [
    "df = pd.DataFrame(error, columns = \"\"\"starttime, filename, err_reason, line_number,\n",
    "  colname, type, col_length, position, raw_field_value,\n",
    "  raw_line, err_code\"\"\".split(\",\"))"
   ]
  },
  {
   "cell_type": "code",
   "execution_count": 66,
   "metadata": {},
   "outputs": [],
   "source": [
    "df.to_csv('error_messages.csv')"
   ]
  },
  {
   "cell_type": "markdown",
   "metadata": {},
   "source": [
    "## To Check Original Dataframe"
   ]
  },
  {
   "cell_type": "code",
   "execution_count": 23,
   "metadata": {},
   "outputs": [],
   "source": [
    "import pandas as pd"
   ]
  },
  {
   "cell_type": "code",
   "execution_count": 62,
   "metadata": {},
   "outputs": [],
   "source": [
    "df = pd.read_csv(\"~/Downloads/Taxi_Trips.csv\", nrows=2)"
   ]
  },
  {
   "cell_type": "code",
   "execution_count": 63,
   "metadata": {
    "scrolled": true
   },
   "outputs": [
    {
     "data": {
      "text/html": [
       "<div>\n",
       "<style scoped>\n",
       "    .dataframe tbody tr th:only-of-type {\n",
       "        vertical-align: middle;\n",
       "    }\n",
       "\n",
       "    .dataframe tbody tr th {\n",
       "        vertical-align: top;\n",
       "    }\n",
       "\n",
       "    .dataframe thead th {\n",
       "        text-align: right;\n",
       "    }\n",
       "</style>\n",
       "<table border=\"1\" class=\"dataframe\">\n",
       "  <thead>\n",
       "    <tr style=\"text-align: right;\">\n",
       "      <th></th>\n",
       "      <th>Trip ID</th>\n",
       "      <th>Taxi ID</th>\n",
       "      <th>Trip Start Timestamp</th>\n",
       "      <th>Trip End Timestamp</th>\n",
       "      <th>Trip Seconds</th>\n",
       "      <th>Trip Miles</th>\n",
       "      <th>Pickup Census Tract</th>\n",
       "      <th>Dropoff Census Tract</th>\n",
       "      <th>Pickup Community Area</th>\n",
       "      <th>Dropoff Community Area</th>\n",
       "      <th>...</th>\n",
       "      <th>Trip Total</th>\n",
       "      <th>Payment Type</th>\n",
       "      <th>Company</th>\n",
       "      <th>Pickup Centroid Latitude</th>\n",
       "      <th>Pickup Centroid Longitude</th>\n",
       "      <th>Pickup Centroid Location</th>\n",
       "      <th>Dropoff Centroid Latitude</th>\n",
       "      <th>Dropoff Centroid Longitude</th>\n",
       "      <th>Dropoff Centroid  Location</th>\n",
       "      <th>Community Areas</th>\n",
       "    </tr>\n",
       "  </thead>\n",
       "  <tbody>\n",
       "    <tr>\n",
       "      <th>0</th>\n",
       "      <td>79ca58d6c5aac8dca57ce120ff6e456324584b80</td>\n",
       "      <td>d9a03659c36a939d0b76488394be2b3c8993e4087e2f08...</td>\n",
       "      <td>04/02/2015 09:00:00 AM</td>\n",
       "      <td>04/02/2015 09:00:00 AM</td>\n",
       "      <td>540</td>\n",
       "      <td>1.2</td>\n",
       "      <td>1.703108e+10</td>\n",
       "      <td>1.703128e+10</td>\n",
       "      <td>8</td>\n",
       "      <td>28</td>\n",
       "      <td>...</td>\n",
       "      <td>$7.05</td>\n",
       "      <td>Cash</td>\n",
       "      <td>NaN</td>\n",
       "      <td>41.892073</td>\n",
       "      <td>-87.628874</td>\n",
       "      <td>POINT (-87.6288741572 41.8920726347)</td>\n",
       "      <td>41.879255</td>\n",
       "      <td>-87.642649</td>\n",
       "      <td>POINT (-87.642648998 41.8792550844)</td>\n",
       "      <td>37</td>\n",
       "    </tr>\n",
       "    <tr>\n",
       "      <th>1</th>\n",
       "      <td>79ca594be9229714808cb223965602bae76a072e</td>\n",
       "      <td>3446442418acf44dc1e3556376bd40dd87a22d1f6ceb4a...</td>\n",
       "      <td>12/06/2015 05:30:00 PM</td>\n",
       "      <td>12/06/2015 05:30:00 PM</td>\n",
       "      <td>360</td>\n",
       "      <td>1.6</td>\n",
       "      <td>NaN</td>\n",
       "      <td>NaN</td>\n",
       "      <td>6</td>\n",
       "      <td>6</td>\n",
       "      <td>...</td>\n",
       "      <td>$6.65</td>\n",
       "      <td>Cash</td>\n",
       "      <td>Taxi Affiliation Services</td>\n",
       "      <td>41.944227</td>\n",
       "      <td>-87.655998</td>\n",
       "      <td>POINT (-87.6559981815 41.9442266014)</td>\n",
       "      <td>41.944227</td>\n",
       "      <td>-87.655998</td>\n",
       "      <td>POINT (-87.6559981815 41.9442266014)</td>\n",
       "      <td>57</td>\n",
       "    </tr>\n",
       "  </tbody>\n",
       "</table>\n",
       "<p>2 rows × 24 columns</p>\n",
       "</div>"
      ],
      "text/plain": [
       "                                    Trip ID  \\\n",
       "0  79ca58d6c5aac8dca57ce120ff6e456324584b80   \n",
       "1  79ca594be9229714808cb223965602bae76a072e   \n",
       "\n",
       "                                             Taxi ID    Trip Start Timestamp  \\\n",
       "0  d9a03659c36a939d0b76488394be2b3c8993e4087e2f08...  04/02/2015 09:00:00 AM   \n",
       "1  3446442418acf44dc1e3556376bd40dd87a22d1f6ceb4a...  12/06/2015 05:30:00 PM   \n",
       "\n",
       "       Trip End Timestamp  Trip Seconds  Trip Miles  Pickup Census Tract  \\\n",
       "0  04/02/2015 09:00:00 AM           540         1.2         1.703108e+10   \n",
       "1  12/06/2015 05:30:00 PM           360         1.6                  NaN   \n",
       "\n",
       "   Dropoff Census Tract  Pickup Community Area  Dropoff Community Area  \\\n",
       "0          1.703128e+10                      8                      28   \n",
       "1                   NaN                      6                       6   \n",
       "\n",
       "        ...       Trip Total Payment Type                    Company  \\\n",
       "0       ...            $7.05         Cash                        NaN   \n",
       "1       ...            $6.65         Cash  Taxi Affiliation Services   \n",
       "\n",
       "  Pickup Centroid Latitude Pickup Centroid Longitude  \\\n",
       "0                41.892073                -87.628874   \n",
       "1                41.944227                -87.655998   \n",
       "\n",
       "               Pickup Centroid Location Dropoff Centroid Latitude  \\\n",
       "0  POINT (-87.6288741572 41.8920726347)                 41.879255   \n",
       "1  POINT (-87.6559981815 41.9442266014)                 41.944227   \n",
       "\n",
       "   Dropoff Centroid Longitude            Dropoff Centroid  Location  \\\n",
       "0                  -87.642649   POINT (-87.642648998 41.8792550844)   \n",
       "1                  -87.655998  POINT (-87.6559981815 41.9442266014)   \n",
       "\n",
       "  Community Areas  \n",
       "0              37  \n",
       "1              57  \n",
       "\n",
       "[2 rows x 24 columns]"
      ]
     },
     "execution_count": 63,
     "metadata": {},
     "output_type": "execute_result"
    }
   ],
   "source": [
    "df"
   ]
  },
  {
   "cell_type": "code",
   "execution_count": 65,
   "metadata": {},
   "outputs": [
    {
     "data": {
      "text/plain": [
       "Trip ID                                79ca58d6c5aac8dca57ce120ff6e456324584b80\n",
       "Taxi ID                       d9a03659c36a939d0b76488394be2b3c8993e4087e2f08...\n",
       "Trip Start Timestamp                                     04/02/2015 09:00:00 AM\n",
       "Trip End Timestamp                                       04/02/2015 09:00:00 AM\n",
       "Trip Seconds                                                                540\n",
       "Trip Miles                                                                  1.2\n",
       "Pickup Census Tract                                                 1.70311e+10\n",
       "Dropoff Census Tract                                                1.70313e+10\n",
       "Pickup Community Area                                                         8\n",
       "Dropoff Community Area                                                       28\n",
       "Fare                                                                      $7.05\n",
       "Tips                                                                      $0.00\n",
       "Tolls                                                                     $0.00\n",
       "Extras                                                                    $0.00\n",
       "Trip Total                                                                $7.05\n",
       "Payment Type                                                               Cash\n",
       "Company                                                                     NaN\n",
       "Pickup Centroid Latitude                                                41.8921\n",
       "Pickup Centroid Longitude                                              -87.6289\n",
       "Pickup Centroid Location                   POINT (-87.6288741572 41.8920726347)\n",
       "Dropoff Centroid Latitude                                               41.8793\n",
       "Dropoff Centroid Longitude                                             -87.6426\n",
       "Dropoff Centroid  Location                  POINT (-87.642648998 41.8792550844)\n",
       "Community Areas                                                              37\n",
       "Name: 0, dtype: object"
      ]
     },
     "execution_count": 65,
     "metadata": {},
     "output_type": "execute_result"
    }
   ],
   "source": [
    "df.iloc[0]"
   ]
  },
  {
   "cell_type": "markdown",
   "metadata": {},
   "source": [
    "## Check the first 10 rows of the dataframe"
   ]
  },
  {
   "cell_type": "code",
   "execution_count": 79,
   "metadata": {},
   "outputs": [],
   "source": [
    "cur.execute(\"\"\"SELECT * FROM taxi_ride1 LIMIT 10;\"\"\")"
   ]
  },
  {
   "cell_type": "code",
   "execution_count": 80,
   "metadata": {},
   "outputs": [
    {
     "data": {
      "text/plain": [
       "[]"
      ]
     },
     "execution_count": 80,
     "metadata": {},
     "output_type": "execute_result"
    }
   ],
   "source": [
    "cur.fetchall()"
   ]
  },
  {
   "cell_type": "code",
   "execution_count": null,
   "metadata": {},
   "outputs": [],
   "source": []
  }
 ],
 "metadata": {
  "kernelspec": {
   "display_name": "Python 3",
   "language": "python",
   "name": "python3"
  },
  "language_info": {
   "codemirror_mode": {
    "name": "ipython",
    "version": 3
   },
   "file_extension": ".py",
   "mimetype": "text/x-python",
   "name": "python",
   "nbconvert_exporter": "python",
   "pygments_lexer": "ipython3",
   "version": "3.6.5"
  }
 },
 "nbformat": 4,
 "nbformat_minor": 2
}
